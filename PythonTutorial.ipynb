{
 "cells": [
  {
   "cell_type": "markdown",
   "id": "642b9110",
   "metadata": {},
   "source": [
    "# Python Tutorial\n",
    "\n",
    "Welcome to the Python tutorial! This tutorial is designed to introduce you to the basics of Python programming language. Whether you're completely new to programming or looking to refresh your Python skills, you're in the right place.\n",
    "\n",
    "## Introduction to Python\n",
    "\n",
    "Python is a high-level, interpreted programming language known for its simplicity and readability. It's widely used in various domains including web development, data science, machine learning, artificial intelligence, and more.\n",
    "\n",
    "\n",
    "Guido van Rossum started working on Python in the late 1980s, and the first version of CPython, Python 0.9.0, was released in February 1991. Since then, Guido van Rossum has been the primary author and maintainer of CPython for many years, overseeing its development and evolution into one of the most popular programming languages in the world.\n",
    "\n",
    "CPython continues to be developed and maintained by a community of contributors, with Guido van Rossum's guidance and involvement. It serves as the basis for the Python language specification and is the version of Python most commonly used by developers for building applications, libraries, and frameworks.\n",
    "\n",
    "\n",
    "Overall, Python's success can be attributed to its simplicity, readability, versatility, and active community, making it a preferred language for both beginners and professionals in the world of programming.\n",
    "\n",
    "\n",
    "## Getting Started\n",
    "\n",
    "To begin our Python journey, let's start with some basics:\n",
    "\n",
    "### 1. Hello, World!\n",
    "Let's start with the traditional \"Hello, World!\" program to print a message to the console.\n",
    "\n",
    "\n",
    "\n",
    "\n",
    "\n"
   ]
  },
  {
   "cell_type": "code",
   "execution_count": 1,
   "id": "cf856cd4",
   "metadata": {},
   "outputs": [
    {
     "name": "stdout",
     "output_type": "stream",
     "text": [
      "Hello, World!\n"
     ]
    }
   ],
   "source": [
    "print(\"Hello, World!\")"
   ]
  },
  {
   "cell_type": "markdown",
   "id": "6b8e1b04",
   "metadata": {},
   "source": [
    "### 2. Variables, Data Types and Data structures \n",
    "In Python, variables are used to store data values.\n",
    "\n",
    "Data types in Python refer to the classification of data items, indicating the kind of value that a variable can hold.\n",
    "Python has several built-in data types such as int, float, str, bool\n"
   ]
  },
  {
   "cell_type": "code",
   "execution_count": 2,
   "id": "f2c9df02",
   "metadata": {},
   "outputs": [],
   "source": [
    "# Integer variable\n",
    "age = 45\n",
    "\n",
    "# Float variable\n",
    "height = 5.0\n",
    "\n",
    "# String variable\n",
    "name = \"Vanila Sudeer\"\n",
    "\n",
    "# Boolean variable\n",
    "is_artist = True"
   ]
  },
  {
   "cell_type": "markdown",
   "id": "d1408826",
   "metadata": {},
   "source": [
    "\n",
    "Data structures in Python refer to the way data is organized and stored in memory.\n",
    "lists, tuples, dictionaries, set, strings, byte and byte rrays and ranges  are some of the built-in data structures in Python.\n",
    "\n",
    "Additionally, Python also supports various other data structures through standard libraries and third-party packages, such as arrays, stacks, queues, heaps, trees, graphs, etc. Depending on your specific use case, you can choose the appropriate data structure to store and manipulate your data efficiently"
   ]
  },
  {
   "cell_type": "markdown",
   "id": "b61896ae",
   "metadata": {},
   "source": [
    "### Lists:\n",
    "\n",
    "Lists are ordered collections of items.\n",
    "They are mutable, meaning you can add, remove, or modify elements after the list is created.\n",
    "Lists can contain elements of different data types and data structures.\n"
   ]
  },
  {
   "cell_type": "code",
   "execution_count": 4,
   "id": "52527cd0",
   "metadata": {},
   "outputs": [
    {
     "name": "stdout",
     "output_type": "stream",
     "text": [
      "1\n",
      "2.5\n",
      "three\n",
      "[4, 5, 6]\n",
      "4\n",
      "{'name': 'Vanila', 'age': 43}\n",
      "43\n"
     ]
    }
   ],
   "source": [
    "my_list = [1, 2.5, 'three', [4, 5, 6], {'name': 'Vanila', 'age': 43}]\n",
    "\n",
    "# Accessing elements of the list\n",
    "print(my_list[0])    # Output: 1\n",
    "print(my_list[1])    # Output: 2.5\n",
    "print(my_list[2])    # Output: 'three'\n",
    "print(my_list[3])    # Output: [4, 5, 6]\n",
    "print(my_list[3][0]) # Output: 4 (Accessing element of nested list)\n",
    "print(my_list[4])    # Output: {'name': 'Vanila', 'age': 43}\n",
    "print(my_list[4]['age']) # Output: 43"
   ]
  },
  {
   "cell_type": "markdown",
   "id": "1e680e1e",
   "metadata": {},
   "source": [
    "### Tuples:\n",
    "\n",
    "Tuples are ordered collections of items, similar to lists.\n",
    "However, tuples are **immutable**, meaning once created, you cannot change the elements.\n",
    "Tuples can contain elements of different data types.\n",
    "Even if you have only one item in the tuple, you need to include a comma after the item to indicate that it's a tuple."
   ]
  },
  {
   "cell_type": "code",
   "execution_count": 5,
   "id": "208f6bec",
   "metadata": {},
   "outputs": [],
   "source": [
    "my_tuple = (1, 2, 3)\n",
    "single_item_tuple = (4,) \n",
    "mixed_tuple = (1, 'two', [3, 4], {'five': 5})"
   ]
  },
  {
   "cell_type": "markdown",
   "id": "f854fe64",
   "metadata": {},
   "source": [
    "\n",
    "### Dictionaries:\n",
    "\n",
    "Dictionaries are collections of key-value pairs.\n",
    "They are **unordered**, meaning the order of elements is not guaranteed.\n",
    "Each element in a dictionary consists of a key and its corresponding value.\n",
    "\n",
    "Keys in a dictionary must be unique and immutable (e.g., strings, numbers, tuples).\n",
    "If duplicate keys are provided during dictionary creation, only the last value associated with the duplicate key will be stored."
   ]
  },
  {
   "cell_type": "code",
   "execution_count": 6,
   "id": "2b0561ce",
   "metadata": {},
   "outputs": [],
   "source": [
    "my_dict = {'name': 'Vanila', 'age': 43, 'city': 'Flemington'}\n",
    "my_dict['phone'] = 732  # Adding a new key-value pair\n",
    "del my_dict['age']             # Removing a key-value pair"
   ]
  },
  {
   "cell_type": "markdown",
   "id": "23d4255e",
   "metadata": {},
   "source": [
    "Different ways to iterate through a dictionary and dictionary comprehension "
   ]
  },
  {
   "cell_type": "code",
   "execution_count": 26,
   "id": "e67c54ba",
   "metadata": {},
   "outputs": [
    {
     "name": "stdout",
     "output_type": "stream",
     "text": [
      "name\n",
      "city\n",
      "phone\n",
      "Vanila\n",
      "Flemington\n",
      "732\n",
      "name Vanila\n",
      "city Flemington\n",
      "phone 732\n",
      "['name', 'city', 'phone']\n",
      "['Vanila', 'Flemington', 732]\n",
      "['Vanila', 'Flemington', 732]\n",
      "[('name', 'Vanila'), ('city', 'Flemington'), ('phone', 732)]\n",
      "[('name', 'Vanila'), ('city', 'Flemington'), ('phone', 732)]\n"
     ]
    }
   ],
   "source": [
    "#iterate through keys\n",
    "for key in my_dict:\n",
    "    print(key)\n",
    "#iterate through values\n",
    "for value in my_dict.values():\n",
    "    print(value)\n",
    "#iterate through key,value pairs\n",
    "for key, value in my_dict.items():\n",
    "    print(key, value)\n",
    "#list of all keys\n",
    "keys = [key for key in my_dict]\n",
    "print(keys)\n",
    "values = [my_dict[key] for key in my_dict]\n",
    "values2 = [value for value in my_dict.values()]\n",
    "print(values)\n",
    "print(values2)\n",
    "key_value_pairs = [(key, my_dict[key]) for key in my_dict]\n",
    "key_value_pairs2 = [(key,value) for key,value in my_dict.items()]\n",
    "print(key_value_pairs)\n",
    "print(key_value_pairs2)"
   ]
  },
  {
   "cell_type": "code",
   "execution_count": null,
   "id": "5cac49ac",
   "metadata": {},
   "outputs": [],
   "source": []
  },
  {
   "cell_type": "code",
   "execution_count": null,
   "id": "99abc554",
   "metadata": {},
   "outputs": [],
   "source": []
  },
  {
   "cell_type": "markdown",
   "id": "b954e895",
   "metadata": {},
   "source": [
    "### Sets:\n",
    "\n",
    "Sets are **unordered** collections of unique elements.\n",
    "They do not allow duplicate elements.\n",
    "Sets are mutable, meaning you can add or remove elements after the set is created.\n"
   ]
  },
  {
   "cell_type": "code",
   "execution_count": 10,
   "id": "04a48d5a",
   "metadata": {},
   "outputs": [
    {
     "name": "stdout",
     "output_type": "stream",
     "text": [
      "{1, 2, 3, 4}\n",
      "False\n"
     ]
    }
   ],
   "source": [
    "#my_set = {1, 2, 3, 4}\n",
    "my_set = {1, 2, 3, 3, 4, 4}\n",
    "print(my_set) \n",
    "\n",
    "my_set.add(5)     # Adding an element\n",
    "my_set.remove(2)  # Removing an element\n",
    "\n",
    "#membership test **in**\n",
    "print(2 in my_set)"
   ]
  },
  {
   "cell_type": "markdown",
   "id": "69fb65e3",
   "metadata": {},
   "source": [
    "Set operations"
   ]
  },
  {
   "cell_type": "code",
   "execution_count": 11,
   "id": "6b258084",
   "metadata": {},
   "outputs": [
    {
     "name": "stdout",
     "output_type": "stream",
     "text": [
      "{1, 2}\n",
      "{1, 2, 4, 5}\n"
     ]
    }
   ],
   "source": [
    "\n",
    "set1 = {1, 2, 3}\n",
    "set2 = {3, 4, 5}\n",
    "union_set = set1 | set2            # Union\n",
    "intersection_set = set1 & set2     # Intersection\n",
    "difference_set = set1 - set2       # Difference\n",
    "print(difference_set)\n",
    "symmetric_difference_set = set1 ^ set2  # Symmetric difference\n",
    "print(symmetric_difference_set)"
   ]
  },
  {
   "cell_type": "code",
   "execution_count": null,
   "id": "677dd3af",
   "metadata": {},
   "outputs": [],
   "source": []
  },
  {
   "cell_type": "markdown",
   "id": "0f61628c",
   "metadata": {},
   "source": [
    "\n",
    "### Strings:\n",
    "\n",
    "Strings are **immutable** sequences of characters.\n",
    "They are commonly used to represent text data.\n",
    "Strings support various methods for string manipulation and formatting.\n",
    "Example: 'hello world'\n"
   ]
  },
  {
   "cell_type": "code",
   "execution_count": 12,
   "id": "e675d866",
   "metadata": {},
   "outputs": [
    {
     "name": "stdout",
     "output_type": "stream",
     "text": [
      "H\n"
     ]
    }
   ],
   "source": [
    "my_string = 'Hello, world!'\n",
    "print(my_string[0])  # Output: 'H'"
   ]
  },
  {
   "cell_type": "markdown",
   "id": "0f4319b1",
   "metadata": {},
   "source": [
    "**String Slicing** [start index, end index, step size]"
   ]
  },
  {
   "cell_type": "code",
   "execution_count": null,
   "id": "3d05b566",
   "metadata": {},
   "outputs": [],
   "source": [
    "print(my_string[0:5])  # Output: 'Hello'"
   ]
  },
  {
   "cell_type": "markdown",
   "id": "b7408f4d",
   "metadata": {},
   "source": [
    "Concatinating +"
   ]
  },
  {
   "cell_type": "code",
   "execution_count": null,
   "id": "a135f96e",
   "metadata": {},
   "outputs": [],
   "source": [
    "greeting = 'Hello'\n",
    "name = 'Ameya'\n",
    "full_greeting = greeting + ', ' + name + '!'"
   ]
  },
  {
   "cell_type": "markdown",
   "id": "10cf4d45",
   "metadata": {},
   "source": [
    "**eval()** The  eval() function can be useful in situations where you want to dynamically execute Python code that is stored as a string"
   ]
  },
  {
   "cell_type": "code",
   "execution_count": 25,
   "id": "da461e8c",
   "metadata": {},
   "outputs": [
    {
     "data": {
      "text/plain": [
       "11"
      ]
     },
     "execution_count": 25,
     "metadata": {},
     "output_type": "execute_result"
    }
   ],
   "source": [
    "a=2\n",
    "b=3\n",
    "c=3\n",
    "eval('a+b*c')"
   ]
  },
  {
   "cell_type": "markdown",
   "id": "2f4bbf65",
   "metadata": {},
   "source": [
    "Length of string and string methods"
   ]
  },
  {
   "cell_type": "code",
   "execution_count": 21,
   "id": "35895b6d",
   "metadata": {},
   "outputs": [
    {
     "name": "stdout",
     "output_type": "stream",
     "text": [
      "19\n",
      "Hello, world!\n",
      "   HELLO, WORLD!   \n",
      "['   Hello', ' world!   ']\n"
     ]
    }
   ],
   "source": [
    "print(len(my_string))\n",
    "\n",
    "my_string = '   Hello, world!   '\n",
    "print(my_string.strip())           # Output: 'Hello, world!'\n",
    "print(my_string.upper())           # Output: '   HELLO, WORLD!   '\n",
    "print(my_string.split(','))        # Output: ['   Hello', ' world!   ']"
   ]
  },
  {
   "cell_type": "markdown",
   "id": "a464660d",
   "metadata": {},
   "source": [
    "Formatting string"
   ]
  },
  {
   "cell_type": "code",
   "execution_count": 22,
   "id": "578f0c11",
   "metadata": {},
   "outputs": [
    {
     "name": "stdout",
     "output_type": "stream",
     "text": [
      "My name is Ameya and I am 7 years old.\n",
      "My name is Ameya and I am 7 years old.\n",
      "My name is Ameya and I am 7 years old.\n"
     ]
    }
   ],
   "source": [
    "name = 'Ameya'\n",
    "age = 7\n",
    "print('My name is %s and I am %d years old.' % (name, age))\n",
    "print('My name is {} and I am {} years old.'.format(name, age))\n",
    "print(f'My name is {name} and I am {age} years old.')"
   ]
  },
  {
   "cell_type": "code",
   "execution_count": null,
   "id": "2ff35015",
   "metadata": {},
   "outputs": [],
   "source": []
  },
  {
   "cell_type": "markdown",
   "id": "10e522b4",
   "metadata": {},
   "source": [
    "\n",
    "Bytes and Byte Arrays:\n",
    "\n",
    "Bytes and byte arrays are used to represent binary data.\n",
    "Bytes objects are immutable sequences of bytes, while byte arrays are mutable.\n",
    "They are often used to work with binary file data, network protocols, and cryptographic operations.\n",
    "Example: b'hello', bytearray(b'hello')"
   ]
  },
  {
   "cell_type": "code",
   "execution_count": null,
   "id": "b1b33a0d",
   "metadata": {},
   "outputs": [],
   "source": []
  },
  {
   "cell_type": "markdown",
   "id": "2da34d9a",
   "metadata": {},
   "source": [
    "### Ranges:\n",
    "\n",
    "Ranges represent a sequence of numbers.\n",
    "They are commonly used for looping a specific number of times or generating sequences of numbers.\n",
    "Example: range(0, 10)"
   ]
  },
  {
   "cell_type": "code",
   "execution_count": null,
   "id": "410bbd97",
   "metadata": {},
   "outputs": [],
   "source": []
  },
  {
   "cell_type": "markdown",
   "id": "8f54e5af",
   "metadata": {},
   "source": [
    "### 3. Operators\n",
    "Python supports various types of operators including arithmetic operators (+, -, *, /, //, %), comparison operators (==, !=, <, >, <=, >=), logical operators (and, or, not), etc."
   ]
  },
  {
   "cell_type": "code",
   "execution_count": 3,
   "id": "c06c9725",
   "metadata": {},
   "outputs": [
    {
     "name": "stdout",
     "output_type": "stream",
     "text": [
      "Result: 15\n",
      "Is Equal: True\n",
      "Is female and working: False\n"
     ]
    }
   ],
   "source": [
    "# Arithmetic operators\n",
    "result = 10 + 5\n",
    "print(\"Result:\", result)\n",
    "\n",
    "# Comparison operators\n",
    "is_equal = (5 == 5)\n",
    "print(\"Is Equal:\", is_equal)\n",
    "\n",
    "# Logical operators\n",
    "is_female = True\n",
    "is_working = False\n",
    "print(\"Is female and working:\", is_female and is_working)"
   ]
  },
  {
   "cell_type": "markdown",
   "id": "28994a2c",
   "metadata": {},
   "source": [
    "### Control Flow:\n",
    "\n",
    "Conditional statements (if, elif, else)\n",
    "Looping structures (for loops, while loops)\n",
    "Control flow statements (break, continue, pass)\n",
    "Functions:\n",
    "\n",
    "\n",
    "\n",
    "\n",
    "\n",
    "\n",
    "\n"
   ]
  },
  {
   "cell_type": "code",
   "execution_count": null,
   "id": "e061621c",
   "metadata": {},
   "outputs": [],
   "source": []
  },
  {
   "cell_type": "markdown",
   "id": "bde327a5",
   "metadata": {},
   "source": [
    "### Defining functions\n",
    "Function arguments and return values\n",
    "Scope and lifetime of variables\n",
    "Lambda functions and anonymous functions"
   ]
  },
  {
   "cell_type": "code",
   "execution_count": null,
   "id": "6a36f7a3",
   "metadata": {},
   "outputs": [],
   "source": []
  },
  {
   "cell_type": "code",
   "execution_count": null,
   "id": "19569803",
   "metadata": {},
   "outputs": [],
   "source": []
  },
  {
   "cell_type": "code",
   "execution_count": null,
   "id": "a60c0c60",
   "metadata": {},
   "outputs": [],
   "source": []
  },
  {
   "cell_type": "markdown",
   "id": "dc58eadb",
   "metadata": {},
   "source": [
    "### File Handling:\n",
    "\n",
    "Opening and closing files\n",
    "Reading from and writing to files\n",
    "Using file objects and methods"
   ]
  },
  {
   "cell_type": "code",
   "execution_count": null,
   "id": "9f24943a",
   "metadata": {},
   "outputs": [],
   "source": []
  },
  {
   "cell_type": "markdown",
   "id": "caf7b899",
   "metadata": {},
   "source": [
    "### Exception Handling:\n",
    "\n",
    "Handling errors and exceptions using try-except blocks\n",
    "Raising exceptions\n",
    "Custom exception classes"
   ]
  },
  {
   "cell_type": "code",
   "execution_count": null,
   "id": "b6ed2d5d",
   "metadata": {},
   "outputs": [],
   "source": []
  },
  {
   "cell_type": "markdown",
   "id": "3102a902",
   "metadata": {},
   "source": [
    "### Modules and Packages:\n",
    "\n",
    "Importing modules\n",
    "Creating and using packages\n",
    "Exploring built-in modules and third-party libraries\n",
    "\n"
   ]
  },
  {
   "cell_type": "code",
   "execution_count": null,
   "id": "9791533d",
   "metadata": {},
   "outputs": [],
   "source": []
  },
  {
   "cell_type": "markdown",
   "id": "70996325",
   "metadata": {},
   "source": [
    "### Object-Oriented Programming (OOP):\n",
    "\n",
    "Classes and objects\n",
    "Inheritance and polymorphism\n",
    "Encapsulation and abstraction"
   ]
  },
  {
   "cell_type": "code",
   "execution_count": null,
   "id": "669deac2",
   "metadata": {},
   "outputs": [],
   "source": []
  },
  {
   "cell_type": "markdown",
   "id": "1322115c",
   "metadata": {},
   "source": [
    "### Advanced Topics:\n",
    "\n",
    "Decorators\n",
    "Generators and iterators\n",
    "Context managers\n",
    "Multithreading and multiprocessing\n",
    "Working with databases (using libraries like SQLite or SQLAlchemy)\n",
    "Web scraping (using libraries like BeautifulSoup or Scrapy)\n",
    "Data visualization (using libraries like Matplotlib or Seaborn)"
   ]
  },
  {
   "cell_type": "code",
   "execution_count": null,
   "id": "7b8268d9",
   "metadata": {},
   "outputs": [],
   "source": []
  },
  {
   "cell_type": "markdown",
   "id": "0c851d95",
   "metadata": {},
   "source": [
    "### Best Practices and Tips:\n",
    "\n",
    "Code style and PEP 8 guidelines\n",
    "Debugging techniques\n",
    "Writing clean, efficient, and Pythonic code"
   ]
  },
  {
   "cell_type": "code",
   "execution_count": null,
   "id": "8e679380",
   "metadata": {},
   "outputs": [],
   "source": []
  },
  {
   "cell_type": "markdown",
   "id": "ab9ffeed",
   "metadata": {},
   "source": [
    "### Projects and Exercises:\n",
    "\n",
    "Providing hands-on projects and exercises to reinforce learning and practice Python concepts."
   ]
  }
 ],
 "metadata": {
  "kernelspec": {
   "display_name": "Python 3 (ipykernel)",
   "language": "python",
   "name": "python3"
  },
  "language_info": {
   "codemirror_mode": {
    "name": "ipython",
    "version": 3
   },
   "file_extension": ".py",
   "mimetype": "text/x-python",
   "name": "python",
   "nbconvert_exporter": "python",
   "pygments_lexer": "ipython3",
   "version": "3.11.5"
  }
 },
 "nbformat": 4,
 "nbformat_minor": 5
}
