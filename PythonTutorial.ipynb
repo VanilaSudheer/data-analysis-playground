{
 "cells": [
  {
   "cell_type": "markdown",
   "id": "642b9110",
   "metadata": {},
   "source": [
    "# Python Tutorial\n",
    "\n",
    "Welcome to the Python tutorial! This tutorial is designed to introduce you to the basics of Python programming language. Whether you're completely new to programming or looking to refresh your Python skills, you're in the right place.\n",
    "\n",
    "## Introduction to Python\n",
    "\n",
    "Python is a high-level, interpreted programming language known for its simplicity and readability. It's widely used in various domains including web development, data science, machine learning, artificial intelligence, and more.\n",
    "\n",
    "\n",
    "Guido van Rossum started working on Python in the late 1980s, and the first version of CPython, Python 0.9.0, was released in February 1991. Since then, Guido van Rossum has been the primary author and maintainer of CPython for many years, overseeing its development and evolution into one of the most popular programming languages in the world.\n",
    "\n",
    "CPython continues to be developed and maintained by a community of contributors, with Guido van Rossum's guidance and involvement. It serves as the basis for the Python language specification and is the version of Python most commonly used by developers for building applications, libraries, and frameworks.\n",
    "\n",
    "\n",
    "Overall, Python's success can be attributed to its simplicity, readability, versatility, and active community, making it a preferred language for both beginners and professionals in the world of programming.\n",
    "\n",
    "\n",
    "## Getting Started\n",
    "\n",
    "To begin our Python journey, let's start with some basics:\n",
    "\n",
    "### 1. Hello, World!\n",
    "Let's start with the traditional \"Hello, World!\" program to print a message to the console.\n",
    "\n",
    "\n",
    "\n",
    "\n",
    "\n"
   ]
  },
  {
   "cell_type": "code",
   "execution_count": 1,
   "id": "cf856cd4",
   "metadata": {},
   "outputs": [
    {
     "name": "stdout",
     "output_type": "stream",
     "text": [
      "Hello, World!\n"
     ]
    }
   ],
   "source": [
    "print(\"Hello, World!\")"
   ]
  },
  {
   "cell_type": "markdown",
   "id": "6b8e1b04",
   "metadata": {},
   "source": [
    "### 2. Variables, Data Types and Data structures \n",
    "In Python, variables are used to store data values.\n",
    "\n",
    "Data types in Python refer to the classification of data items, indicating the kind of value that a variable can hold.\n",
    "Python has several built-in data types such as int, float, str, bool\n"
   ]
  },
  {
   "cell_type": "code",
   "execution_count": 2,
   "id": "f2c9df02",
   "metadata": {},
   "outputs": [],
   "source": [
    "# Integer variable\n",
    "age = 45\n",
    "\n",
    "# Float variable\n",
    "height = 5.0\n",
    "\n",
    "# String variable\n",
    "name = \"Vanila Sudeer\"\n",
    "\n",
    "# Boolean variable\n",
    "is_artist = True"
   ]
  },
  {
   "cell_type": "markdown",
   "id": "d1408826",
   "metadata": {},
   "source": [
    "\n",
    "Data structures in Python refer to the way data is organized and stored in memory.\n",
    "lists, tuples, dictionaries, set, strings, byte and byte arrays are some of the built-in data structures in Python.\n",
    "\n",
    "Additionally, Python also supports various other data structures through standard libraries and third-party packages, such as arrays, stacks, queues, heaps, trees, graphs, etc. Depending on your specific use case, you can choose the appropriate data structure to store and manipulate your data efficiently"
   ]
  },
  {
   "cell_type": "markdown",
   "id": "b61896ae",
   "metadata": {},
   "source": [
    "### Lists:\n",
    "\n",
    "Lists are ordered collections of items.\n",
    "They are mutable, meaning you can add, remove, or modify elements after the list is created.\n",
    "Lists can contain elements of different data types and data structures.\n"
   ]
  },
  {
   "cell_type": "code",
   "execution_count": 27,
   "id": "52527cd0",
   "metadata": {},
   "outputs": [
    {
     "name": "stdout",
     "output_type": "stream",
     "text": [
      "1\n",
      "2.5\n",
      "three\n",
      "[4, 5, 6]\n",
      "4\n",
      "{'name': 'Vanila', 'age': 43}\n",
      "43\n"
     ]
    }
   ],
   "source": [
    "my_list = [1, 2.5, 'three', [4, 5, 6], {'name': 'Vanila', 'age': 43}]\n",
    "\n",
    "# Accessing elements of the list\n",
    "print(my_list[0])    # Output: 1\n",
    "print(my_list[1])    # Output: 2.5\n",
    "print(my_list[2])    # Output: 'three'\n",
    "print(my_list[3])    # Output: [4, 5, 6]\n",
    "print(my_list[3][0]) # Output: 4 (Accessing element of nested list)\n",
    "print(my_list[4])    # Output: {'name': 'Vanila', 'age': 43}\n",
    "print(my_list[4]['age']) # Output: 43"
   ]
  },
  {
   "cell_type": "markdown",
   "id": "61a92e82",
   "metadata": {},
   "source": [
    "### Slicing\n",
    "Slicing is a powerful feature in Python for extracting sublists (slices) from lists"
   ]
  },
  {
   "cell_type": "code",
   "execution_count": 40,
   "id": "60351c8d",
   "metadata": {},
   "outputs": [
    {
     "data": {
      "text/plain": [
       "[200, 2, 3, 4, 5]"
      ]
     },
     "execution_count": 40,
     "metadata": {},
     "output_type": "execute_result"
    }
   ],
   "source": [
    "my_list = [1, 2, 3, 4, 5]\n",
    "\n",
    "sublist = my_list[1:4]  # Extracting elements at index 1, 2, and 3\n",
    "\n",
    "prefix = my_list[:3]    # First three elements: [1, 2, 3]\n",
    "suffix = my_list[-2:]   # Last two elements: [4, 5]\n",
    "\n",
    "every_other = my_list[::2]  # Elements at even indices\n",
    "reversed_list = my_list[::-1]  # Reversed list\n",
    "\n",
    "# del my_list[1:3]   # Deleting elements at index 1 and 2\n",
    "copied_list = my_list[:]  # Shallow copy of the original list\n",
    "my_list[0]  = 100\n",
    "copied_list[0] = 200\n",
    "my_list\n",
    "copied_list\n",
    "\n",
    "# my_list[:] = []   # Clearing all elements from the list\n",
    "\n"
   ]
  },
  {
   "cell_type": "markdown",
   "id": "d1e1d9fe",
   "metadata": {},
   "source": [
    "\n",
    "To perform a deep copy of a list in Python, you can use the **copy.deepcopy()** function from the copy module. This function creates a new object and recursively copies the original object's elements, so any nested objects within the list are also copied."
   ]
  },
  {
   "cell_type": "code",
   "execution_count": 36,
   "id": "836e4bc6",
   "metadata": {},
   "outputs": [
    {
     "data": {
      "text/plain": [
       "[[1, 2], [3, 4]]"
      ]
     },
     "execution_count": 36,
     "metadata": {},
     "output_type": "execute_result"
    }
   ],
   "source": [
    "import copy\n",
    "\n",
    "original_list = [[1, 2], [3, 4]]\n",
    "deep_copied_list = copy.deepcopy(original_list) \n",
    "copied_list = original_list[:] \n",
    "original_list[0][0]=100\n",
    "copied_list #point to same object if not 1D array\n",
    "deep_copied_list"
   ]
  },
  {
   "cell_type": "markdown",
   "id": "1e680e1e",
   "metadata": {},
   "source": [
    "### Tuples:\n",
    "\n",
    "Tuples are ordered collections of items, similar to lists.\n",
    "However, tuples are **immutable**, meaning once created, you cannot change the elements.\n",
    "Tuples can contain elements of different data types.\n",
    "Even if you have only one item in the tuple, you need to include a comma after the item to indicate that it's a tuple."
   ]
  },
  {
   "cell_type": "code",
   "execution_count": 5,
   "id": "208f6bec",
   "metadata": {},
   "outputs": [],
   "source": [
    "my_tuple = (1, 2, 3)\n",
    "single_item_tuple = (4,) \n",
    "mixed_tuple = (1, 'two', [3, 4], {'five': 5})"
   ]
  },
  {
   "cell_type": "markdown",
   "id": "f854fe64",
   "metadata": {},
   "source": [
    "\n",
    "### Dictionaries:\n",
    "\n",
    "Dictionaries are collections of key-value pairs.\n",
    "They are **unordered**, meaning the order of elements is not guaranteed.\n",
    "Each element in a dictionary consists of a key and its corresponding value.\n",
    "\n",
    "Keys in a dictionary must be unique and immutable (e.g., strings, numbers, tuples).\n",
    "If duplicate keys are provided during dictionary creation, only the last value associated with the duplicate key will be stored."
   ]
  },
  {
   "cell_type": "code",
   "execution_count": 6,
   "id": "2b0561ce",
   "metadata": {},
   "outputs": [],
   "source": [
    "my_dict = {'name': 'Vanila', 'age': 43, 'city': 'Flemington'}\n",
    "my_dict['phone'] = 732  # Adding a new key-value pair\n",
    "del my_dict['age']             # Removing a key-value pair"
   ]
  },
  {
   "cell_type": "markdown",
   "id": "23d4255e",
   "metadata": {},
   "source": [
    "Different ways to iterate through a dictionary and dictionary comprehension "
   ]
  },
  {
   "cell_type": "code",
   "execution_count": 26,
   "id": "e67c54ba",
   "metadata": {},
   "outputs": [
    {
     "name": "stdout",
     "output_type": "stream",
     "text": [
      "name\n",
      "city\n",
      "phone\n",
      "Vanila\n",
      "Flemington\n",
      "732\n",
      "name Vanila\n",
      "city Flemington\n",
      "phone 732\n",
      "['name', 'city', 'phone']\n",
      "['Vanila', 'Flemington', 732]\n",
      "['Vanila', 'Flemington', 732]\n",
      "[('name', 'Vanila'), ('city', 'Flemington'), ('phone', 732)]\n",
      "[('name', 'Vanila'), ('city', 'Flemington'), ('phone', 732)]\n"
     ]
    }
   ],
   "source": [
    "#iterate through keys\n",
    "for key in my_dict:\n",
    "    print(key)\n",
    "#iterate through values\n",
    "for value in my_dict.values():\n",
    "    print(value)\n",
    "#iterate through key,value pairs\n",
    "for key, value in my_dict.items():\n",
    "    print(key, value)\n",
    "#list of all keys\n",
    "keys = [key for key in my_dict]\n",
    "print(keys)\n",
    "values = [my_dict[key] for key in my_dict]\n",
    "values2 = [value for value in my_dict.values()]\n",
    "print(values)\n",
    "print(values2)\n",
    "key_value_pairs = [(key, my_dict[key]) for key in my_dict]\n",
    "key_value_pairs2 = [(key,value) for key,value in my_dict.items()]\n",
    "print(key_value_pairs)\n",
    "print(key_value_pairs2)"
   ]
  },
  {
   "cell_type": "code",
   "execution_count": null,
   "id": "5cac49ac",
   "metadata": {},
   "outputs": [],
   "source": []
  },
  {
   "cell_type": "code",
   "execution_count": null,
   "id": "99abc554",
   "metadata": {},
   "outputs": [],
   "source": []
  },
  {
   "cell_type": "markdown",
   "id": "b954e895",
   "metadata": {},
   "source": [
    "### Sets:\n",
    "\n",
    "Sets are **unordered** collections of unique elements.\n",
    "They do not allow duplicate elements.\n",
    "Sets are mutable, meaning you can add or remove elements after the set is created.\n"
   ]
  },
  {
   "cell_type": "code",
   "execution_count": 10,
   "id": "04a48d5a",
   "metadata": {},
   "outputs": [
    {
     "name": "stdout",
     "output_type": "stream",
     "text": [
      "{1, 2, 3, 4}\n",
      "False\n"
     ]
    }
   ],
   "source": [
    "#my_set = {1, 2, 3, 4}\n",
    "my_set = {1, 2, 3, 3, 4, 4}\n",
    "print(my_set) \n",
    "\n",
    "my_set.add(5)     # Adding an element\n",
    "my_set.remove(2)  # Removing an element\n",
    "\n",
    "#membership test **in**\n",
    "print(2 in my_set)"
   ]
  },
  {
   "cell_type": "markdown",
   "id": "69fb65e3",
   "metadata": {},
   "source": [
    "Set operations"
   ]
  },
  {
   "cell_type": "code",
   "execution_count": 11,
   "id": "6b258084",
   "metadata": {},
   "outputs": [
    {
     "name": "stdout",
     "output_type": "stream",
     "text": [
      "{1, 2}\n",
      "{1, 2, 4, 5}\n"
     ]
    }
   ],
   "source": [
    "\n",
    "set1 = {1, 2, 3}\n",
    "set2 = {3, 4, 5}\n",
    "union_set = set1 | set2            # Union\n",
    "intersection_set = set1 & set2     # Intersection\n",
    "difference_set = set1 - set2       # Difference\n",
    "print(difference_set)\n",
    "symmetric_difference_set = set1 ^ set2  # Symmetric difference\n",
    "print(symmetric_difference_set)"
   ]
  },
  {
   "cell_type": "code",
   "execution_count": null,
   "id": "677dd3af",
   "metadata": {},
   "outputs": [],
   "source": []
  },
  {
   "cell_type": "markdown",
   "id": "0f61628c",
   "metadata": {},
   "source": [
    "\n",
    "### Strings:\n",
    "\n",
    "Strings are **immutable** sequences of characters.\n",
    "They are commonly used to represent text data.\n",
    "Strings support various methods for string manipulation and formatting.\n",
    "Example: 'hello world'\n"
   ]
  },
  {
   "cell_type": "code",
   "execution_count": 12,
   "id": "e675d866",
   "metadata": {},
   "outputs": [
    {
     "name": "stdout",
     "output_type": "stream",
     "text": [
      "H\n"
     ]
    }
   ],
   "source": [
    "my_string = 'Hello, world!'\n",
    "print(my_string[0])  # Output: 'H'"
   ]
  },
  {
   "cell_type": "markdown",
   "id": "0f4319b1",
   "metadata": {},
   "source": [
    "**String Slicing** [start index, end index, step size]"
   ]
  },
  {
   "cell_type": "code",
   "execution_count": null,
   "id": "3d05b566",
   "metadata": {},
   "outputs": [],
   "source": [
    "print(my_string[0:5])  # Output: 'Hello'"
   ]
  },
  {
   "cell_type": "markdown",
   "id": "b7408f4d",
   "metadata": {},
   "source": [
    "Concatinating +"
   ]
  },
  {
   "cell_type": "code",
   "execution_count": null,
   "id": "a135f96e",
   "metadata": {},
   "outputs": [],
   "source": [
    "greeting = 'Hello'\n",
    "name = 'Ameya'\n",
    "full_greeting = greeting + ', ' + name + '!'"
   ]
  },
  {
   "cell_type": "markdown",
   "id": "10cf4d45",
   "metadata": {},
   "source": [
    "**eval()** The  eval() function can be useful in situations where you want to dynamically execute Python code that is stored as a string"
   ]
  },
  {
   "cell_type": "code",
   "execution_count": 25,
   "id": "da461e8c",
   "metadata": {},
   "outputs": [
    {
     "data": {
      "text/plain": [
       "11"
      ]
     },
     "execution_count": 25,
     "metadata": {},
     "output_type": "execute_result"
    }
   ],
   "source": [
    "a=2\n",
    "b=3\n",
    "c=3\n",
    "eval('a+b*c')"
   ]
  },
  {
   "cell_type": "markdown",
   "id": "2f4bbf65",
   "metadata": {},
   "source": [
    "Length of string and string methods"
   ]
  },
  {
   "cell_type": "code",
   "execution_count": 21,
   "id": "35895b6d",
   "metadata": {},
   "outputs": [
    {
     "name": "stdout",
     "output_type": "stream",
     "text": [
      "19\n",
      "Hello, world!\n",
      "   HELLO, WORLD!   \n",
      "['   Hello', ' world!   ']\n"
     ]
    }
   ],
   "source": [
    "print(len(my_string))\n",
    "\n",
    "my_string = '   Hello, world!   '\n",
    "print(my_string.strip())           # Output: 'Hello, world!'\n",
    "print(my_string.upper())           # Output: '   HELLO, WORLD!   '\n",
    "print(my_string.split(','))        # Output: ['   Hello', ' world!   ']"
   ]
  },
  {
   "cell_type": "markdown",
   "id": "a464660d",
   "metadata": {},
   "source": [
    "Formatting string"
   ]
  },
  {
   "cell_type": "code",
   "execution_count": 22,
   "id": "578f0c11",
   "metadata": {},
   "outputs": [
    {
     "name": "stdout",
     "output_type": "stream",
     "text": [
      "My name is Ameya and I am 7 years old.\n",
      "My name is Ameya and I am 7 years old.\n",
      "My name is Ameya and I am 7 years old.\n"
     ]
    }
   ],
   "source": [
    "name = 'Ameya'\n",
    "age = 7\n",
    "print('My name is %s and I am %d years old.' % (name, age))\n",
    "print('My name is {} and I am {} years old.'.format(name, age))\n",
    "print(f'My name is {name} and I am {age} years old.')"
   ]
  },
  {
   "cell_type": "code",
   "execution_count": null,
   "id": "2ff35015",
   "metadata": {},
   "outputs": [],
   "source": []
  },
  {
   "cell_type": "markdown",
   "id": "10e522b4",
   "metadata": {},
   "source": [
    "\n",
    "Bytes and Byte Arrays:\n",
    "\n",
    "Bytes and byte arrays are used to represent binary data.\n",
    "Bytes objects are immutable sequences of bytes, while byte arrays are mutable.\n",
    "They are often used to work with binary file data, network protocols, and cryptographic operations."
   ]
  },
  {
   "cell_type": "code",
   "execution_count": 49,
   "id": "b1b33a0d",
   "metadata": {},
   "outputs": [
    {
     "name": "stdout",
     "output_type": "stream",
     "text": [
      "104\n",
      "b'hel'\n"
     ]
    },
    {
     "data": {
      "text/plain": [
       "bytearray(b'HELLO')"
      ]
     },
     "execution_count": 49,
     "metadata": {},
     "output_type": "execute_result"
    }
   ],
   "source": [
    "b = b'hello'\n",
    "b_arr = bytearray(b'hello')\n",
    "\n",
    "print(b[0])   # Output: 104 (ASCII value of 'h')\n",
    "print(b[:3])  # Output: b'hel'\n",
    "\n",
    "s = 'hello'\n",
    "b = s.encode('utf-8')   # Convert string to bytes\n",
    "s = b.decode('utf-8')   # Convert bytes to string\n",
    "\n",
    "b_lst = [(b-32) for b in b_arr]\n",
    "b_upper = bytearray(b_lst)\n",
    "b_upper"
   ]
  },
  {
   "cell_type": "markdown",
   "id": "2da34d9a",
   "metadata": {},
   "source": [
    "### Ranges:\n",
    "\n",
    "Ranges represent a sequence of numbers.\n",
    "They are commonly used for looping a specific number of times or generating sequences of numbers.\n",
    "range(start,end,step)\n"
   ]
  },
  {
   "cell_type": "code",
   "execution_count": 52,
   "id": "410bbd97",
   "metadata": {},
   "outputs": [
    {
     "data": {
      "text/plain": [
       "[0, 22, 44, 66, 88]"
      ]
     },
     "execution_count": 52,
     "metadata": {},
     "output_type": "execute_result"
    }
   ],
   "source": [
    "nums_list = list(range(0, 100, 22))\n",
    "nums_list\n"
   ]
  },
  {
   "cell_type": "markdown",
   "id": "8f54e5af",
   "metadata": {},
   "source": [
    "### 3. Operators\n",
    "Python supports various types of operators including arithmetic operators (+, -, *, /, //, %), comparison operators (==, !=, <, >, <=, >=), logical operators (and, or, not), etc."
   ]
  },
  {
   "cell_type": "code",
   "execution_count": 3,
   "id": "c06c9725",
   "metadata": {},
   "outputs": [
    {
     "name": "stdout",
     "output_type": "stream",
     "text": [
      "Result: 15\n",
      "Is Equal: True\n",
      "Is female and working: False\n"
     ]
    }
   ],
   "source": [
    "# Arithmetic operators\n",
    "result = 10 + 5\n",
    "print(\"Result:\", result)\n",
    "\n",
    "# Comparison operators\n",
    "is_equal = (5 == 5)\n",
    "print(\"Is Equal:\", is_equal)\n",
    "\n",
    "# Logical operators\n",
    "is_female = True\n",
    "is_working = False\n",
    "print(\"Is female and working:\", is_female and is_working)"
   ]
  },
  {
   "cell_type": "markdown",
   "id": "28994a2c",
   "metadata": {},
   "source": [
    "### Control Flow:\n",
    "\n",
    "Conditional statements (if, elif, else)\n",
    "Looping structures (for loops, while loops)\n",
    "Control flow statements (break, continue, pass)\n",
    "Functions:\n",
    "\n",
    "\n",
    "\n",
    "\n",
    "\n",
    "\n",
    "\n"
   ]
  },
  {
   "cell_type": "markdown",
   "id": "6a7410be",
   "metadata": {},
   "source": [
    "### 1.Conditional Statements(if, elif, else)"
   ]
  },
  {
   "cell_type": "code",
   "execution_count": null,
   "id": "545a0599",
   "metadata": {},
   "outputs": [],
   "source": [
    "x = 10\n",
    "if x > 0:\n",
    "    print(\"x is positive\")\n",
    "elif x < 0:\n",
    "    print(\"x is negative\")\n",
    "else:\n",
    "    print(\"x is zero\")"
   ]
  },
  {
   "cell_type": "markdown",
   "id": "5320b48e",
   "metadata": {},
   "source": [
    "### 2. Loops(for,while)"
   ]
  },
  {
   "cell_type": "code",
   "execution_count": null,
   "id": "50866a5b",
   "metadata": {},
   "outputs": [],
   "source": [
    "# For loop example\n",
    "fruits = [\"apple\", \"banana\", \"cherry\"]\n",
    "for fruit in fruits:\n",
    "    print(fruit)\n",
    "    \n",
    "for i in range(10):\n",
    "    if i == 5:\n",
    "        break\n",
    "    if i == 3:\n",
    "        continue\n",
    "    print(i)\n",
    "\n",
    "# While loop example\n",
    "i = 0\n",
    "while i < 5:\n",
    "    print(i)\n",
    "    i += 1"
   ]
  },
  {
   "cell_type": "markdown",
   "id": "0fd04af3",
   "metadata": {},
   "source": [
    "### 3. Exception Handling \n"
   ]
  },
  {
   "cell_type": "markdown",
   "id": "bb3c9875",
   "metadata": {},
   "source": [
    "try:  \n",
    "    &nbsp;&nbsp;&nbsp;# Code that may raise an exception  \n",
    "except ExceptionType:  \n",
    "    &nbsp;&nbsp;&nbsp;# Code to handle the exception  \n",
    "finally:  \n",
    "    &nbsp;&nbsp;&nbsp;# Code that will always be executed (optional)"
   ]
  },
  {
   "cell_type": "code",
   "execution_count": 68,
   "id": "63a982a6",
   "metadata": {},
   "outputs": [
    {
     "name": "stdout",
     "output_type": "stream",
     "text": [
      "Error: Division by zero\n",
      "Cleanup code\n"
     ]
    }
   ],
   "source": [
    "try:\n",
    "    x = 10 / 0\n",
    "except ZeroDivisionError:\n",
    "    print(\"Error: Division by zero\")\n",
    "finally:\n",
    "    print(\"Cleanup code\")"
   ]
  },
  {
   "cell_type": "markdown",
   "id": "bde327a5",
   "metadata": {},
   "source": [
    "### Defining functions\n",
    "Function arguments and return values\n",
    "Scope and lifetime of variables\n",
    "Lambda functions and anonymous functions"
   ]
  },
  {
   "cell_type": "code",
   "execution_count": 53,
   "id": "b52a8b5a",
   "metadata": {},
   "outputs": [
    {
     "name": "stdout",
     "output_type": "stream",
     "text": [
      "Hello, world!\n"
     ]
    },
    {
     "data": {
      "text/plain": [
       "8"
      ]
     },
     "execution_count": 53,
     "metadata": {},
     "output_type": "execute_result"
    }
   ],
   "source": [
    "#define a function def \n",
    "def greet():\n",
    "    print(\"Hello, world!\")\n",
    "\n",
    "#another function with parameters a,b\n",
    "\n",
    "def add(a, b):\n",
    "    result = a + b\n",
    "    return result\n",
    "#Function call\n",
    "greet()\n",
    "sum_result = add(3, 5)\n",
    "sum_result"
   ]
  },
  {
   "cell_type": "code",
   "execution_count": 55,
   "id": "b8887a0b",
   "metadata": {},
   "outputs": [
    {
     "name": "stdout",
     "output_type": "stream",
     "text": [
      "Hello, Gayatri\n"
     ]
    }
   ],
   "source": [
    "# Function Documentation DocString\n",
    "def greet(name):\n",
    "    \"\"\"\n",
    "    Greets the user with the provided name.\n",
    "    \"\"\"\n",
    "    print(\"Hello,\", name)\n",
    "greet('Gayatri')"
   ]
  },
  {
   "cell_type": "code",
   "execution_count": 56,
   "id": "b9174cbd",
   "metadata": {},
   "outputs": [
    {
     "name": "stdout",
     "output_type": "stream",
     "text": [
      "Hello, Gayatri\n",
      "Hello, Dear\n"
     ]
    }
   ],
   "source": [
    "# Default argument\n",
    "def greet(name=\"Dear\"):\n",
    "    print(\"Hello,\", name)\n",
    "greet('Gayatri')  \n",
    "greet()"
   ]
  },
  {
   "cell_type": "markdown",
   "id": "06768259",
   "metadata": {},
   "source": [
    "### variable number of Arguments\n"
   ]
  },
  {
   "cell_type": "code",
   "execution_count": 59,
   "id": "6a36f7a3",
   "metadata": {},
   "outputs": [
    {
     "data": {
      "text/plain": [
       "'\\ndef my_function(*args, **kwargs):\\n    # args is a tuple containing positional arguments\\n    # kwargs is a dictionary containing keyword arguments\\n    pass\\n'"
      ]
     },
     "execution_count": 59,
     "metadata": {},
     "output_type": "execute_result"
    }
   ],
   "source": [
    "'''\n",
    "def my_function(*args, **kwargs):\n",
    "    # args is a tuple containing positional arguments\n",
    "    # kwargs is a dictionary containing keyword arguments\n",
    "    pass\n",
    "'''"
   ]
  },
  {
   "cell_type": "code",
   "execution_count": null,
   "id": "19569803",
   "metadata": {},
   "outputs": [],
   "source": []
  },
  {
   "cell_type": "code",
   "execution_count": null,
   "id": "a60c0c60",
   "metadata": {},
   "outputs": [],
   "source": []
  },
  {
   "cell_type": "markdown",
   "id": "dc58eadb",
   "metadata": {},
   "source": [
    "### File Handling:\n",
    "\n",
    "Opening and closing files\n",
    "Reading from and writing to files\n",
    "Using file objects and methods"
   ]
  },
  {
   "cell_type": "code",
   "execution_count": 62,
   "id": "9f24943a",
   "metadata": {},
   "outputs": [],
   "source": [
    "'''\n",
    "file = open(file_path, mode)\n",
    "''' \n",
    "\n",
    "file = open(\"example.txt\", \"a\")  # Opens the file \"example.txt\" for appending\n",
    "\n",
    "file.close()"
   ]
  },
  {
   "cell_type": "markdown",
   "id": "1c4bc8e8",
   "metadata": {},
   "source": [
    "File Modes:\n",
    "\n",
    "r: Read mode (default). Opens a file for reading. Raises an error if the file does not exist.  \n",
    "w: Write mode. Opens a file for writing. Creates a new file if it doesn't exist or truncates the file if it exists.  \n",
    "a: Append mode. Opens a file for appending. Creates a new file if it doesn't exist.  \n",
    "b: Binary mode. Opens a file in binary mode (e.g., \"rb\" for reading binary).  \n",
    "+: Read and write mode."
   ]
  },
  {
   "cell_type": "code",
   "execution_count": 64,
   "id": "2aec87c2",
   "metadata": {},
   "outputs": [
    {
     "data": {
      "text/plain": [
       "'\\ncontent = file.read()      # Reads the entire content of the file\\nline = file.readline()     # Reads a single line from the file\\nlines = file.readlines()   # Reads all lines from the file and returns them as a list\\n'"
      ]
     },
     "execution_count": 64,
     "metadata": {},
     "output_type": "execute_result"
    }
   ],
   "source": [
    "'''\n",
    "# Reading from a file\n",
    "content = file.read()      # Reads the entire content of the file\n",
    "line = file.readline()     # Reads a single line from the file\n",
    "lines = file.readlines()   # Reads all lines from the file and returns them as a list\n",
    "'''\n"
   ]
  },
  {
   "cell_type": "code",
   "execution_count": null,
   "id": "c1f08533",
   "metadata": {},
   "outputs": [],
   "source": [
    "'''\n",
    "# Writing to a file\n",
    "\n",
    "file.write(\"Hello, world!\\n\")  # Writes the string to the file\n",
    "\n",
    "\n",
    "'''"
   ]
  },
  {
   "cell_type": "code",
   "execution_count": null,
   "id": "c10404e1",
   "metadata": {},
   "outputs": [],
   "source": [
    "'''\n",
    "# Iterating through a file\n",
    "\n",
    "for line in file:\n",
    "    print(line)\n",
    "    \n",
    "'''"
   ]
  },
  {
   "cell_type": "markdown",
   "id": "302b76a6",
   "metadata": {},
   "source": [
    "#### Using with Statement (Context Manager):\n",
    "It's a good practice to use the with statement when working with files. It ensures that the file is properly closed after its suite finishes, even if an exception is raised."
   ]
  },
  {
   "cell_type": "code",
   "execution_count": 65,
   "id": "373d18a6",
   "metadata": {},
   "outputs": [],
   "source": [
    "with open(\"example.txt\", \"r\") as file:\n",
    "    content = file.read()\n"
   ]
  },
  {
   "cell_type": "markdown",
   "id": "b876ed1d",
   "metadata": {},
   "source": [
    "You can use various file attributes and methods to get information about the file, such as name, mode, closed, tell(), seek(), etc"
   ]
  },
  {
   "cell_type": "code",
   "execution_count": 67,
   "id": "e33dfc7f",
   "metadata": {},
   "outputs": [
    {
     "data": {
      "text/plain": [
       "'\\nfile_name = file.name\\nfile_mode = file.mode\\nis_closed = file.closed\\n\\n# returns the current position of the file pointer (the byte offset from the beginning of the file).\\nfile_position = file.tell()\\n\\n'"
      ]
     },
     "execution_count": 67,
     "metadata": {},
     "output_type": "execute_result"
    }
   ],
   "source": [
    "'''\n",
    "file_name = file.name\n",
    "file_mode = file.mode\n",
    "is_closed = file.closed\n",
    "\n",
    "# returns the current position of the file pointer (the byte offset from the beginning of the file).\n",
    "file_position = file.tell()\n",
    "\n",
    "# Move the file pointer to the beginning of the file\n",
    "file.seek(0)\n",
    "\n",
    "'''"
   ]
  },
  {
   "cell_type": "markdown",
   "id": "caf7b899",
   "metadata": {},
   "source": [
    "### Exception Handling:\n",
    "\n",
    "Handling errors and exceptions using try-except blocks  \n",
    "try:  \n",
    "    &nbsp;&nbsp;&nbsp;# Code that may raise an exception  \n",
    "except ExceptionType:  \n",
    "    &nbsp;&nbsp;&nbsp;# Code to handle the exception  \n",
    "finally:  \n",
    "    &nbsp;&nbsp;&nbsp;# Code that will always be executed (optional)  \n",
    "    \n",
    "#### multiple exceptions    \n",
    "try:  \n",
    "    &nbsp;&nbsp;&nbsp;# Code that may raise exceptions  \n",
    "except (TypeError, ValueError):  \n",
    "    &nbsp;&nbsp;&nbsp;# Code to handle TypeError or ValueError"
   ]
  },
  {
   "cell_type": "code",
   "execution_count": 70,
   "id": "b6ed2d5d",
   "metadata": {},
   "outputs": [
    {
     "name": "stdout",
     "output_type": "stream",
     "text": [
      "Error: File not found\n"
     ]
    }
   ],
   "source": [
    "try:\n",
    "    file = open(\"examplenew.txt\", \"r\")\n",
    "    # Code to read from the file\n",
    "except FileNotFoundError:\n",
    "    print(\"Error: File not found\")\n",
    "finally:\n",
    "    if 'file' in locals():\n",
    "        file.close()  # Close the file even if an exception occurred"
   ]
  },
  {
   "cell_type": "markdown",
   "id": "3c9a7f2d",
   "metadata": {},
   "source": [
    "\n",
    "In Python, locals() is a built-in function that returns a dictionary containing the current local symbol table. The local symbol table contains information about all local variables, functions, and classes defined within the current scope, such as inside a function or a module.  \n",
    "\n",
    "#### Hierarchy of exception classes  \n",
    "\n",
    "Python's exception hierarchy enables you to organize exceptions into a hierarchy of classes, where more specific exception classes inherit from more general ones.  \n",
    "\n",
    "At the top of the exception hierarchy is the **BaseException** class. All built-in and user-defined exceptions inherit from this class. However, it's not common to catch BaseException directly, as it includes system-exiting exceptions like SystemExit, KeyboardInterrupt, and GeneratorExit.  \n",
    "\n",
    "Python provides a wide range of built-in exception classes that represent different types of errors that can occur during program execution. These built-in exception classes are organized into a hierarchy, with more specific exceptions inheriting from more general ones.  \n",
    "For example, ZeroDivisionError inherits from ArithmeticError, which in turn inherits from Exception, which inherits from BaseException.  \n",
    "#### Custom Exception class\n",
    "You can also define your own custom exception classes by creating subclasses of existing exception classes or by directly subclassing Exception or one of its subclasses"
   ]
  },
  {
   "cell_type": "code",
   "execution_count": null,
   "id": "c8e1ed39",
   "metadata": {},
   "outputs": [],
   "source": [
    "class CustomError(Exception):\n",
    "    pass"
   ]
  },
  {
   "cell_type": "markdown",
   "id": "f496eb16",
   "metadata": {},
   "source": [
    "try:  \n",
    "    &nbsp;&nbsp;&nbsp;# Code that may raise an exception  \n",
    "except SpecificException:  \n",
    "    &nbsp;&nbsp;&nbsp;# Handle SpecificException  \n",
    "except GeneralException:  \n",
    "    &nbsp;&nbsp;&nbsp;# Handle GeneralException  "
   ]
  },
  {
   "cell_type": "code",
   "execution_count": 71,
   "id": "a38c0e8e",
   "metadata": {},
   "outputs": [
    {
     "name": "stdout",
     "output_type": "stream",
     "text": [
      "An exception occurred: name 'errorfunction' is not defined\n",
      "Exception type: <class 'NameError'>\n",
      "Exception message: name 'errorfunction' is not defined\n"
     ]
    }
   ],
   "source": [
    "try:\n",
    "    errorfunction()\n",
    "except Exception as e:\n",
    "    print(\"An exception occurred:\", e)\n",
    "    print(\"Exception type:\", type(e))\n",
    "    print(\"Exception message:\", e.args[0])\n",
    "    '''\n",
    "    if isinstance(e, SpecificException1):\n",
    "    # Handle SpecificException1\n",
    "    elif isinstance(e, SpecificException2):\n",
    "    # Handle SpecificException2\n",
    "    '''"
   ]
  },
  {
   "cell_type": "markdown",
   "id": "d33bb700",
   "metadata": {},
   "source": [
    "In Python, when you catch exceptions using a try and except block, you can optionally assign the caught exception to a variable. This variable allows you to access information about the exception that occurred, such as its type, message, or any additional data associated with it. This variable is typically named e, short for exception, but you can choose any valid variable name."
   ]
  },
  {
   "cell_type": "markdown",
   "id": "dec11c60",
   "metadata": {},
   "source": [
    "### Modules and Packages:\n",
    "modules and packages are mechanisms for organizing code into reusable and manageable units. They allow you to break down your program into smaller, logical components, making your code more modular, maintainable, and scalable.    \n",
    "You can create your own modules by writing Python code in a .py file. Each Python script (.py file) is considered a module  \n"
   ]
  },
  {
   "cell_type": "code",
   "execution_count": null,
   "id": "5a3e9296",
   "metadata": {},
   "outputs": [],
   "source": [
    "#Importing modules\n",
    "import mymodule\n",
    "#calling a function from mymodule.py\n",
    "mymodule.greet(\"Ameya\")"
   ]
  },
  {
   "cell_type": "markdown",
   "id": "3102a902",
   "metadata": {},
   "source": [
    "Package:\n",
    "\n",
    "A package is a directory containing Python modules. It allows you to organize related modules into a hierarchical structure.\n",
    "Packages include a special file named \\_\\_init\\_\\_.py, which indicates that the directory should be treated as a package.\n",
    "You can create your own packages by organizing modules into directories and including an \\_\\_init\\_\\_.py file in each directory.   \n",
    "The \\_\\_init\\_\\_.py file is a key component of Python packages. It serves as an initialization file for packages, allowing you to define package-level attributes, import modules, and execute setup code when the package is imported.  \n",
    "In Python 3.3 and later, the concept of namespace packages was introduced to allow packages to span multiple directories or distributions without the need for an \\_\\_init\\_\\_.py file in each directory. This provides more flexibility in organizing and distributing packages, especially in large projects where different parts of the package may reside in separate locations.  \n",
    "You can have multiple directories or distributions containing modules, and as long as they share the same package name, Python recognizes them as part of the same namespace package.  \n",
    "Any .py file located within any eg.my_namespace_package directory on your computer (or accessible via Python's module search path) will be considered part of the my_namespace_package namespace package.  \n",
    "When you import a module using the import statement, Python searches for the module in the directories listed in sys.path. If the module is found in any of these directories, it is loaded and made available for use.  \n",
    "You can also add custom directories to sys.path at runtime using the sys.path.append() method. This allows you to specify additional locations where Python should search for modules.\n"
   ]
  },
  {
   "cell_type": "code",
   "execution_count": null,
   "id": "d1043524",
   "metadata": {},
   "outputs": [],
   "source": [
    "'''\n",
    "import sys\n",
    "sys.path.append('/path/to/custom_directory')\n",
    "'''"
   ]
  },
  {
   "cell_type": "code",
   "execution_count": 3,
   "id": "9791533d",
   "metadata": {},
   "outputs": [],
   "source": [
    "#importing from package\n",
    "#import mypackage.module1\n",
    "#importing from subpackage\n",
    "#from mypackage.subpackage import module3"
   ]
  },
  {
   "cell_type": "markdown",
   "id": "96bc4dad",
   "metadata": {},
   "source": [
    "When working with virtual environments (created using tools like venv or virtualenv), Python creates a separate environment with its own module search path. This allows you to install and manage packages independently of the system Python installation.  \n",
    "Python's module search path determines where Python looks for modules when you import them. By default, Python searches in the directories listed in sys.path(current directory, directories specified in the PYTHONPATH environment variable, site-packages directory, and standard library directory). You can also add custom directories to the module search path to access modules located in other locations on your system.  \n",
    "\n",
    "Python comes with many built-in modules and packages that are available without needing to install anything extra. Here are some commonly used built-in modules and packages:  \n",
    "\n",
    "os: Provides a portable way of using operating system-dependent functionality, such as interacting with the file system, accessing environment variables, and running system commands.  \n",
    "\n",
    "sys: Provides access to some variables used or maintained by the Python interpreter and to functions that interact strongly with the interpreter. It allows you to manipulate the Python runtime environment.  \n",
    "\n",
    "math: Provides mathematical functions and constants, including trigonometric functions, logarithms, exponentiation, and constants like pi and e.  \n",
    "\n",
    "random: Allows you to generate random numbers, shuffle sequences, and select random items.  \n",
    "\n",
    "datetime: Provides classes for manipulating dates and times, including functions for formatting and parsing date/time strings, calculating time differences, and working with time zones.  \n",
    "\n",
    "collections: Contains high-performance container datatypes, such as named tuples, ordered dictionaries, default dictionaries, and counters.  \n",
    "\n",
    "re (regular expressions): Provides support for working with regular expressions, allowing you to search, match, and manipulate text based on patterns.  \n",
    "\n",
    "json: Provides functions for encoding and decoding JSON data, allowing you to serialize and deserialize Python objects to and from JSON format.  \n",
    "\n",
    "csv: Provides functions for reading and writing CSV (comma-separated values) files, a common format for storing tabular data.  \n",
    "\n",
    "argparse: Allows you to parse command-line arguments and options, making it easy to create command-line interfaces for your Python scripts.  \n",
    "\n",
    "pickle: Provides functions for serializing and deserializing Python objects, allowing you to save and load data structures to and from files.  \n",
    "\n",
    "sys: Provides access to some variables used or maintained by the Python interpreter and to functions that interact strongly with the interpreter.  \n",
    "\n"
   ]
  },
  {
   "cell_type": "markdown",
   "id": "496166c9",
   "metadata": {},
   "source": [
    "Some commonly used Python packages across various domains and tasks:  \n",
    "\n",
    "NumPy: NumPy is a fundamental package for scientific computing with Python. It provides support for multi-dimensional arrays and matrices, along with a collection of mathematical functions to operate on these arrays efficiently.  \n",
    "\n",
    "Pandas: Pandas is a powerful data manipulation and analysis library. It provides data structures like DataFrame and Series, which are designed for working with structured data, as well as tools for reading and writing data from various file formats.  \n",
    "\n",
    "Matplotlib: Matplotlib is a plotting library for creating static, interactive, and animated visualizations in Python. It allows you to create a wide variety of plots, including line plots, scatter plots, histograms, bar charts, and more.  \n",
    "\n",
    "Scikit-learn: Scikit-learn is a machine learning library that provides simple and efficient tools for data mining and data analysis. It includes various algorithms for classification, regression, clustering, dimensionality reduction, and more, as well as utilities for model selection and evaluation.  \n",
    "\n",
    "TensorFlow / PyTorch: TensorFlow and PyTorch are popular deep learning frameworks used for building and training neural networks. They provide high-level APIs for defining and training models, as well as low-level APIs for customizing and optimizing network architectures.  \n",
    "\n",
    "Requests: Requests is a simple and elegant HTTP library for making HTTP requests in Python. It provides an easy-to-use API for sending HTTP requests and handling responses, making it ideal for web scraping, API integration, and more.  \n",
    "\n",
    "Beautiful Soup: Beautiful Soup is a library for parsing HTML and XML documents. It provides a convenient interface for navigating and manipulating the parse tree, allowing you to extract data from web pages easily.  \n",
    "\n",
    "Django / Flask: Django and Flask are popular web frameworks for building web applications in Python. Django is a full-featured framework that follows the \"batteries-included\" philosophy, while Flask is a lightweight and flexible microframework that provides the essentials for building web applications.  \n",
    "\n",
    "pytest: Pytest is a testing framework for writing simple and scalable tests in Python. It provides features like fixtures, parameterization, and plugins, making it easy to write and run tests for Python code.  \n",
    "\n",
    "OpenCV: OpenCV is a computer vision library that provides a wide range of tools and algorithms for image and video processing. It is widely used for tasks such as object detection, image segmentation, facial recognition, and more.  "
   ]
  },
  {
   "cell_type": "markdown",
   "id": "70996325",
   "metadata": {},
   "source": [
    "### Object-Oriented Programming (OOP):\n",
    "\n",
    "**Classes**: A class is a blueprint for creating objects. It defines the attributes (data) and methods (functions) that the objects of the class will have. In Python, you can define a class using the **class** keyword.\n",
    "\n",
    "**Objects (Instances)**: Objects are instances of classes. They are created based on the structure defined by the class. Each object has its own set of attributes and methods. You can create an object of a class by calling the class name followed by parentheses, like a function call.\n",
    "\n",
    "**Attributes**: Attributes are data stored within a class or instance and represent the state or characteristics of the object. They are accessed using dot notation. In Python, attributes can be **instance variables** (belonging to each instance/object) or **class variables** (shared among all instances of the class).\n",
    "\n",
    "**Methods**: Methods are functions defined within a class. They define the behaviors or actions that objects of the class can perform. In Python, methods are defined using the def keyword within the class definition.\n",
    "\n",
    "**Inheritance**: Inheritance is a mechanism where a new class inherits properties and behavior from an existing class. The class being inherited from is called the base class or superclass, and the class inheriting from it is called the derived class or subclass. In Python, you can specify the **superclass in parentheses after the class name**.\n",
    "\n",
    "**Encapsulation**: Encapsulation is the bundling of data (attributes) and methods that operate on the data into a single unit (class). It hides the internal state of an object from the outside world and only exposes a public interface for interacting with the object.\n",
    "\n",
    "**Polymorphism**: Polymorphism allows objects of different classes to be treated as objects of a common superclass. It allows **methods to be called on objects without knowing their specific class**, and the appropriate method is called based on the actual class of the object. Polymorphism in Python is achieved through **method overriding and method overloading**.\n",
    "\n",
    "Here's a simple example demonstrating some of these concepts in Python:\n"
   ]
  },
  {
   "cell_type": "code",
   "execution_count": 18,
   "id": "669deac2",
   "metadata": {},
   "outputs": [
    {
     "name": "stdout",
     "output_type": "stream",
     "text": [
      "Buddy\n",
      "Whiskers\n",
      "Woof!\n",
      "Meow!\n"
     ]
    }
   ],
   "source": [
    "class Animal:\n",
    "    def __init__(self, name):\n",
    "        self.name = name\n",
    "\n",
    "    def sound(self):\n",
    "        pass\n",
    "\n",
    "class Dog(Animal):\n",
    "    def sound(self):\n",
    "        return \"Woof!\"\n",
    "\n",
    "class Cat(Animal):\n",
    "    def sound(self):\n",
    "        return \"Meow!\"\n",
    "\n",
    "# Creating instances of the classes\n",
    "dog = Dog(\"Buddy\")\n",
    "cat = Cat(\"Whiskers\")\n",
    "\n",
    "# Accessing attributes and calling methods\n",
    "print(dog.name)  # Output: Buddy\n",
    "print(cat.name)  # Output: Whiskers\n",
    "\n",
    "print(dog.sound())  # Output: Woof!\n",
    "print(cat.sound())  # Output: Meow!\n"
   ]
  },
  {
   "cell_type": "markdown",
   "id": "745273e7",
   "metadata": {},
   "source": [
    "In this example, Animal is the base class, and Dog and Cat are subclasses inheriting from Animal. They override the sound() method to provide their own implementation.\n",
    "\n",
    "The __init__() method in Python is a special method, also known as a **constructor**. It is automatically called when a new instance of a class is created. The purpose of the __init__() method is to initialize the newly created object by assigning initial values to its attributes.\n",
    "\n",
    "**Initialization**: The __init__() method is defined within the class and is always named __init__. It takes at least one argument, self, which refers to the newly created instance of the class.\n",
    "\n",
    "**Setting Initial Attributes**: Inside the __init__() method, you can define attributes for the object and assign initial values to them using the self keyword. These attributes can vary from simple data types like integers or strings to more complex objects or data structures.\n",
    "\n",
    "**Invocation**: When you create a new instance of the class using the class name followed by parentheses, Python **automatically** calls the __init__() method with the arguments you provide. This initializes the object with the specified initial values.\n",
    "\n",
    "Subclasses in Python can have their own __init__() method, but it's not strictly necessary. If a subclass does not define its own __init__() method, it will automatically inherit the __init__() method from its superclass.\n"
   ]
  },
  {
   "cell_type": "code",
   "execution_count": 13,
   "id": "dc91d0f5",
   "metadata": {
    "scrolled": false
   },
   "outputs": [
    {
     "name": "stdout",
     "output_type": "stream",
     "text": [
      "Canine\n",
      "Buddy\n",
      "Labrador\n"
     ]
    }
   ],
   "source": [
    "class Dog(Animal):\n",
    "    def __init__(self, name, breed):\n",
    "        super().__init__(name)  # Call superclass __init__ method\n",
    "        self.species = \"Canine\"\n",
    "        self.breed = breed\n",
    "\n",
    "# Creating an instance of Dog with custom initialization\n",
    "my_dog = Dog(\"Buddy\", \"Labrador\")\n",
    "print(my_dog.species)  # Output: Canine\n",
    "print(my_dog.name)     # Output: Buddy\n",
    "print(my_dog.breed)    # Output: Labrador"
   ]
  },
  {
   "cell_type": "markdown",
   "id": "78ded503",
   "metadata": {},
   "source": [
    "\n",
    " In Python, if you define two classes with the same name but with different constructor arguments or different method signatures, they are considered different classes. This is because Python uses the entire signature of a class's methods (including the method name and its parameters) to uniquely identify the method.\n",
    " \n",
    " \n",
    "\n",
    "**encapsulation** in Python is achieved through naming conventions (like using double underscores to denote private attributes/methods), controlling access to attributes and methods, and providing a well-defined public interface for interacting with objects. While Python does not enforce encapsulation as strictly as some other languages, adhering to these conventions helps ensure code maintainability and readability."
   ]
  },
  {
   "cell_type": "code",
   "execution_count": 14,
   "id": "11a67184",
   "metadata": {},
   "outputs": [
    {
     "ename": "AttributeError",
     "evalue": "'MyClass' object has no attribute '__private_attribute'",
     "output_type": "error",
     "traceback": [
      "\u001b[1;31m---------------------------------------------------------------------------\u001b[0m",
      "\u001b[1;31mAttributeError\u001b[0m                            Traceback (most recent call last)",
      "Cell \u001b[1;32mIn[14], line 10\u001b[0m\n\u001b[0;32m      8\u001b[0m obj \u001b[38;5;241m=\u001b[39m MyClass()\n\u001b[0;32m      9\u001b[0m \u001b[38;5;66;03m# Attempting to access private attribute and method from outside the class\u001b[39;00m\n\u001b[1;32m---> 10\u001b[0m \u001b[38;5;28mprint\u001b[39m(obj\u001b[38;5;241m.\u001b[39m__private_attribute)  \u001b[38;5;66;03m# This will raise an AttributeError\u001b[39;00m\n\u001b[0;32m     11\u001b[0m \u001b[38;5;28mprint\u001b[39m(obj\u001b[38;5;241m.\u001b[39m__private_method())\n",
      "\u001b[1;31mAttributeError\u001b[0m: 'MyClass' object has no attribute '__private_attribute'"
     ]
    }
   ],
   "source": [
    "class MyClass:\n",
    "    def __init__(self):\n",
    "        self.__private_attribute = 10\n",
    "\n",
    "    def __private_method(self):\n",
    "        return \"This is a private method\"\n",
    "\n",
    "obj = MyClass()\n",
    "# Attempting to access private attribute and method from outside the class\n",
    "print(obj.__private_attribute)  # This will raise an AttributeError\n",
    "print(obj.__private_method())    # This will raise an AttributeError"
   ]
  },
  {
   "cell_type": "markdown",
   "id": "4cbb9a2e",
   "metadata": {},
   "source": [
    "\n",
    "To control access to attributes and enforce encapsulation, you can define **getter and setter methods** to retrieve and modify attribute values. "
   ]
  },
  {
   "cell_type": "code",
   "execution_count": 16,
   "id": "53f8695d",
   "metadata": {},
   "outputs": [
    {
     "name": "stdout",
     "output_type": "stream",
     "text": [
      "10\n",
      "20\n"
     ]
    }
   ],
   "source": [
    "class MyClass:\n",
    "    def __init__(self):\n",
    "        self.__private_attribute = 10\n",
    "\n",
    "    def get_private_attribute(self):\n",
    "        return self.__private_attribute\n",
    "\n",
    "    def set_private_attribute(self, value):\n",
    "        # Perform validation or other actions if needed\n",
    "        self.__private_attribute = value\n",
    "\n",
    "obj = MyClass()\n",
    "# Accessing private attribute using getter and setter methods\n",
    "print(obj.get_private_attribute())  # Output: 10\n",
    "obj.set_private_attribute(20)\n",
    "print(obj.get_private_attribute())  # Output: 20"
   ]
  },
  {
   "cell_type": "markdown",
   "id": "e3d1024c",
   "metadata": {},
   "source": [
    "**Class and Instance Variables**: Understanding the difference between class variables (shared among all instances of a class) and instance variables (unique to each instance) is crucial for designing effective class structures."
   ]
  },
  {
   "cell_type": "code",
   "execution_count": 17,
   "id": "fed290dc",
   "metadata": {},
   "outputs": [
    {
     "name": "stdout",
     "output_type": "stream",
     "text": [
      "10\n",
      "10\n",
      "100\n"
     ]
    }
   ],
   "source": [
    "class MyClass:\n",
    "    class_variable = 10\n",
    "\n",
    "    def __init__(self, instance_variable):\n",
    "        self.instance_variable = instance_variable\n",
    "\n",
    "# Accessing class variable using class name\n",
    "print(MyClass.class_variable)  # Output: 10\n",
    "\n",
    "# Accessing class variable using instance\n",
    "obj1 = MyClass(20)\n",
    "print(obj1.class_variable)    # Output: 10\n",
    "\n",
    "# Modifying class variable\n",
    "MyClass.class_variable = 100\n",
    "print(obj1.class_variable)    # Output: 100"
   ]
  },
  {
   "cell_type": "markdown",
   "id": "21ff8171",
   "metadata": {},
   "source": [
    "\n",
    "In Python, methods within a class can be classified into three main types: instance methods, class methods, and static methods. Each type serves a different purpose and has different rules for their declaration and usage.  \n",
    "\n",
    "**Instance Methods**:They can access both instance variables and class variables through the self parameter.\n",
    "Instance methods are typically used to perform actions specific to individual instances of the class.\n",
    "\n",
    "\n"
   ]
  },
  {
   "cell_type": "code",
   "execution_count": 30,
   "id": "34ba229a",
   "metadata": {},
   "outputs": [
    {
     "name": "stdout",
     "output_type": "stream",
     "text": [
      "30\n",
      "5\n",
      "20\n"
     ]
    }
   ],
   "source": [
    "class MyClass:\n",
    "    class_variable = 10\n",
    "    def __init__(self, value):\n",
    "        self.value = value\n",
    "\n",
    "    def instance_method(self):\n",
    "        MyClass.class_variable = 5\n",
    "        self.class_variable = 20        \n",
    "        return self.value + self.class_variable\n",
    "\n",
    "obj = MyClass(10)\n",
    "print(obj.instance_method())  # Output: 30\n",
    "print(MyClass.class_variable) # Output: 5\n",
    "print(obj.class_variable) # Output: 20\n"
   ]
  },
  {
   "cell_type": "markdown",
   "id": "64e35703",
   "metadata": {},
   "source": [
    "**Class Methods**:Class methods are methods that operate on class variables   \n",
    "They are defined with the @classmethod decorator and have the **cls** parameter as the first parameter in the method signature.  \n",
    "Class methods are often used to create factory methods"
   ]
  },
  {
   "cell_type": "code",
   "execution_count": 22,
   "id": "49369e90",
   "metadata": {},
   "outputs": [
    {
     "name": "stdout",
     "output_type": "stream",
     "text": [
      "100\n"
     ]
    }
   ],
   "source": [
    "class MyClass:\n",
    "    class_variable = 100\n",
    "\n",
    "    @classmethod\n",
    "    def class_method(cls):\n",
    "        return cls.class_variable\n",
    "\n",
    "print(MyClass.class_method())  # Output: 100"
   ]
  },
  {
   "cell_type": "markdown",
   "id": "bd42c5fc",
   "metadata": {},
   "source": [
    "**Static Methods**:Static methods are methods that do not depend on the state of either the class or the instance.\n",
    "They are defined with the **@staticmethod decorator** and do not have the self or cls parameter in the method signature (although you can still include them if needed).\n",
    "Static methods are similar to regular functions but are defined within a class for organizational purposes.\n",
    "They **cannot access** instance variables or class variables directly.\n",
    "Static methods are commonly used for utility functions that are related to the class but do not depend on its state."
   ]
  },
  {
   "cell_type": "code",
   "execution_count": null,
   "id": "80f73aff",
   "metadata": {},
   "outputs": [],
   "source": [
    "class MyClass:\n",
    "    @staticmethod\n",
    "    def static_method(x, y):\n",
    "        return x + y\n",
    "\n",
    "print(MyClass.static_method(10, 20))  # Output: 30\n"
   ]
  },
  {
   "cell_type": "markdown",
   "id": "31bcb75c",
   "metadata": {},
   "source": [
    "\n",
    "**property decorators**: There are three main property decorators  \n",
    "\n",
    "**@property**: This decorator is used to define a getter method for a property. It allows you to access an attribute like a regular attribute, but behind the scenes, a method is called to compute the value. The @property decorator is typically used for computed attributes or for adding additional processing logic when accessing an attribute.\n"
   ]
  },
  {
   "cell_type": "code",
   "execution_count": 32,
   "id": "34a352b7",
   "metadata": {},
   "outputs": [
    {
     "name": "stdout",
     "output_type": "stream",
     "text": [
      "50\n",
      "30\n"
     ]
    }
   ],
   "source": [
    "class Rectangle:\n",
    "    def __init__(self, length, width):\n",
    "        self._length = length\n",
    "        self._width = width\n",
    "\n",
    "    @property\n",
    "    def area(self):\n",
    "        return self._length * self._width\n",
    "\n",
    "    @property\n",
    "    def perimeter(self):\n",
    "        return 2 * (self._length + self._width)\n",
    "\n",
    "rectangle = Rectangle(5, 10)\n",
    "print(rectangle.area)       # Output: 50\n",
    "print(rectangle.perimeter)  # Output: 30"
   ]
  },
  {
   "cell_type": "markdown",
   "id": "3aee4e79",
   "metadata": {},
   "source": [
    "\n",
    "**@\\<attribute\\>.setter**: This decorator is used to define a setter method for a property. It allows you to modify the value of an attribute using the assignment operator (=). The @\\<attribute\\>.setter decorator is typically used for attributes that need validation or additional processing logic when setting their value.\n",
    "\n"
   ]
  },
  {
   "cell_type": "code",
   "execution_count": 33,
   "id": "deebc9ab",
   "metadata": {},
   "outputs": [
    {
     "name": "stdout",
     "output_type": "stream",
     "text": [
      "20\n",
      "20\n"
     ]
    }
   ],
   "source": [
    "class MyClass:\n",
    "    def __init__(self):\n",
    "        self._value = 10\n",
    "\n",
    "    @property\n",
    "    def value(self):\n",
    "        return self._value\n",
    "\n",
    "    @value.setter\n",
    "    def value(self, new_value):\n",
    "        if new_value >= 0:\n",
    "            self._value = new_value\n",
    "\n",
    "obj = MyClass()\n",
    "obj.value = 20\n",
    "print(obj.value)  # Output: 20\n",
    "\n",
    "obj.value = -5   # This assignment is ignored because of the validation in the setter\n",
    "print(obj.value)  # Output: 20"
   ]
  },
  {
   "cell_type": "markdown",
   "id": "4a8dbba0",
   "metadata": {},
   "source": [
    "\n",
    "**@\\<attribute\\>.deleter**: This decorator is used to define a deleter method for a property. It allows you to delete an attribute using the del keyword. This decorator is typically used for attributes that require cleanup or additional actions when deleted.\n"
   ]
  },
  {
   "cell_type": "code",
   "execution_count": 34,
   "id": "a0247d1b",
   "metadata": {},
   "outputs": [
    {
     "name": "stdout",
     "output_type": "stream",
     "text": [
      "10\n"
     ]
    },
    {
     "ename": "AttributeError",
     "evalue": "'MyClass' object has no attribute '_value'",
     "output_type": "error",
     "traceback": [
      "\u001b[1;31m---------------------------------------------------------------------------\u001b[0m",
      "\u001b[1;31mAttributeError\u001b[0m                            Traceback (most recent call last)",
      "Cell \u001b[1;32mIn[34], line 17\u001b[0m\n\u001b[0;32m     14\u001b[0m \u001b[38;5;28mprint\u001b[39m(obj\u001b[38;5;241m.\u001b[39mvalue)  \u001b[38;5;66;03m# Output: 10\u001b[39;00m\n\u001b[0;32m     16\u001b[0m \u001b[38;5;28;01mdel\u001b[39;00m obj\u001b[38;5;241m.\u001b[39mvalue\n\u001b[1;32m---> 17\u001b[0m \u001b[38;5;28mprint\u001b[39m(obj\u001b[38;5;241m.\u001b[39mvalue)\n",
      "Cell \u001b[1;32mIn[34], line 7\u001b[0m, in \u001b[0;36mMyClass.value\u001b[1;34m(self)\u001b[0m\n\u001b[0;32m      5\u001b[0m \u001b[38;5;129m@property\u001b[39m\n\u001b[0;32m      6\u001b[0m \u001b[38;5;28;01mdef\u001b[39;00m \u001b[38;5;21mvalue\u001b[39m(\u001b[38;5;28mself\u001b[39m):\n\u001b[1;32m----> 7\u001b[0m     \u001b[38;5;28;01mreturn\u001b[39;00m \u001b[38;5;28mself\u001b[39m\u001b[38;5;241m.\u001b[39m_value\n",
      "\u001b[1;31mAttributeError\u001b[0m: 'MyClass' object has no attribute '_value'"
     ]
    }
   ],
   "source": [
    "class MyClass:\n",
    "    def __init__(self):\n",
    "        self._value = 10\n",
    "\n",
    "    @property\n",
    "    def value(self):\n",
    "        return self._value\n",
    "\n",
    "    @value.deleter\n",
    "    def value(self):\n",
    "        del self._value\n",
    "\n",
    "obj = MyClass()\n",
    "print(obj.value)  # Output: 10\n",
    "\n",
    "del obj.value\n",
    "print(obj.value)  # This will raise an AttributeError because the attribute has been deleted"
   ]
  },
  {
   "cell_type": "markdown",
   "id": "1e545c9c",
   "metadata": {},
   "source": [
    "Using property decorators, you can implement computed attributes, enforce validation rules, and perform cleanup actions\n",
    "when accessing, setting, or deleting attributes in Python classes.\n",
    "This provides a powerful mechanism for controlling attribute access and behavior while maintaining a clean and intuitive interface for interacting with objects.  \n",
    "\n",
    "**Inheritance and composition**: Inheritance and composition are two fundamental concepts in object-oriented programming (OOP) that allow you to create relationships between classes and reuse code. They provide different mechanisms for achieving code reuse and structuring your classes.  \n",
    "\n",
    "Inheritance is an \"is-a\" relationship, where a subclass \"is a\" type of its superclass.\n",
    "Composition is a \"has-a\" relationship, where a class \"has a\" component of another class.  \n",
    "Inheritance:\n",
    "\n",
    "**Inheritance** is a mechanism where a new class (called a subclass or derived class) is created from an existing class (called a superclass or base class). The subclass inherits attributes and methods from the superclass, allowing it to reuse code and extend the functionality of the superclass.\n",
    "\n",
    "In Python, inheritance is implemented using the syntax class Subclass(Superclass):, where Subclass is the name of the new class, and Superclass is the name of the existing class from which it inherits. The subclass can override methods and attributes of the superclass, add new methods and attributes, or inherit them as-is.\n"
   ]
  },
  {
   "cell_type": "code",
   "execution_count": 36,
   "id": "1c72788f",
   "metadata": {},
   "outputs": [
    {
     "name": "stdout",
     "output_type": "stream",
     "text": [
      "Woof!\n",
      "Meow!\n"
     ]
    }
   ],
   "source": [
    "class Animal:\n",
    "    def speak(self):\n",
    "        return \"Animal speaks\"\n",
    "\n",
    "class Dog(Animal):\n",
    "    def speak(self):\n",
    "        return \"Woof!\"\n",
    "\n",
    "class Cat(Animal):\n",
    "    def speak(self):\n",
    "        return \"Meow!\"\n",
    "\n",
    "dog = Dog()\n",
    "print(dog.speak())  # Output: Woof!\n",
    "\n",
    "cat = Cat()\n",
    "print(cat.speak())  # Output: Meow!"
   ]
  },
  {
   "cell_type": "markdown",
   "id": "f8d4900b",
   "metadata": {},
   "source": [
    "**Composition**:Composition is a design principle where a class contains objects of other classes as members. Instead of inheriting behavior, a class uses instances of other classes to achieve its functionality. Composition allows for more flexible and modular designs compared to inheritance.\n",
    "\n",
    "In Python, composition is achieved by creating instances of other classes within a class and using them to perform tasks or provide functionality.\n"
   ]
  },
  {
   "cell_type": "code",
   "execution_count": 37,
   "id": "e0680700",
   "metadata": {},
   "outputs": [
    {
     "name": "stdout",
     "output_type": "stream",
     "text": [
      "Engine started\n"
     ]
    }
   ],
   "source": [
    "class Engine:\n",
    "    def start(self):\n",
    "        return \"Engine started\"\n",
    "\n",
    "class Car:\n",
    "    def __init__(self):\n",
    "        self.engine = Engine() #composition\n",
    "\n",
    "    def start(self):#,same or diff name\n",
    "        return self.engine.start() #use function,add more code as needed\n",
    "\n",
    "car = Car()\n",
    "print(car.start())  # Output: Engine started"
   ]
  },
  {
   "cell_type": "markdown",
   "id": "6998b61b",
   "metadata": {},
   "source": [
    "\n",
    "In general, prefer composition over inheritance when designing class relationships, as it leads to looser coupling, better code reuse, and more flexibility in design. However, inheritance can still be useful in certain situations, such as when you want to create specialized subclasses with shared behavior from a common superclass.  \n",
    "\n",
    "**Method Resolution Order (MRO)**  \n",
    "The C3 linearization algorithm is used to compute the MRO, ensuring a consistent and predictable order for method resolution.  \n",
    "\n",
    "**C3 Linearization Algorithm**: The C3 linearization algorithm computes a consistent linearization (ordering) of the classes in the inheritance hierarchy.It preserves the order of appearance of classes and their ancestors, local precedence ordering, and monotonicity properties.The linearization order is computed by merging the linearizations of the base classes according to specific rules.  \n",
    "**Left-to-Right, Depth-First Search**: Python follows a left-to-right, depth-first search (DFS) traversal of the inheritance hierarchy to compute the MRO.It starts from the derived class and visits each class and its ancestors recursively.\n",
    "In the presence of multiple inheritance, Python traverses the inheritance hierarchy from left to right, visiting each base class before its descendants.  \n",
    "**Bottom-to-Top Approach**: While computing the MRO, Python starts from the derived class and proceeds towards its ancestors, moving from bottom to top of the inheritance hierarchy.\n",
    "The linearization is constructed by merging the linearizations of the base classes from bottom to top, ensuring that the MRO reflects the inheritance hierarchy.\n",
    "Method Resolution:\n",
    "\n",
    "When a method is called on an instance of a class, Python searches for the method according to its MRO.\n",
    "It looks for the method in each class and its ancestors in the order specified by the MRO until it finds the method or raises an AttributeError if the method is not found.  \n",
    "\n"
   ]
  },
  {
   "cell_type": "code",
   "execution_count": 38,
   "id": "12ea29e7",
   "metadata": {},
   "outputs": [
    {
     "name": "stdout",
     "output_type": "stream",
     "text": [
      "C\n"
     ]
    }
   ],
   "source": [
    "class A:\n",
    "    def method(self):\n",
    "        return \"A\"\n",
    "\n",
    "class B(A):\n",
    "    pass\n",
    "\n",
    "class C(A):\n",
    "    def method(self):\n",
    "        return \"C\"\n",
    "\n",
    "class D(B, C):\n",
    "    pass\n",
    "\n",
    "obj = D()\n",
    "print(obj.method())  # Output: \"C\"\n"
   ]
  },
  {
   "cell_type": "markdown",
   "id": "052d31b7",
   "metadata": {},
   "source": [
    "In this example, the method resolution order for class D is computed as D, B, C, A according to the C3 linearization algorithm.    \n",
    "\n",
    "**Magic Methods (Special Methods)**: Magic methods, also known as dunder methods (short for \"double underscore\"), are special methods in Python that have double underscores (__) at the beginning and end of their names.   \n",
    "These methods provide a way to customize the behavior of objects in Python, enabling operators and built-in functions to work with user-defined classes. Magic methods are called implicitly by the Python interpreter in response to certain language-specific operations.  \n",
    "  \n",
    "\n",
    "Here's an overview of some commonly used magic methods and their purposes:  \n",
    "\n",
    "**Initialization and Representation**:  \n",
    "\n",
    "__init__(self, ...): Constructor method that initializes a new instance of a class.  \n",
    "__repr__(self): Method that returns a string representation of an object. It should be unambiguous and ideally used for debugging and logging purposes.  \n",
    "__str__(self): Method that returns a string representation of an object. It is intended for human-readable output and is called by the str() function.  \n",
    "  \n",
    "**Comparison**:  \n",
    "\n",
    "__eq__(self, other): Method that defines equality comparison (==) between two objects.  \n",
    "__ne__(self, other): Method that defines inequality comparison (!=) between two objects.  \n",
    "__lt__(self, other): Method that defines less-than comparison (<) between two objects.  \n",
    "__gt__(self, other): Method that defines greater-than comparison (>) between two objects.  \n",
    "__le__(self, other): Method that defines less-than or equal comparison (<=) between two objects.  \n",
    "__ge__(self, other): Method that defines greater-than or equal comparison (>=) between two objects.   \n",
    "  \n",
    "**Numeric Operators**:  \n",
    "\n",
    "__add__(self, other): Method that defines addition (+) between two objects.  \n",
    "__sub__(self, other): Method that defines subtraction (-) between two objects.  \n",
    "__mul__(self, other): Method that defines multiplication (*) between two objects.  \n",
    "__truediv__(self, other): Method that defines true division (/) between two objects.  \n",
    "__floordiv__(self, other): Method that defines floor division (//) between two objects.  \n",
    "__mod__(self, other): Method that defines modulus (%) between two objects.  \n",
    "__pow__(self, other[, modulo]): Method that defines exponentiation (**) between two objects.  \n",
    "__abs__(self): Method that defines absolute value (abs()) of an object.  \n",
    "  \n",
    "  \n",
    "**Container Methods**:  \n",
    "\n",
    "__len__(self): Method that returns the length of an object. It is called by the len() function.  \n",
    "__getitem__(self, key): Method that allows indexing and slicing of objects. It is called by the subscript operator ([]).  \n",
    "__setitem__(self, key, value): Method that allows assignment to items in objects. It is called by the subscript assignment operator ([]).  \n",
    "__delitem__(self, key): Method that allows deletion of items in objects. It is called by the del statement.    \n",
    "__iter__(self): Method that returns an iterator for an object. It is called by the iter() function.  \n",
    "These are just a few examples of the many magic methods available in Python. By implementing these methods in your custom   classes, you can make objects behave like built-in types and enable them to participate in Python's rich ecosystem of operators, functions, and protocols. Magic methods provide a powerful mechanism for customization and abstraction in Python.\n"
   ]
  },
  {
   "cell_type": "code",
   "execution_count": 43,
   "id": "a0141cd5",
   "metadata": {},
   "outputs": [
    {
     "name": "stdout",
     "output_type": "stream",
     "text": [
      "Vector(2, 3)\n",
      "Vector(2, 3)\n",
      "Vector(6, 8)\n",
      "False\n",
      "True\n",
      "Vector(-2, -3)\n"
     ]
    }
   ],
   "source": [
    "class Vector:\n",
    "    def __init__(self, x, y):\n",
    "        self.x = x\n",
    "        self.y = y\n",
    "\n",
    "    # Magic method for string representation\n",
    "    def __str__(self):\n",
    "        return f\"Vector({self.x}, {self.y})\"\n",
    "\n",
    "    # Magic method for object representation\n",
    "    def __repr__(self):\n",
    "        return f\"Vector({self.x}, {self.y})\"\n",
    "\n",
    "    # Magic method for addition\n",
    "    def __add__(self, other):\n",
    "        if isinstance(other, Vector):\n",
    "            return Vector(self.x + other.x, self.y + other.y)\n",
    "        else:\n",
    "            raise TypeError(\"Unsupported operand type for +\")\n",
    "\n",
    "    # Magic method for equality\n",
    "    def __eq__(self, other):\n",
    "        if isinstance(other, Vector):\n",
    "            return self.x == other.x and self.y == other.y\n",
    "        else:\n",
    "            return False\n",
    "\n",
    "    # Magic method for less than\n",
    "    def __lt__(self, other):\n",
    "        if isinstance(other, Vector):\n",
    "            return (self.x ** 2 + self.y ** 2) < (other.x ** 2 + other.y ** 2)\n",
    "        else:\n",
    "            raise TypeError(\"Unsupported operand type for <\")\n",
    "\n",
    "    # Magic method for negation\n",
    "    def __neg__(self):\n",
    "        return Vector(-self.x, -self.y)\n",
    "\n",
    "# Usage\n",
    "v1 = Vector(2, 3)\n",
    "v2 = Vector(4, 5)\n",
    "\n",
    "print(v1)              # Output: Vector(2, 3)\n",
    "print(repr(v1))        # Output: Vector(2, 3)\n",
    "print(v1 + v2)         # Output: Vector(6, 8)\n",
    "print(v1 == v2)        # Output: False\n",
    "print(v1 < v2)         # Output: True\n",
    "print(-v1)             # Output: Vector(-2, -3)"
   ]
  },
  {
   "cell_type": "markdown",
   "id": "cbdbe2cd",
   "metadata": {},
   "source": [
    "\n",
    "**Polymorphism**:Polymorphism is a fundamental concept in object-oriented programming (OOP) that allows objects of different classes to be treated as objects of a common superclass. It enables flexibility and abstraction in code by allowing different classes to implement methods with the same name, but with different behaviors.  \n",
    "\n",
    "There are two main types of polymorphism:  \n",
    "\n",
    "**Compile-time Polymorphism (Static Polymorphism)**:Also known as early binding or method overloading.\n",
    "It occurs at compile time and involves the selection of the appropriate method based on the signature of the method call."
   ]
  },
  {
   "cell_type": "code",
   "execution_count": 42,
   "id": "eb0792d9",
   "metadata": {},
   "outputs": [
    {
     "name": "stdout",
     "output_type": "stream",
     "text": [
      "5\n",
      "9\n"
     ]
    }
   ],
   "source": [
    "class MathOperations:\n",
    "    @staticmethod\n",
    "    def add(x, y, z=None):\n",
    "        if z is not None:\n",
    "            return x + y + z\n",
    "        else:\n",
    "            return x + y\n",
    "\n",
    "# Usage\n",
    "print(MathOperations.add(2, 3))      # Output: 5\n",
    "print(MathOperations.add(2, 3, 4))   # Output: 9"
   ]
  },
  {
   "cell_type": "markdown",
   "id": "a15c6757",
   "metadata": {},
   "source": [
    "  \n",
    "**Run-time Polymorphism (Dynamic Polymorphism)**:Also known as late binding or method overriding.\n",
    "It occurs at runtime and involves the selection of the appropriate method based on the actual type of the object.  \n",
    "\n",
    "Polymorphism allows for code reuse, abstraction, and flexibility in design, making it a powerful concept in OOP.\n",
    "\n",
    "**Duck Typing**:Duck typing is a concept used in dynamically typed programming languages like Python, where the type or class of an object is determined by its behavior rather than its explicit type. The phrase \"If it looks like a duck, swims like a duck, and quacks like a duck, then it probably is a duck\" captures the essence of duck typing.  \n",
    "\n",
    "In Python, duck typing means that the suitability of an object for a particular purpose is determined by whether it supports the required methods and behaviors, rather than by its class or inheritance hierarchy. If an object implements the necessary methods, it can be used in a context that expects objects of a specific type, even if it's not explicitly of that type.\n"
   ]
  },
  {
   "cell_type": "code",
   "execution_count": 39,
   "id": "3fc0bc8c",
   "metadata": {},
   "outputs": [
    {
     "name": "stdout",
     "output_type": "stream",
     "text": [
      "500\n",
      "1000\n"
     ]
    }
   ],
   "source": [
    "\n",
    "class SavingsAccount:\n",
    "    def __init__(self, balance):\n",
    "        self.balance = balance\n",
    "\n",
    "    def deposit(self, amount):\n",
    "        self.balance += amount\n",
    "\n",
    "    def withdraw(self, amount):\n",
    "        if self.balance >= amount:\n",
    "            self.balance -= amount\n",
    "            return amount\n",
    "        else:\n",
    "            return \"Insufficient funds\"\n",
    "\n",
    "class CheckingAccount:\n",
    "    def __init__(self, balance):\n",
    "        self.balance = balance\n",
    "\n",
    "    def deposit(self, amount):\n",
    "        self.balance += amount\n",
    "\n",
    "    def withdraw(self, amount):\n",
    "        if self.balance >= amount:\n",
    "            self.balance -= amount\n",
    "            return amount\n",
    "        else:\n",
    "            return \"Insufficient funds\"\n",
    "\n",
    "def process_transaction(account, amount):\n",
    "    # Assume the account object has a deposit() and withdraw() method\n",
    "    account.deposit(amount)\n",
    "    return account.withdraw(amount)\n",
    "\n",
    "# Usage\n",
    "savings_account = SavingsAccount(1000)\n",
    "checking_account = CheckingAccount(2000)\n",
    "\n",
    "print(process_transaction(savings_account, 500))   # Output: 500 (amount withdrawn)\n",
    "print(process_transaction(checking_account, 1000)) # Output: 1000 (amount withdrawn)"
   ]
  },
  {
   "cell_type": "markdown",
   "id": "1e7e63da",
   "metadata": {},
   "source": [
    "**Abstract Base Classes**  \n",
    "\n",
    "The abc module in Python stands for Abstract Base Classes. It provides tools for defining abstract base classes (ABCs) and interfaces, and enforcing method implementations in subclasses.  \n",
    "\n",
    "Here's an overview of how the abc module works:  \n",
    "\n",
    "Abstract Base Classes (ABCs):Abstract base classes are classes that define abstract methods which must be implemented by their subclasses. They cannot be instantiated directly.\n",
    "ABCs are used to define a common interface or set of methods that subclasses are expected to implement.\n",
    "The **abc.ABC** class is the base class for defining ABCs.  \n",
    "Defining Abstract Methods:Abstract methods are methods declared in an abstract base class but not implemented in the base class itself.Subclasses of the abstract base class must provide concrete implementations for these abstract methods.\n",
    "Abstract methods are defined using the **@abstractmethod** decorator from the abc module.  \n",
    "Enforcing Method Implementations:When a subclass of an abstract base class fails to implement one or more abstract methods defined in the base class, it raises a TypeError at runtime.This ensures that all subclasses of the abstract base class provide concrete implementations for the required methods.  \n",
    "Interface Checking:The abc module also provides functions like **isinstance() and issubclass()** which can be used to check whether an object is an instance of a particular abstract base class or whether a class is a subclass of an abstract base class.\n",
    "This allows for interface checking, ensuring that objects and classes conform to the specified interface defined by the abstract base class.  \n",
    "**Abstract Class: A class is considered abstract if it has one or more abstract methods.  \n",
    "Concrete Class: A class is considered concrete if it implements all abstract methods defined in itself and its parent classes.  \n",
    "Instantiation: Only concrete classes can be instantiated. If a class (or any of its parent classes) has unimplemented abstract methods, it cannot be instantiated directly.**"
   ]
  },
  {
   "cell_type": "code",
   "execution_count": 44,
   "id": "e3c9c96c",
   "metadata": {},
   "outputs": [
    {
     "name": "stdout",
     "output_type": "stream",
     "text": [
      "78.5\n"
     ]
    },
    {
     "ename": "TypeError",
     "evalue": "Can't instantiate abstract class Triangle with abstract method area",
     "output_type": "error",
     "traceback": [
      "\u001b[1;31m---------------------------------------------------------------------------\u001b[0m",
      "\u001b[1;31mTypeError\u001b[0m                                 Traceback (most recent call last)",
      "Cell \u001b[1;32mIn[44], line 24\u001b[0m\n\u001b[0;32m     21\u001b[0m     \u001b[38;5;28;01mpass\u001b[39;00m\n\u001b[0;32m     23\u001b[0m \u001b[38;5;66;03m# Attempting to instantiate Triangle without implementing area()\u001b[39;00m\n\u001b[1;32m---> 24\u001b[0m triangle \u001b[38;5;241m=\u001b[39m Triangle()\n",
      "\u001b[1;31mTypeError\u001b[0m: Can't instantiate abstract class Triangle with abstract method area"
     ]
    }
   ],
   "source": [
    "from abc import ABC, abstractmethod\n",
    "\n",
    "class Shape(ABC):\n",
    "    @abstractmethod\n",
    "    def area(self):\n",
    "        pass\n",
    "\n",
    "class Circle(Shape):\n",
    "    def __init__(self, radius):\n",
    "        self.radius = radius\n",
    "\n",
    "    def area(self):\n",
    "        return 3.14 * self.radius ** 2\n",
    "\n",
    "# Usage\n",
    "# circle = Shape()  # This will raise TypeError since Shape is an abstract class\n",
    "circle = Circle(5)\n",
    "print(circle.area())  # Output: 78.5\n",
    "\n",
    "class Triangle(Shape):\n",
    "    pass\n",
    "\n",
    "# Attempting to instantiate Triangle without implementing area()\n",
    "triangle = Triangle()  # This will raise TypeError"
   ]
  },
  {
   "cell_type": "markdown",
   "id": "51cebbc2",
   "metadata": {},
   "source": [
    "**Metaclasses**    \n",
    "Metaclasses in Python are classes that define the behavior of classes themselves.  \n",
    "In Python, classes are instances of metaclasses.\n",
    "When you define a class in Python, you're implicitly using the 'type' metaclass to create the class object.\n"
   ]
  },
  {
   "cell_type": "code",
   "execution_count": 45,
   "id": "09f9f5d2",
   "metadata": {},
   "outputs": [],
   "source": [
    "class MyClass:\n",
    "    pass\n",
    "\n",
    "# In this example, MyClass is an object of the type metaclass. \n",
    "# It is a class that can be instantiated to create objects of type MyClass."
   ]
  },
  {
   "cell_type": "markdown",
   "id": "48bbff6b",
   "metadata": {},
   "source": [
    "The **type class** is a fundamental component of Python's object-oriented programming model. It provides the foundation for class creation and metaprogramming, allowing you to define and manipulate classes dynamically at runtime.  \n",
    "\n",
    "The **type** class is a built-in metaclass. It's the default metaclass for all classes that you create without explicitly specifying a custom metaclass. The type class is responsible for creating and defining all other classes in Python.  \n",
    "\n",
    "Here are some key points about the type class:  \n",
    "\n",
    "Class Creation: The type class is itself a metaclass, meaning it's responsible for creating class objects. \n",
    "When you define a class in Python using the class keyword, you're actually invoking the type metaclass to create the class object.  \n",
    "Metaclasses are used to create classes, so when you instantiate a metaclass, you're creating a new class.\n",
    "\n",
    "Here's a brief overview of the relationship between metaclasses and classes:\n",
    "\n",
    "Metaclass: A metaclass is a class that defines the behavior of other classes. \n",
    "It is responsible for creating class objects. Metaclasses are typically subclasses of the built-in type class.\n",
    "Class: A class is a blueprint for creating objects. It defines the properties and behaviors of objects of that type. \n",
    "\n",
    "**Metaclass Syntax**: You can specify a custom metaclass for a class by using the metaclass keyword argument in the class definition. If you don't specify a custom metaclass, Python defaults to using the 'type' metaclass.Object of a metaclass is  a class.\n"
   ]
  },
  {
   "cell_type": "code",
   "execution_count": null,
   "id": "c80181b1",
   "metadata": {},
   "outputs": [],
   "source": [
    "# You can also create custom metaclasses by defining a class that inherits from type.\n",
    "class MyMeta(type):\n",
    "    pass\n",
    "\n",
    "class MyClass(metaclass=MyMeta):\n",
    "    pass\n",
    "# MyMeta is a custom metaclass, and MyClass is a class that uses MyMeta as its metaclass. \n",
    "# Instances of MyMeta are classes that can be instantiated to create objects of type MyClass."
   ]
  },
  {
   "cell_type": "markdown",
   "id": "7b97f9da",
   "metadata": {},
   "source": [
    "\n",
    "Metaclasses allow you to customize the creation and behavior of classes at the time of definition.  \n",
    "Metaclasses are often used for advanced purposes such as enforcing class-level constraints, adding methods or attributes to classes dynamically, and implementing custom behavior for class instantiation.  \n",
    "Class-Level Constraints: Metaclasses can enforce class-level constraints by intercepting the creation of classes \n",
    "and inspecting their attributes or methods. \n",
    "For example, you can use metaclasses to \n",
    "enforce naming conventions,\n",
    "restrict certain attributes or methods, \n",
    "add additional functionality to all classes.  \n",
    "**Dynamic Class Modification**: Metaclasses can dynamically modify classes by adding, removing, or modifying \n",
    "attributes or methods during class creation.  \n",
    " This allows for powerful customization of class behavior without modifying the class definition directly.  \n",
    "**Metaclass vs. Decorator**: While metaclasses provide powerful customization capabilities, they can be **complex and difficult to understand**.    \n",
    "In many cases, decorators can achieve similar results with simpler syntax.\n",
    "It's important to choose the appropriate tool (metaclass or decorator) based on the requirements and complexity of the customization.  \n",
    "They are typically used in libraries and frameworks to implement domain-specific behavior or enforce constraints at the class level.    \n",
    " **Metaclass Operations**: The type class defines several methods for working with classes, including __new__(), __init__(), and __call__().   \n",
    "These methods are responsible for creating and initializing class objects and for invoking classes as if they were functions (class instantiation).\n",
    "**Class Inspection**: You can use the type() function to inspect the type of an object. For example, type(obj) returns the type of obj, which could be a built-in type, a user-defined class, or a metaclass.  \n",
    "**Metaprogramming**: The type class enables metaprogramming in Python, allowing you to dynamically create and modify classes at runtime. This capability is used extensively in frameworks, libraries, and advanced programming techniques like class decorators and metaclasses. \n",
    "\n"
   ]
  },
  {
   "cell_type": "code",
   "execution_count": 51,
   "id": "a1b4437f",
   "metadata": {},
   "outputs": [
    {
     "name": "stdout",
     "output_type": "stream",
     "text": [
      "1\n"
     ]
    }
   ],
   "source": [
    "\n",
    "\n",
    "class SingletonMeta(type):\n",
    "    _instances = {}\n",
    "\n",
    "    def __call__(cls, *args, **kwargs):\n",
    "        if cls not in cls._instances:\n",
    "            cls._instances[cls] = super().__call__(*args, **kwargs)\n",
    "        return cls._instances[cls]\n",
    "\n",
    "class SingletonClass(metaclass=SingletonMeta):\n",
    "    def __init__(self, value):\n",
    "        self.value = value\n",
    "\n",
    "# Usage\n",
    "obj1 = SingletonClass(1)\n",
    "obj2 = SingletonClass(2)\n",
    "\n",
    "print(obj1.value)  # Output: 1\n"
   ]
  },
  {
   "cell_type": "markdown",
   "id": "a224f5dc",
   "metadata": {},
   "source": [
    "**type() Function**: You can also use the type() function to create new class objects dynamically.   \n",
    "The type() function takes three arguments: the name of the class, a tuple of base classes (if any), and a dictionary containing the class attributes and methods.  "
   ]
  },
  {
   "cell_type": "code",
   "execution_count": 50,
   "id": "92f45a31",
   "metadata": {},
   "outputs": [
    {
     "name": "stdout",
     "output_type": "stream",
     "text": [
      "Hello, Ameya!\n"
     ]
    }
   ],
   "source": [
    "# Define a function\n",
    "def greet(self):\n",
    "    return f\"Hello, {self.name}!\"\n",
    "\n",
    "# Define the value for the 'name' attribute\n",
    "name = \"Ameya\"\n",
    "\n",
    "# Create a dictionary containing attributes and methods\n",
    "attrs = {'name': name, 'greet': greet}\n",
    "\n",
    "# Create a dynamically generated class with attributes and methods\n",
    "DynamicClass = type('DynamicClass', (), attrs)\n",
    "\n",
    "# Instantiate an object from the dynamically generated class\n",
    "obj = DynamicClass()\n",
    "\n",
    "# Set the 'name' attribute for the object\n",
    "obj.name = name\n",
    "\n",
    "# Call the 'greet' method on the object\n",
    "print(obj.greet())  # Output: Hello, Ameya!"
   ]
  }
 ],
 "metadata": {
  "kernelspec": {
   "display_name": "Python 3 (ipykernel)",
   "language": "python",
   "name": "python3"
  },
  "language_info": {
   "codemirror_mode": {
    "name": "ipython",
    "version": 3
   },
   "file_extension": ".py",
   "mimetype": "text/x-python",
   "name": "python",
   "nbconvert_exporter": "python",
   "pygments_lexer": "ipython3",
   "version": "3.11.3"
  }
 },
 "nbformat": 4,
 "nbformat_minor": 5
}
