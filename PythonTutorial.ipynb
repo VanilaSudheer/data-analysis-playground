{
 "cells": [
  {
   "cell_type": "markdown",
   "id": "642b9110",
   "metadata": {},
   "source": [
    "# Python Tutorial\n",
    "\n",
    "Welcome to the Python tutorial! This tutorial is designed to introduce you to the basics of Python programming language. Whether you're completely new to programming or looking to refresh your Python skills, you're in the right place.\n",
    "\n",
    "## Introduction to Python\n",
    "\n",
    "Python is a high-level, interpreted programming language known for its simplicity and readability. It's widely used in various domains including web development, data science, machine learning, artificial intelligence, and more.\n",
    "\n",
    "\n",
    "Guido van Rossum started working on Python in the late 1980s, and the first version of CPython, Python 0.9.0, was released in February 1991. Since then, Guido van Rossum has been the primary author and maintainer of CPython for many years, overseeing its development and evolution into one of the most popular programming languages in the world.\n",
    "\n",
    "CPython continues to be developed and maintained by a community of contributors, with Guido van Rossum's guidance and involvement. It serves as the basis for the Python language specification and is the version of Python most commonly used by developers for building applications, libraries, and frameworks.\n",
    "\n",
    "\n",
    "Overall, Python's success can be attributed to its simplicity, readability, versatility, and active community, making it a preferred language for both beginners and professionals in the world of programming.\n",
    "\n",
    "\n",
    "## Getting Started\n",
    "\n",
    "To begin our Python journey, let's start with some basics:\n",
    "\n",
    "### 1. Hello, World!\n",
    "Let's start with the traditional \"Hello, World!\" program to print a message to the console.\n",
    "\n",
    "\n",
    "\n",
    "\n",
    "\n"
   ]
  },
  {
   "cell_type": "code",
   "execution_count": 1,
   "id": "cf856cd4",
   "metadata": {},
   "outputs": [
    {
     "name": "stdout",
     "output_type": "stream",
     "text": [
      "Hello, World!\n"
     ]
    }
   ],
   "source": [
    "print(\"Hello, World!\")"
   ]
  },
  {
   "cell_type": "markdown",
   "id": "6b8e1b04",
   "metadata": {},
   "source": [
    "### 2. Variables, Data Types and Data structures \n",
    "In Python, variables are used to store data values.\n",
    "\n",
    "Data types in Python refer to the classification of data items, indicating the kind of value that a variable can hold.\n",
    "Python has several built-in data types such as int, float, str, bool\n"
   ]
  },
  {
   "cell_type": "code",
   "execution_count": 2,
   "id": "f2c9df02",
   "metadata": {},
   "outputs": [],
   "source": [
    "# Integer variable\n",
    "age = 45\n",
    "\n",
    "# Float variable\n",
    "height = 5.0\n",
    "\n",
    "# String variable\n",
    "name = \"Vanila Sudeer\"\n",
    "\n",
    "# Boolean variable\n",
    "is_artist = True"
   ]
  },
  {
   "cell_type": "markdown",
   "id": "d1408826",
   "metadata": {},
   "source": [
    "\n",
    "Data structures in Python refer to the way data is organized and stored in memory.\n",
    "lists, tuples, dictionaries, set, strings, byte and byte arrays are some of the built-in data structures in Python.\n",
    "\n",
    "Additionally, Python also supports various other data structures through standard libraries and third-party packages, such as arrays, stacks, queues, heaps, trees, graphs, etc. Depending on your specific use case, you can choose the appropriate data structure to store and manipulate your data efficiently"
   ]
  },
  {
   "cell_type": "markdown",
   "id": "b61896ae",
   "metadata": {},
   "source": [
    "### Lists:\n",
    "\n",
    "Lists are ordered collections of items.\n",
    "They are mutable, meaning you can add, remove, or modify elements after the list is created.\n",
    "Lists can contain elements of different data types and data structures.\n"
   ]
  },
  {
   "cell_type": "code",
   "execution_count": 27,
   "id": "52527cd0",
   "metadata": {},
   "outputs": [
    {
     "name": "stdout",
     "output_type": "stream",
     "text": [
      "1\n",
      "2.5\n",
      "three\n",
      "[4, 5, 6]\n",
      "4\n",
      "{'name': 'Vanila', 'age': 43}\n",
      "43\n"
     ]
    }
   ],
   "source": [
    "my_list = [1, 2.5, 'three', [4, 5, 6], {'name': 'Vanila', 'age': 43}]\n",
    "\n",
    "# Accessing elements of the list\n",
    "print(my_list[0])    # Output: 1\n",
    "print(my_list[1])    # Output: 2.5\n",
    "print(my_list[2])    # Output: 'three'\n",
    "print(my_list[3])    # Output: [4, 5, 6]\n",
    "print(my_list[3][0]) # Output: 4 (Accessing element of nested list)\n",
    "print(my_list[4])    # Output: {'name': 'Vanila', 'age': 43}\n",
    "print(my_list[4]['age']) # Output: 43"
   ]
  },
  {
   "cell_type": "markdown",
   "id": "61a92e82",
   "metadata": {},
   "source": [
    "### Slicing\n",
    "Slicing is a powerful feature in Python for extracting sublists (slices) from lists"
   ]
  },
  {
   "cell_type": "code",
   "execution_count": 40,
   "id": "60351c8d",
   "metadata": {},
   "outputs": [
    {
     "data": {
      "text/plain": [
       "[200, 2, 3, 4, 5]"
      ]
     },
     "execution_count": 40,
     "metadata": {},
     "output_type": "execute_result"
    }
   ],
   "source": [
    "my_list = [1, 2, 3, 4, 5]\n",
    "\n",
    "sublist = my_list[1:4]  # Extracting elements at index 1, 2, and 3\n",
    "\n",
    "prefix = my_list[:3]    # First three elements: [1, 2, 3]\n",
    "suffix = my_list[-2:]   # Last two elements: [4, 5]\n",
    "\n",
    "every_other = my_list[::2]  # Elements at even indices\n",
    "reversed_list = my_list[::-1]  # Reversed list\n",
    "\n",
    "# del my_list[1:3]   # Deleting elements at index 1 and 2\n",
    "copied_list = my_list[:]  # Shallow copy of the original list\n",
    "my_list[0]  = 100\n",
    "copied_list[0] = 200\n",
    "my_list\n",
    "copied_list\n",
    "\n",
    "# my_list[:] = []   # Clearing all elements from the list\n",
    "\n"
   ]
  },
  {
   "cell_type": "markdown",
   "id": "d1e1d9fe",
   "metadata": {},
   "source": [
    "\n",
    "To perform a deep copy of a list in Python, you can use the **copy.deepcopy()** function from the copy module. This function creates a new object and recursively copies the original object's elements, so any nested objects within the list are also copied."
   ]
  },
  {
   "cell_type": "code",
   "execution_count": 36,
   "id": "836e4bc6",
   "metadata": {},
   "outputs": [
    {
     "data": {
      "text/plain": [
       "[[1, 2], [3, 4]]"
      ]
     },
     "execution_count": 36,
     "metadata": {},
     "output_type": "execute_result"
    }
   ],
   "source": [
    "import copy\n",
    "\n",
    "original_list = [[1, 2], [3, 4]]\n",
    "deep_copied_list = copy.deepcopy(original_list) \n",
    "copied_list = original_list[:] \n",
    "original_list[0][0]=100\n",
    "copied_list #point to same object if not 1D array\n",
    "deep_copied_list"
   ]
  },
  {
   "cell_type": "markdown",
   "id": "1e680e1e",
   "metadata": {},
   "source": [
    "### Tuples:\n",
    "\n",
    "Tuples are ordered collections of items, similar to lists.\n",
    "However, tuples are **immutable**, meaning once created, you cannot change the elements.\n",
    "Tuples can contain elements of different data types.\n",
    "Even if you have only one item in the tuple, you need to include a comma after the item to indicate that it's a tuple."
   ]
  },
  {
   "cell_type": "code",
   "execution_count": 5,
   "id": "208f6bec",
   "metadata": {},
   "outputs": [],
   "source": [
    "my_tuple = (1, 2, 3)\n",
    "single_item_tuple = (4,) \n",
    "mixed_tuple = (1, 'two', [3, 4], {'five': 5})"
   ]
  },
  {
   "cell_type": "markdown",
   "id": "f854fe64",
   "metadata": {},
   "source": [
    "\n",
    "### Dictionaries:\n",
    "\n",
    "Dictionaries are collections of key-value pairs.\n",
    "They are **unordered**, meaning the order of elements is not guaranteed.\n",
    "Each element in a dictionary consists of a key and its corresponding value.\n",
    "\n",
    "Keys in a dictionary must be unique and immutable (e.g., strings, numbers, tuples).\n",
    "If duplicate keys are provided during dictionary creation, only the last value associated with the duplicate key will be stored."
   ]
  },
  {
   "cell_type": "code",
   "execution_count": 6,
   "id": "2b0561ce",
   "metadata": {},
   "outputs": [],
   "source": [
    "my_dict = {'name': 'Vanila', 'age': 43, 'city': 'Flemington'}\n",
    "my_dict['phone'] = 732  # Adding a new key-value pair\n",
    "del my_dict['age']             # Removing a key-value pair"
   ]
  },
  {
   "cell_type": "markdown",
   "id": "23d4255e",
   "metadata": {},
   "source": [
    "Different ways to iterate through a dictionary and dictionary comprehension "
   ]
  },
  {
   "cell_type": "code",
   "execution_count": 26,
   "id": "e67c54ba",
   "metadata": {},
   "outputs": [
    {
     "name": "stdout",
     "output_type": "stream",
     "text": [
      "name\n",
      "city\n",
      "phone\n",
      "Vanila\n",
      "Flemington\n",
      "732\n",
      "name Vanila\n",
      "city Flemington\n",
      "phone 732\n",
      "['name', 'city', 'phone']\n",
      "['Vanila', 'Flemington', 732]\n",
      "['Vanila', 'Flemington', 732]\n",
      "[('name', 'Vanila'), ('city', 'Flemington'), ('phone', 732)]\n",
      "[('name', 'Vanila'), ('city', 'Flemington'), ('phone', 732)]\n"
     ]
    }
   ],
   "source": [
    "#iterate through keys\n",
    "for key in my_dict:\n",
    "    print(key)\n",
    "#iterate through values\n",
    "for value in my_dict.values():\n",
    "    print(value)\n",
    "#iterate through key,value pairs\n",
    "for key, value in my_dict.items():\n",
    "    print(key, value)\n",
    "#list of all keys\n",
    "keys = [key for key in my_dict]\n",
    "print(keys)\n",
    "values = [my_dict[key] for key in my_dict]\n",
    "values2 = [value for value in my_dict.values()]\n",
    "print(values)\n",
    "print(values2)\n",
    "key_value_pairs = [(key, my_dict[key]) for key in my_dict]\n",
    "key_value_pairs2 = [(key,value) for key,value in my_dict.items()]\n",
    "print(key_value_pairs)\n",
    "print(key_value_pairs2)"
   ]
  },
  {
   "cell_type": "code",
   "execution_count": null,
   "id": "5cac49ac",
   "metadata": {},
   "outputs": [],
   "source": []
  },
  {
   "cell_type": "code",
   "execution_count": null,
   "id": "99abc554",
   "metadata": {},
   "outputs": [],
   "source": []
  },
  {
   "cell_type": "markdown",
   "id": "b954e895",
   "metadata": {},
   "source": [
    "### Sets:\n",
    "\n",
    "Sets are **unordered** collections of unique elements.\n",
    "They do not allow duplicate elements.\n",
    "Sets are mutable, meaning you can add or remove elements after the set is created.\n"
   ]
  },
  {
   "cell_type": "code",
   "execution_count": 10,
   "id": "04a48d5a",
   "metadata": {},
   "outputs": [
    {
     "name": "stdout",
     "output_type": "stream",
     "text": [
      "{1, 2, 3, 4}\n",
      "False\n"
     ]
    }
   ],
   "source": [
    "#my_set = {1, 2, 3, 4}\n",
    "my_set = {1, 2, 3, 3, 4, 4}\n",
    "print(my_set) \n",
    "\n",
    "my_set.add(5)     # Adding an element\n",
    "my_set.remove(2)  # Removing an element\n",
    "\n",
    "#membership test **in**\n",
    "print(2 in my_set)"
   ]
  },
  {
   "cell_type": "markdown",
   "id": "69fb65e3",
   "metadata": {},
   "source": [
    "Set operations"
   ]
  },
  {
   "cell_type": "code",
   "execution_count": 11,
   "id": "6b258084",
   "metadata": {},
   "outputs": [
    {
     "name": "stdout",
     "output_type": "stream",
     "text": [
      "{1, 2}\n",
      "{1, 2, 4, 5}\n"
     ]
    }
   ],
   "source": [
    "\n",
    "set1 = {1, 2, 3}\n",
    "set2 = {3, 4, 5}\n",
    "union_set = set1 | set2            # Union\n",
    "intersection_set = set1 & set2     # Intersection\n",
    "difference_set = set1 - set2       # Difference\n",
    "print(difference_set)\n",
    "symmetric_difference_set = set1 ^ set2  # Symmetric difference\n",
    "print(symmetric_difference_set)"
   ]
  },
  {
   "cell_type": "code",
   "execution_count": null,
   "id": "677dd3af",
   "metadata": {},
   "outputs": [],
   "source": []
  },
  {
   "cell_type": "markdown",
   "id": "0f61628c",
   "metadata": {},
   "source": [
    "\n",
    "### Strings:\n",
    "\n",
    "Strings are **immutable** sequences of characters.\n",
    "They are commonly used to represent text data.\n",
    "Strings support various methods for string manipulation and formatting.\n",
    "Example: 'hello world'\n"
   ]
  },
  {
   "cell_type": "code",
   "execution_count": 12,
   "id": "e675d866",
   "metadata": {},
   "outputs": [
    {
     "name": "stdout",
     "output_type": "stream",
     "text": [
      "H\n"
     ]
    }
   ],
   "source": [
    "my_string = 'Hello, world!'\n",
    "print(my_string[0])  # Output: 'H'"
   ]
  },
  {
   "cell_type": "markdown",
   "id": "0f4319b1",
   "metadata": {},
   "source": [
    "**String Slicing** [start index, end index, step size]"
   ]
  },
  {
   "cell_type": "code",
   "execution_count": null,
   "id": "3d05b566",
   "metadata": {},
   "outputs": [],
   "source": [
    "print(my_string[0:5])  # Output: 'Hello'"
   ]
  },
  {
   "cell_type": "markdown",
   "id": "b7408f4d",
   "metadata": {},
   "source": [
    "Concatinating +"
   ]
  },
  {
   "cell_type": "code",
   "execution_count": null,
   "id": "a135f96e",
   "metadata": {},
   "outputs": [],
   "source": [
    "greeting = 'Hello'\n",
    "name = 'Ameya'\n",
    "full_greeting = greeting + ', ' + name + '!'"
   ]
  },
  {
   "cell_type": "markdown",
   "id": "10cf4d45",
   "metadata": {},
   "source": [
    "**eval()** The  eval() function can be useful in situations where you want to dynamically execute Python code that is stored as a string"
   ]
  },
  {
   "cell_type": "code",
   "execution_count": 25,
   "id": "da461e8c",
   "metadata": {},
   "outputs": [
    {
     "data": {
      "text/plain": [
       "11"
      ]
     },
     "execution_count": 25,
     "metadata": {},
     "output_type": "execute_result"
    }
   ],
   "source": [
    "a=2\n",
    "b=3\n",
    "c=3\n",
    "eval('a+b*c')"
   ]
  },
  {
   "cell_type": "markdown",
   "id": "2f4bbf65",
   "metadata": {},
   "source": [
    "Length of string and string methods"
   ]
  },
  {
   "cell_type": "code",
   "execution_count": 21,
   "id": "35895b6d",
   "metadata": {},
   "outputs": [
    {
     "name": "stdout",
     "output_type": "stream",
     "text": [
      "19\n",
      "Hello, world!\n",
      "   HELLO, WORLD!   \n",
      "['   Hello', ' world!   ']\n"
     ]
    }
   ],
   "source": [
    "print(len(my_string))\n",
    "\n",
    "my_string = '   Hello, world!   '\n",
    "print(my_string.strip())           # Output: 'Hello, world!'\n",
    "print(my_string.upper())           # Output: '   HELLO, WORLD!   '\n",
    "print(my_string.split(','))        # Output: ['   Hello', ' world!   ']"
   ]
  },
  {
   "cell_type": "markdown",
   "id": "a464660d",
   "metadata": {},
   "source": [
    "Formatting string"
   ]
  },
  {
   "cell_type": "code",
   "execution_count": 22,
   "id": "578f0c11",
   "metadata": {},
   "outputs": [
    {
     "name": "stdout",
     "output_type": "stream",
     "text": [
      "My name is Ameya and I am 7 years old.\n",
      "My name is Ameya and I am 7 years old.\n",
      "My name is Ameya and I am 7 years old.\n"
     ]
    }
   ],
   "source": [
    "name = 'Ameya'\n",
    "age = 7\n",
    "print('My name is %s and I am %d years old.' % (name, age))\n",
    "print('My name is {} and I am {} years old.'.format(name, age))\n",
    "print(f'My name is {name} and I am {age} years old.')"
   ]
  },
  {
   "cell_type": "code",
   "execution_count": null,
   "id": "2ff35015",
   "metadata": {},
   "outputs": [],
   "source": []
  },
  {
   "cell_type": "markdown",
   "id": "10e522b4",
   "metadata": {},
   "source": [
    "\n",
    "Bytes and Byte Arrays:\n",
    "\n",
    "Bytes and byte arrays are used to represent binary data.\n",
    "Bytes objects are immutable sequences of bytes, while byte arrays are mutable.\n",
    "They are often used to work with binary file data, network protocols, and cryptographic operations."
   ]
  },
  {
   "cell_type": "code",
   "execution_count": 49,
   "id": "b1b33a0d",
   "metadata": {},
   "outputs": [
    {
     "name": "stdout",
     "output_type": "stream",
     "text": [
      "104\n",
      "b'hel'\n"
     ]
    },
    {
     "data": {
      "text/plain": [
       "bytearray(b'HELLO')"
      ]
     },
     "execution_count": 49,
     "metadata": {},
     "output_type": "execute_result"
    }
   ],
   "source": [
    "b = b'hello'\n",
    "b_arr = bytearray(b'hello')\n",
    "\n",
    "print(b[0])   # Output: 104 (ASCII value of 'h')\n",
    "print(b[:3])  # Output: b'hel'\n",
    "\n",
    "s = 'hello'\n",
    "b = s.encode('utf-8')   # Convert string to bytes\n",
    "s = b.decode('utf-8')   # Convert bytes to string\n",
    "\n",
    "b_lst = [(b-32) for b in b_arr]\n",
    "b_upper = bytearray(b_lst)\n",
    "b_upper"
   ]
  },
  {
   "cell_type": "markdown",
   "id": "2da34d9a",
   "metadata": {},
   "source": [
    "### Ranges:\n",
    "\n",
    "Ranges represent a sequence of numbers.\n",
    "They are commonly used for looping a specific number of times or generating sequences of numbers.\n",
    "range(start,end,step)\n"
   ]
  },
  {
   "cell_type": "code",
   "execution_count": 52,
   "id": "410bbd97",
   "metadata": {},
   "outputs": [
    {
     "data": {
      "text/plain": [
       "[0, 22, 44, 66, 88]"
      ]
     },
     "execution_count": 52,
     "metadata": {},
     "output_type": "execute_result"
    }
   ],
   "source": [
    "nums_list = list(range(0, 100, 22))\n",
    "nums_list\n"
   ]
  },
  {
   "cell_type": "markdown",
   "id": "8f54e5af",
   "metadata": {},
   "source": [
    "### 3. Operators\n",
    "Python supports various types of operators including arithmetic operators (+, -, *, /, //, %), comparison operators (==, !=, <, >, <=, >=), logical operators (and, or, not), etc."
   ]
  },
  {
   "cell_type": "code",
   "execution_count": 3,
   "id": "c06c9725",
   "metadata": {},
   "outputs": [
    {
     "name": "stdout",
     "output_type": "stream",
     "text": [
      "Result: 15\n",
      "Is Equal: True\n",
      "Is female and working: False\n"
     ]
    }
   ],
   "source": [
    "# Arithmetic operators\n",
    "result = 10 + 5\n",
    "print(\"Result:\", result)\n",
    "\n",
    "# Comparison operators\n",
    "is_equal = (5 == 5)\n",
    "print(\"Is Equal:\", is_equal)\n",
    "\n",
    "# Logical operators\n",
    "is_female = True\n",
    "is_working = False\n",
    "print(\"Is female and working:\", is_female and is_working)"
   ]
  },
  {
   "cell_type": "markdown",
   "id": "28994a2c",
   "metadata": {},
   "source": [
    "### Control Flow:\n",
    "\n",
    "Conditional statements (if, elif, else)\n",
    "Looping structures (for loops, while loops)\n",
    "Control flow statements (break, continue, pass)\n",
    "Functions:\n",
    "\n",
    "\n",
    "\n",
    "\n",
    "\n",
    "\n",
    "\n"
   ]
  },
  {
   "cell_type": "markdown",
   "id": "6a7410be",
   "metadata": {},
   "source": [
    "### 1.Conditional Statements(if, elif, else)"
   ]
  },
  {
   "cell_type": "code",
   "execution_count": null,
   "id": "545a0599",
   "metadata": {},
   "outputs": [],
   "source": [
    "x = 10\n",
    "if x > 0:\n",
    "    print(\"x is positive\")\n",
    "elif x < 0:\n",
    "    print(\"x is negative\")\n",
    "else:\n",
    "    print(\"x is zero\")"
   ]
  },
  {
   "cell_type": "markdown",
   "id": "5320b48e",
   "metadata": {},
   "source": [
    "### 2. Loops(for,while)"
   ]
  },
  {
   "cell_type": "code",
   "execution_count": null,
   "id": "50866a5b",
   "metadata": {},
   "outputs": [],
   "source": [
    "# For loop example\n",
    "fruits = [\"apple\", \"banana\", \"cherry\"]\n",
    "for fruit in fruits:\n",
    "    print(fruit)\n",
    "    \n",
    "for i in range(10):\n",
    "    if i == 5:\n",
    "        break\n",
    "    if i == 3:\n",
    "        continue\n",
    "    print(i)\n",
    "\n",
    "# While loop example\n",
    "i = 0\n",
    "while i < 5:\n",
    "    print(i)\n",
    "    i += 1"
   ]
  },
  {
   "cell_type": "markdown",
   "id": "0fd04af3",
   "metadata": {},
   "source": [
    "### 3. Exception Handling \n"
   ]
  },
  {
   "cell_type": "markdown",
   "id": "bb3c9875",
   "metadata": {},
   "source": [
    "try:  \n",
    "    &nbsp;&nbsp;&nbsp;# Code that may raise an exception  \n",
    "except ExceptionType:  \n",
    "    &nbsp;&nbsp;&nbsp;# Code to handle the exception  \n",
    "finally:  \n",
    "    &nbsp;&nbsp;&nbsp;# Code that will always be executed (optional)"
   ]
  },
  {
   "cell_type": "code",
   "execution_count": 68,
   "id": "63a982a6",
   "metadata": {},
   "outputs": [
    {
     "name": "stdout",
     "output_type": "stream",
     "text": [
      "Error: Division by zero\n",
      "Cleanup code\n"
     ]
    }
   ],
   "source": [
    "try:\n",
    "    x = 10 / 0\n",
    "except ZeroDivisionError:\n",
    "    print(\"Error: Division by zero\")\n",
    "finally:\n",
    "    print(\"Cleanup code\")"
   ]
  },
  {
   "cell_type": "markdown",
   "id": "bde327a5",
   "metadata": {},
   "source": [
    "### Defining functions\n",
    "Function arguments and return values\n",
    "Scope and lifetime of variables\n",
    "Lambda functions and anonymous functions"
   ]
  },
  {
   "cell_type": "code",
   "execution_count": 53,
   "id": "b52a8b5a",
   "metadata": {},
   "outputs": [
    {
     "name": "stdout",
     "output_type": "stream",
     "text": [
      "Hello, world!\n"
     ]
    },
    {
     "data": {
      "text/plain": [
       "8"
      ]
     },
     "execution_count": 53,
     "metadata": {},
     "output_type": "execute_result"
    }
   ],
   "source": [
    "#define a function def \n",
    "def greet():\n",
    "    print(\"Hello, world!\")\n",
    "\n",
    "#another function with parameters a,b\n",
    "\n",
    "def add(a, b):\n",
    "    result = a + b\n",
    "    return result\n",
    "#Function call\n",
    "greet()\n",
    "sum_result = add(3, 5)\n",
    "sum_result"
   ]
  },
  {
   "cell_type": "code",
   "execution_count": 55,
   "id": "b8887a0b",
   "metadata": {},
   "outputs": [
    {
     "name": "stdout",
     "output_type": "stream",
     "text": [
      "Hello, Gayatri\n"
     ]
    }
   ],
   "source": [
    "# Function Documentation DocString\n",
    "def greet(name):\n",
    "    \"\"\"\n",
    "    Greets the user with the provided name.\n",
    "    \"\"\"\n",
    "    print(\"Hello,\", name)\n",
    "greet('Gayatri')"
   ]
  },
  {
   "cell_type": "code",
   "execution_count": 56,
   "id": "b9174cbd",
   "metadata": {},
   "outputs": [
    {
     "name": "stdout",
     "output_type": "stream",
     "text": [
      "Hello, Gayatri\n",
      "Hello, Dear\n"
     ]
    }
   ],
   "source": [
    "# Default argument\n",
    "def greet(name=\"Dear\"):\n",
    "    print(\"Hello,\", name)\n",
    "greet('Gayatri')  \n",
    "greet()"
   ]
  },
  {
   "cell_type": "markdown",
   "id": "06768259",
   "metadata": {},
   "source": [
    "### variable number of Arguments\n"
   ]
  },
  {
   "cell_type": "code",
   "execution_count": 59,
   "id": "6a36f7a3",
   "metadata": {},
   "outputs": [
    {
     "data": {
      "text/plain": [
       "'\\ndef my_function(*args, **kwargs):\\n    # args is a tuple containing positional arguments\\n    # kwargs is a dictionary containing keyword arguments\\n    pass\\n'"
      ]
     },
     "execution_count": 59,
     "metadata": {},
     "output_type": "execute_result"
    }
   ],
   "source": [
    "'''\n",
    "def my_function(*args, **kwargs):\n",
    "    # args is a tuple containing positional arguments\n",
    "    # kwargs is a dictionary containing keyword arguments\n",
    "    pass\n",
    "'''"
   ]
  },
  {
   "cell_type": "code",
   "execution_count": null,
   "id": "19569803",
   "metadata": {},
   "outputs": [],
   "source": []
  },
  {
   "cell_type": "code",
   "execution_count": null,
   "id": "a60c0c60",
   "metadata": {},
   "outputs": [],
   "source": []
  },
  {
   "cell_type": "markdown",
   "id": "dc58eadb",
   "metadata": {},
   "source": [
    "### File Handling:\n",
    "\n",
    "Opening and closing files\n",
    "Reading from and writing to files\n",
    "Using file objects and methods"
   ]
  },
  {
   "cell_type": "code",
   "execution_count": 62,
   "id": "9f24943a",
   "metadata": {},
   "outputs": [],
   "source": [
    "'''\n",
    "file = open(file_path, mode)\n",
    "''' \n",
    "\n",
    "file = open(\"example.txt\", \"a\")  # Opens the file \"example.txt\" for appending\n",
    "\n",
    "file.close()"
   ]
  },
  {
   "cell_type": "markdown",
   "id": "1c4bc8e8",
   "metadata": {},
   "source": [
    "File Modes:\n",
    "\n",
    "r: Read mode (default). Opens a file for reading. Raises an error if the file does not exist.  \n",
    "w: Write mode. Opens a file for writing. Creates a new file if it doesn't exist or truncates the file if it exists.  \n",
    "a: Append mode. Opens a file for appending. Creates a new file if it doesn't exist.  \n",
    "b: Binary mode. Opens a file in binary mode (e.g., \"rb\" for reading binary).  \n",
    "+: Read and write mode."
   ]
  },
  {
   "cell_type": "code",
   "execution_count": 64,
   "id": "2aec87c2",
   "metadata": {},
   "outputs": [
    {
     "data": {
      "text/plain": [
       "'\\ncontent = file.read()      # Reads the entire content of the file\\nline = file.readline()     # Reads a single line from the file\\nlines = file.readlines()   # Reads all lines from the file and returns them as a list\\n'"
      ]
     },
     "execution_count": 64,
     "metadata": {},
     "output_type": "execute_result"
    }
   ],
   "source": [
    "'''\n",
    "# Reading from a file\n",
    "content = file.read()      # Reads the entire content of the file\n",
    "line = file.readline()     # Reads a single line from the file\n",
    "lines = file.readlines()   # Reads all lines from the file and returns them as a list\n",
    "'''\n"
   ]
  },
  {
   "cell_type": "code",
   "execution_count": null,
   "id": "c1f08533",
   "metadata": {},
   "outputs": [],
   "source": [
    "'''\n",
    "# Writing to a file\n",
    "\n",
    "file.write(\"Hello, world!\\n\")  # Writes the string to the file\n",
    "\n",
    "\n",
    "'''"
   ]
  },
  {
   "cell_type": "code",
   "execution_count": null,
   "id": "c10404e1",
   "metadata": {},
   "outputs": [],
   "source": [
    "'''\n",
    "# Iterating through a file\n",
    "\n",
    "for line in file:\n",
    "    print(line)\n",
    "    \n",
    "'''"
   ]
  },
  {
   "cell_type": "markdown",
   "id": "302b76a6",
   "metadata": {},
   "source": [
    "#### Using with Statement (Context Manager):\n",
    "It's a good practice to use the with statement when working with files. It ensures that the file is properly closed after its suite finishes, even if an exception is raised."
   ]
  },
  {
   "cell_type": "code",
   "execution_count": 65,
   "id": "373d18a6",
   "metadata": {},
   "outputs": [],
   "source": [
    "with open(\"example.txt\", \"r\") as file:\n",
    "    content = file.read()\n"
   ]
  },
  {
   "cell_type": "markdown",
   "id": "b876ed1d",
   "metadata": {},
   "source": [
    "You can use various file attributes and methods to get information about the file, such as name, mode, closed, tell(), seek(), etc"
   ]
  },
  {
   "cell_type": "code",
   "execution_count": 67,
   "id": "e33dfc7f",
   "metadata": {},
   "outputs": [
    {
     "data": {
      "text/plain": [
       "'\\nfile_name = file.name\\nfile_mode = file.mode\\nis_closed = file.closed\\n\\n# returns the current position of the file pointer (the byte offset from the beginning of the file).\\nfile_position = file.tell()\\n\\n'"
      ]
     },
     "execution_count": 67,
     "metadata": {},
     "output_type": "execute_result"
    }
   ],
   "source": [
    "'''\n",
    "file_name = file.name\n",
    "file_mode = file.mode\n",
    "is_closed = file.closed\n",
    "\n",
    "# returns the current position of the file pointer (the byte offset from the beginning of the file).\n",
    "file_position = file.tell()\n",
    "\n",
    "# Move the file pointer to the beginning of the file\n",
    "file.seek(0)\n",
    "\n",
    "'''"
   ]
  },
  {
   "cell_type": "markdown",
   "id": "caf7b899",
   "metadata": {},
   "source": [
    "### Exception Handling:\n",
    "\n",
    "Handling errors and exceptions using try-except blocks  \n",
    "try:  \n",
    "    &nbsp;&nbsp;&nbsp;# Code that may raise an exception  \n",
    "except ExceptionType:  \n",
    "    &nbsp;&nbsp;&nbsp;# Code to handle the exception  \n",
    "finally:  \n",
    "    &nbsp;&nbsp;&nbsp;# Code that will always be executed (optional)  \n",
    "    \n",
    "#### multiple exceptions    \n",
    "try:  \n",
    "    &nbsp;&nbsp;&nbsp;# Code that may raise exceptions  \n",
    "except (TypeError, ValueError):  \n",
    "    &nbsp;&nbsp;&nbsp;# Code to handle TypeError or ValueError"
   ]
  },
  {
   "cell_type": "code",
   "execution_count": 70,
   "id": "b6ed2d5d",
   "metadata": {},
   "outputs": [
    {
     "name": "stdout",
     "output_type": "stream",
     "text": [
      "Error: File not found\n"
     ]
    }
   ],
   "source": [
    "try:\n",
    "    file = open(\"examplenew.txt\", \"r\")\n",
    "    # Code to read from the file\n",
    "except FileNotFoundError:\n",
    "    print(\"Error: File not found\")\n",
    "finally:\n",
    "    if 'file' in locals():\n",
    "        file.close()  # Close the file even if an exception occurred"
   ]
  },
  {
   "cell_type": "markdown",
   "id": "3c9a7f2d",
   "metadata": {},
   "source": [
    "\n",
    "In Python, locals() is a built-in function that returns a dictionary containing the current local symbol table. The local symbol table contains information about all local variables, functions, and classes defined within the current scope, such as inside a function or a module.  \n",
    "\n",
    "#### Hierarchy of exception classes  \n",
    "\n",
    "Python's exception hierarchy enables you to organize exceptions into a hierarchy of classes, where more specific exception classes inherit from more general ones.  \n",
    "\n",
    "At the top of the exception hierarchy is the **BaseException** class. All built-in and user-defined exceptions inherit from this class. However, it's not common to catch BaseException directly, as it includes system-exiting exceptions like SystemExit, KeyboardInterrupt, and GeneratorExit.  \n",
    "\n",
    "Python provides a wide range of built-in exception classes that represent different types of errors that can occur during program execution. These built-in exception classes are organized into a hierarchy, with more specific exceptions inheriting from more general ones.  \n",
    "For example, ZeroDivisionError inherits from ArithmeticError, which in turn inherits from Exception, which inherits from BaseException.  \n",
    "#### Custom Exception class\n",
    "You can also define your own custom exception classes by creating subclasses of existing exception classes or by directly subclassing Exception or one of its subclasses"
   ]
  },
  {
   "cell_type": "code",
   "execution_count": null,
   "id": "c8e1ed39",
   "metadata": {},
   "outputs": [],
   "source": [
    "class CustomError(Exception):\n",
    "    pass"
   ]
  },
  {
   "cell_type": "markdown",
   "id": "f496eb16",
   "metadata": {},
   "source": [
    "try:  \n",
    "    &nbsp;&nbsp;&nbsp;# Code that may raise an exception  \n",
    "except SpecificException:  \n",
    "    &nbsp;&nbsp;&nbsp;# Handle SpecificException  \n",
    "except GeneralException:  \n",
    "    &nbsp;&nbsp;&nbsp;# Handle GeneralException  "
   ]
  },
  {
   "cell_type": "code",
   "execution_count": 71,
   "id": "a38c0e8e",
   "metadata": {},
   "outputs": [
    {
     "name": "stdout",
     "output_type": "stream",
     "text": [
      "An exception occurred: name 'errorfunction' is not defined\n",
      "Exception type: <class 'NameError'>\n",
      "Exception message: name 'errorfunction' is not defined\n"
     ]
    }
   ],
   "source": [
    "try:\n",
    "    errorfunction()\n",
    "except Exception as e:\n",
    "    print(\"An exception occurred:\", e)\n",
    "    print(\"Exception type:\", type(e))\n",
    "    print(\"Exception message:\", e.args[0])\n",
    "    '''\n",
    "    if isinstance(e, SpecificException1):\n",
    "    # Handle SpecificException1\n",
    "    elif isinstance(e, SpecificException2):\n",
    "    # Handle SpecificException2\n",
    "    '''"
   ]
  },
  {
   "cell_type": "markdown",
   "id": "d33bb700",
   "metadata": {},
   "source": [
    "In Python, when you catch exceptions using a try and except block, you can optionally assign the caught exception to a variable. This variable allows you to access information about the exception that occurred, such as its type, message, or any additional data associated with it. This variable is typically named e, short for exception, but you can choose any valid variable name."
   ]
  },
  {
   "cell_type": "markdown",
   "id": "3102a902",
   "metadata": {},
   "source": [
    "### Modules and Packages:\n",
    "\n",
    "Importing modules\n",
    "Creating and using packages\n",
    "Exploring built-in modules and third-party libraries\n",
    "\n"
   ]
  },
  {
   "cell_type": "code",
   "execution_count": null,
   "id": "9791533d",
   "metadata": {},
   "outputs": [],
   "source": []
  },
  {
   "cell_type": "markdown",
   "id": "70996325",
   "metadata": {},
   "source": [
    "### Object-Oriented Programming (OOP):\n",
    "\n",
    "Classes and objects\n",
    "Inheritance and polymorphism\n",
    "Encapsulation and abstraction"
   ]
  },
  {
   "cell_type": "code",
   "execution_count": null,
   "id": "669deac2",
   "metadata": {},
   "outputs": [],
   "source": []
  },
  {
   "cell_type": "markdown",
   "id": "1322115c",
   "metadata": {},
   "source": [
    "### Advanced Topics:\n",
    "\n",
    "Decorators\n",
    "Generators and iterators\n",
    "Context managers\n",
    "Multithreading and multiprocessing\n",
    "Working with databases (using libraries like SQLite or SQLAlchemy)\n",
    "Web scraping (using libraries like BeautifulSoup or Scrapy)\n",
    "Data visualization (using libraries like Matplotlib or Seaborn)"
   ]
  },
  {
   "cell_type": "code",
   "execution_count": null,
   "id": "7b8268d9",
   "metadata": {},
   "outputs": [],
   "source": []
  },
  {
   "cell_type": "markdown",
   "id": "0c851d95",
   "metadata": {},
   "source": [
    "### Best Practices and Tips:\n",
    "\n",
    "Code style and PEP 8 guidelines\n",
    "Debugging techniques\n",
    "Writing clean, efficient, and Pythonic code"
   ]
  },
  {
   "cell_type": "code",
   "execution_count": null,
   "id": "8e679380",
   "metadata": {},
   "outputs": [],
   "source": []
  },
  {
   "cell_type": "markdown",
   "id": "ab9ffeed",
   "metadata": {},
   "source": [
    "### Projects and Exercises:\n",
    "\n",
    "Providing hands-on projects and exercises to reinforce learning and practice Python concepts."
   ]
  }
 ],
 "metadata": {
  "kernelspec": {
   "display_name": "Python 3 (ipykernel)",
   "language": "python",
   "name": "python3"
  },
  "language_info": {
   "codemirror_mode": {
    "name": "ipython",
    "version": 3
   },
   "file_extension": ".py",
   "mimetype": "text/x-python",
   "name": "python",
   "nbconvert_exporter": "python",
   "pygments_lexer": "ipython3",
   "version": "3.11.5"
  }
 },
 "nbformat": 4,
 "nbformat_minor": 5
}
