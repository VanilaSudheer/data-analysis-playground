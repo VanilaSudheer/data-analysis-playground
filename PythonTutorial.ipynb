{
 "cells": [
  {
   "cell_type": "markdown",
   "id": "4c1ce767",
   "metadata": {},
   "source": [
    "# Python Tutorial\n",
    "\n",
    "Welcome to the Python tutorial! This tutorial is designed to introduce you to the basics of Python programming language. Whether you're completely new to programming or looking to refresh your Python skills, you're in the right place.\n",
    "\n",
    "## Introduction to Python\n",
    "\n",
    "Python is a high-level, interpreted programming language known for its simplicity and readability. It's widely used in various domains including web development, data science, machine learning, artificial intelligence, and more.\n",
    "\n",
    "\n",
    "Guido van Rossum started working on Python in the late 1980s, and the first version of CPython, Python 0.9.0, was released in February 1991. Since then, Guido van Rossum has been the primary author and maintainer of CPython for many years, overseeing its development and evolution into one of the most popular programming languages in the world.\n",
    "\n",
    "CPython continues to be developed and maintained by a community of contributors, with Guido van Rossum's guidance and involvement. It serves as the basis for the Python language specification and is the version of Python most commonly used by developers for building applications, libraries, and frameworks.\n",
    "\n",
    "\n",
    "Overall, Python's success can be attributed to its simplicity, readability, versatility, and active community, making it a preferred language for both beginners and professionals in the world of programming.\n",
    "\n",
    "\n",
    "## Getting Started\n",
    "\n",
    "To begin our Python journey, let's start with some basics:\n",
    "\n",
    "### 1. Hello, World!\n",
    "Let's start with the traditional \"Hello, World!\" program to print a message to the console.\n",
    "\n",
    "\n",
    "\n",
    "\n",
    "\n"
   ]
  },
  {
   "cell_type": "code",
   "execution_count": 1,
   "id": "50b83501",
   "metadata": {},
   "outputs": [
    {
     "name": "stdout",
     "output_type": "stream",
     "text": [
      "Hello, World!\n"
     ]
    }
   ],
   "source": [
    "print(\"Hello, World!\")"
   ]
  },
  {
   "cell_type": "markdown",
   "id": "5b1c09f1",
   "metadata": {},
   "source": [
    "### 2. Variables, Data Types and Data structures \n",
    "In Python, variables are used to store data values.\n",
    "\n",
    "Data types in Python refer to the classification of data items, indicating the kind of value that a variable can hold.\n",
    "Python has several built-in data types such as int, float, str, bool\n",
    "\n",
    "Data structures in Python refer to the way data is organized and stored in memory.\n",
    "lists, tuples, dictionaries, set, strings, byte and byte rrays and ranges  are some of the built-in data structures in Python.\n",
    "\n",
    "Additionally, Python also supports various other data structures through standard libraries and third-party packages, such as arrays, stacks, queues, heaps, trees, graphs, etc. Depending on your specific use case, you can choose the appropriate data structure to store and manipulate your data efficiently"
   ]
  },
  {
   "cell_type": "code",
   "execution_count": 2,
   "id": "2b84e817",
   "metadata": {},
   "outputs": [],
   "source": [
    "# Integer variable\n",
    "age = 45\n",
    "\n",
    "# Float variable\n",
    "height = 5.0\n",
    "\n",
    "# String variable\n",
    "name = \"Vanila Sudeer\"\n",
    "\n",
    "# Boolean variable\n",
    "is_artist = True"
   ]
  },
  {
   "cell_type": "markdown",
   "id": "bc59a6e6",
   "metadata": {},
   "source": [
    "### Lists:\n",
    "\n",
    "Lists are ordered collections of items.\n",
    "They are mutable, meaning you can add, remove, or modify elements after the list is created.\n",
    "Lists can contain elements of different data types and data structures.\n"
   ]
  },
  {
   "cell_type": "code",
   "execution_count": 4,
   "id": "dcb721ac",
   "metadata": {},
   "outputs": [
    {
     "name": "stdout",
     "output_type": "stream",
     "text": [
      "1\n",
      "2.5\n",
      "three\n",
      "[4, 5, 6]\n",
      "4\n",
      "{'name': 'Vanila', 'age': 43}\n",
      "43\n"
     ]
    }
   ],
   "source": [
    "my_list = [1, 2.5, 'three', [4, 5, 6], {'name': 'Vanila', 'age': 43}]\n",
    "\n",
    "# Accessing elements of the list\n",
    "print(my_list[0])    # Output: 1\n",
    "print(my_list[1])    # Output: 2.5\n",
    "print(my_list[2])    # Output: 'three'\n",
    "print(my_list[3])    # Output: [4, 5, 6]\n",
    "print(my_list[3][0]) # Output: 4 (Accessing element of nested list)\n",
    "print(my_list[4])    # Output: {'name': 'Vanila', 'age': 43}\n",
    "print(my_list[4]['age']) # Output: 43"
   ]
  },
  {
   "cell_type": "markdown",
   "id": "70646543",
   "metadata": {},
   "source": [
    "### Tuples:\n",
    "\n",
    "Tuples are ordered collections of items, similar to lists.\n",
    "However, tuples are immutable, meaning once created, you cannot change the elements.\n",
    "Tuples can contain elements of different data types."
   ]
  },
  {
   "cell_type": "code",
   "execution_count": null,
   "id": "957bfdd9",
   "metadata": {},
   "outputs": [],
   "source": []
  },
  {
   "cell_type": "markdown",
   "id": "8272885c",
   "metadata": {},
   "source": [
    "\n",
    "### Dictionaries:\n",
    "\n",
    "Dictionaries are collections of key-value pairs.\n",
    "They are unordered, meaning the order of elements is not guaranteed.\n",
    "Each element in a dictionary consists of a key and its corresponding value.\n",
    "Example: {'name': 'John', 'age': 30, 'city': 'New York'}"
   ]
  },
  {
   "cell_type": "code",
   "execution_count": null,
   "id": "63c3f5be",
   "metadata": {},
   "outputs": [],
   "source": []
  },
  {
   "cell_type": "markdown",
   "id": "2d3a2c89",
   "metadata": {},
   "source": [
    "\n",
    "Sets:\n",
    "\n",
    "Sets are unordered collections of unique elements.\n",
    "They do not allow duplicate elements.\n",
    "Sets are mutable, meaning you can add or remove elements after the set is created.\n",
    "Example: {1, 2, 3, 4}"
   ]
  },
  {
   "cell_type": "code",
   "execution_count": null,
   "id": "afa35287",
   "metadata": {},
   "outputs": [],
   "source": []
  },
  {
   "cell_type": "markdown",
   "id": "e39881c7",
   "metadata": {},
   "source": [
    "\n",
    "### Strings:\n",
    "\n",
    "Strings are immutable sequences of characters.\n",
    "They are commonly used to represent text data.\n",
    "Strings support various methods for string manipulation and formatting.\n",
    "Example: 'hello world'\n"
   ]
  },
  {
   "cell_type": "code",
   "execution_count": null,
   "id": "c5268d17",
   "metadata": {},
   "outputs": [],
   "source": []
  },
  {
   "cell_type": "markdown",
   "id": "cf1231ff",
   "metadata": {},
   "source": [
    "\n",
    "Bytes and Byte Arrays:\n",
    "\n",
    "Bytes and byte arrays are used to represent binary data.\n",
    "Bytes objects are immutable sequences of bytes, while byte arrays are mutable.\n",
    "They are often used to work with binary file data, network protocols, and cryptographic operations.\n",
    "Example: b'hello', bytearray(b'hello')"
   ]
  },
  {
   "cell_type": "code",
   "execution_count": null,
   "id": "9739a639",
   "metadata": {},
   "outputs": [],
   "source": []
  },
  {
   "cell_type": "markdown",
   "id": "52914518",
   "metadata": {},
   "source": [
    "### Ranges:\n",
    "\n",
    "Ranges represent a sequence of numbers.\n",
    "They are commonly used for looping a specific number of times or generating sequences of numbers.\n",
    "Example: range(0, 10)"
   ]
  },
  {
   "cell_type": "code",
   "execution_count": null,
   "id": "6f5de0a3",
   "metadata": {},
   "outputs": [],
   "source": []
  },
  {
   "cell_type": "markdown",
   "id": "ae4cfd5d",
   "metadata": {},
   "source": [
    "### 3. Operators\n",
    "Python supports various types of operators including arithmetic operators (+, -, *, /, //, %), comparison operators (==, !=, <, >, <=, >=), logical operators (and, or, not), etc."
   ]
  },
  {
   "cell_type": "code",
   "execution_count": 3,
   "id": "6a3f3a46",
   "metadata": {},
   "outputs": [
    {
     "name": "stdout",
     "output_type": "stream",
     "text": [
      "Result: 15\n",
      "Is Equal: True\n",
      "Is female and working: False\n"
     ]
    }
   ],
   "source": [
    "# Arithmetic operators\n",
    "result = 10 + 5\n",
    "print(\"Result:\", result)\n",
    "\n",
    "# Comparison operators\n",
    "is_equal = (5 == 5)\n",
    "print(\"Is Equal:\", is_equal)\n",
    "\n",
    "# Logical operators\n",
    "is_female = True\n",
    "is_working = False\n",
    "print(\"Is female and working:\", is_female and is_working)"
   ]
  },
  {
   "cell_type": "markdown",
   "id": "e22ce8e3",
   "metadata": {},
   "source": [
    "### Control Flow:\n",
    "\n",
    "Conditional statements (if, elif, else)\n",
    "Looping structures (for loops, while loops)\n",
    "Control flow statements (break, continue, pass)\n",
    "Functions:\n",
    "\n",
    "\n",
    "\n",
    "\n",
    "\n",
    "\n",
    "\n"
   ]
  },
  {
   "cell_type": "code",
   "execution_count": null,
   "id": "ffd9526a",
   "metadata": {},
   "outputs": [],
   "source": []
  },
  {
   "cell_type": "markdown",
   "id": "8588d8e3",
   "metadata": {},
   "source": [
    "### Defining functions\n",
    "Function arguments and return values\n",
    "Scope and lifetime of variables\n",
    "Lambda functions and anonymous functions"
   ]
  },
  {
   "cell_type": "code",
   "execution_count": null,
   "id": "cf7484e1",
   "metadata": {},
   "outputs": [],
   "source": []
  },
  {
   "cell_type": "code",
   "execution_count": null,
   "id": "1ce2d43f",
   "metadata": {},
   "outputs": [],
   "source": []
  },
  {
   "cell_type": "code",
   "execution_count": null,
   "id": "b7769bf3",
   "metadata": {},
   "outputs": [],
   "source": []
  },
  {
   "cell_type": "markdown",
   "id": "f5aa4255",
   "metadata": {},
   "source": [
    "### File Handling:\n",
    "\n",
    "Opening and closing files\n",
    "Reading from and writing to files\n",
    "Using file objects and methods"
   ]
  },
  {
   "cell_type": "code",
   "execution_count": null,
   "id": "fd63ce82",
   "metadata": {},
   "outputs": [],
   "source": []
  },
  {
   "cell_type": "markdown",
   "id": "31a02639",
   "metadata": {},
   "source": [
    "### Exception Handling:\n",
    "\n",
    "Handling errors and exceptions using try-except blocks\n",
    "Raising exceptions\n",
    "Custom exception classes"
   ]
  },
  {
   "cell_type": "code",
   "execution_count": null,
   "id": "abc32559",
   "metadata": {},
   "outputs": [],
   "source": []
  },
  {
   "cell_type": "markdown",
   "id": "5402f356",
   "metadata": {},
   "source": [
    "### Modules and Packages:\n",
    "\n",
    "Importing modules\n",
    "Creating and using packages\n",
    "Exploring built-in modules and third-party libraries\n",
    "\n"
   ]
  },
  {
   "cell_type": "code",
   "execution_count": null,
   "id": "91ed71c5",
   "metadata": {},
   "outputs": [],
   "source": []
  },
  {
   "cell_type": "markdown",
   "id": "4e430c99",
   "metadata": {},
   "source": [
    "### Object-Oriented Programming (OOP):\n",
    "\n",
    "Classes and objects\n",
    "Inheritance and polymorphism\n",
    "Encapsulation and abstraction"
   ]
  },
  {
   "cell_type": "code",
   "execution_count": null,
   "id": "aabc010e",
   "metadata": {},
   "outputs": [],
   "source": []
  },
  {
   "cell_type": "markdown",
   "id": "0a4c6488",
   "metadata": {},
   "source": [
    "### Advanced Topics:\n",
    "\n",
    "Decorators\n",
    "Generators and iterators\n",
    "Context managers\n",
    "Multithreading and multiprocessing\n",
    "Working with databases (using libraries like SQLite or SQLAlchemy)\n",
    "Web scraping (using libraries like BeautifulSoup or Scrapy)\n",
    "Data visualization (using libraries like Matplotlib or Seaborn)"
   ]
  },
  {
   "cell_type": "code",
   "execution_count": null,
   "id": "db223b49",
   "metadata": {},
   "outputs": [],
   "source": []
  },
  {
   "cell_type": "markdown",
   "id": "0dccb73f",
   "metadata": {},
   "source": [
    "### Best Practices and Tips:\n",
    "\n",
    "Code style and PEP 8 guidelines\n",
    "Debugging techniques\n",
    "Writing clean, efficient, and Pythonic code"
   ]
  },
  {
   "cell_type": "code",
   "execution_count": null,
   "id": "f3154cbe",
   "metadata": {},
   "outputs": [],
   "source": []
  },
  {
   "cell_type": "markdown",
   "id": "f83eaf9d",
   "metadata": {},
   "source": [
    "### Projects and Exercises:\n",
    "\n",
    "Providing hands-on projects and exercises to reinforce learning and practice Python concepts."
   ]
  }
 ],
 "metadata": {
  "kernelspec": {
   "display_name": "Python 3 (ipykernel)",
   "language": "python",
   "name": "python3"
  },
  "language_info": {
   "codemirror_mode": {
    "name": "ipython",
    "version": 3
   },
   "file_extension": ".py",
   "mimetype": "text/x-python",
   "name": "python",
   "nbconvert_exporter": "python",
   "pygments_lexer": "ipython3",
   "version": "3.11.5"
  }
 },
 "nbformat": 4,
 "nbformat_minor": 5
}
