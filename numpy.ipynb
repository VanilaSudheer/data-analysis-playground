{
 "cells": [
  {
   "cell_type": "code",
   "execution_count": 1,
   "id": "6b782d10",
   "metadata": {},
   "outputs": [
    {
     "name": "stdout",
     "output_type": "stream",
     "text": [
      "Defaulting to user installation because normal site-packages is not writeable\n",
      "Requirement already satisfied: numpy in c:\\programdata\\anaconda3\\lib\\site-packages (1.24.3)\n"
     ]
    }
   ],
   "source": [
    "!pip install numpy\n"
   ]
  },
  {
   "cell_type": "code",
   "execution_count": 2,
   "id": "a6c38ce8",
   "metadata": {},
   "outputs": [],
   "source": [
    "import numpy as np"
   ]
  },
  {
   "cell_type": "code",
   "execution_count": 3,
   "id": "27760f1b",
   "metadata": {},
   "outputs": [],
   "source": [
    "lst = [1,2,3,4,5]"
   ]
  },
  {
   "cell_type": "code",
   "execution_count": 4,
   "id": "22c04540",
   "metadata": {},
   "outputs": [],
   "source": [
    "arr = np.array(lst)"
   ]
  },
  {
   "cell_type": "code",
   "execution_count": 5,
   "id": "ab877c33",
   "metadata": {},
   "outputs": [
    {
     "data": {
      "text/plain": [
       "numpy.ndarray"
      ]
     },
     "execution_count": 5,
     "metadata": {},
     "output_type": "execute_result"
    }
   ],
   "source": [
    "type(arr)"
   ]
  },
  {
   "cell_type": "code",
   "execution_count": 6,
   "id": "3716e5a2",
   "metadata": {},
   "outputs": [],
   "source": [
    "twoByThree = np.array([[1,2,3],[4,5,6]])"
   ]
  },
  {
   "cell_type": "code",
   "execution_count": 7,
   "id": "9a8aacb3",
   "metadata": {},
   "outputs": [
    {
     "data": {
      "text/plain": [
       "array([[1, 2, 3],\n",
       "       [4, 5, 6]])"
      ]
     },
     "execution_count": 7,
     "metadata": {},
     "output_type": "execute_result"
    }
   ],
   "source": [
    "twoByThree\n"
   ]
  },
  {
   "cell_type": "code",
   "execution_count": 8,
   "id": "a469fe80",
   "metadata": {},
   "outputs": [],
   "source": [
    "threeByTwo =twoByThree.reshape(3,2)"
   ]
  },
  {
   "cell_type": "code",
   "execution_count": 9,
   "id": "8722c7c6",
   "metadata": {},
   "outputs": [
    {
     "data": {
      "text/plain": [
       "array([[1, 2],\n",
       "       [3, 4],\n",
       "       [5, 6]])"
      ]
     },
     "execution_count": 9,
     "metadata": {},
     "output_type": "execute_result"
    }
   ],
   "source": [
    "threeByTwo\n"
   ]
  },
  {
   "cell_type": "code",
   "execution_count": 10,
   "id": "e1487037",
   "metadata": {},
   "outputs": [
    {
     "data": {
      "text/plain": [
       "array([[0.81617468, 0.55225504, 0.70146019, 0.39763444, 0.57414344],\n",
       "       [0.64651734, 0.90379262, 0.02693344, 0.58843954, 0.62180753],\n",
       "       [0.74828254, 0.82930117, 0.26507767, 0.91853049, 0.7102376 ],\n",
       "       [0.67370597, 0.97249619, 0.77653762, 0.53739177, 0.54197924]])"
      ]
     },
     "execution_count": 10,
     "metadata": {},
     "output_type": "execute_result"
    }
   ],
   "source": [
    "np.random.rand(4,5)"
   ]
  },
  {
   "cell_type": "code",
   "execution_count": 11,
   "id": "a60b33db",
   "metadata": {},
   "outputs": [
    {
     "data": {
      "text/plain": [
       "array([[-0.5255657 ,  0.68726957,  1.20365276, -0.76082682, -1.42500461],\n",
       "       [-0.16175843,  0.95600415,  1.04513139, -1.47316723,  0.64985596],\n",
       "       [-1.94179295,  0.36388113, -2.24705323, -0.56508584,  0.44213192],\n",
       "       [-0.58153497,  0.34562839, -0.15523501, -0.69929311, -0.69580461]])"
      ]
     },
     "execution_count": 11,
     "metadata": {},
     "output_type": "execute_result"
    }
   ],
   "source": [
    "np.random.randn(4,5)"
   ]
  },
  {
   "cell_type": "code",
   "execution_count": 12,
   "id": "af6c9bff",
   "metadata": {},
   "outputs": [
    {
     "data": {
      "text/plain": [
       "78"
      ]
     },
     "execution_count": 12,
     "metadata": {},
     "output_type": "execute_result"
    }
   ],
   "source": [
    "np.random.randint(0,100)"
   ]
  },
  {
   "cell_type": "code",
   "execution_count": 13,
   "id": "7ca9c5f9",
   "metadata": {},
   "outputs": [
    {
     "data": {
      "text/plain": [
       "array([71, 99, 57, 32, 19])"
      ]
     },
     "execution_count": 13,
     "metadata": {},
     "output_type": "execute_result"
    }
   ],
   "source": [
    "np.random.randint(0,100,5)"
   ]
  },
  {
   "cell_type": "code",
   "execution_count": 14,
   "id": "5fdb340e",
   "metadata": {},
   "outputs": [
    {
     "data": {
      "text/plain": [
       "array([[77, 18, 23,  8, 40],\n",
       "       [50, 73, 49, 76, 44],\n",
       "       [72, 28, 72, 10, 17],\n",
       "       [44, 71,  7, 28, 19]])"
      ]
     },
     "execution_count": 14,
     "metadata": {},
     "output_type": "execute_result"
    }
   ],
   "source": [
    "np.random.randint(0,100,20).reshape(4,5)"
   ]
  },
  {
   "cell_type": "code",
   "execution_count": 15,
   "id": "5fa47edb",
   "metadata": {},
   "outputs": [
    {
     "data": {
      "text/plain": [
       "array([[92, 59,  3, 64, 32],\n",
       "       [58, 64, 79, 82, 81],\n",
       "       [98, 47, 60, 89, 17],\n",
       "       [38, 69, 61, 24, 34]])"
      ]
     },
     "execution_count": 15,
     "metadata": {},
     "output_type": "execute_result"
    }
   ],
   "source": [
    "np.random.randint(0,100,(4,5))"
   ]
  },
  {
   "cell_type": "code",
   "execution_count": 16,
   "id": "9f12eb6a",
   "metadata": {},
   "outputs": [],
   "source": [
    "zeroToNineArr = np.arange(0,10)\n"
   ]
  },
  {
   "cell_type": "code",
   "execution_count": 17,
   "id": "780fbfa3",
   "metadata": {},
   "outputs": [
    {
     "data": {
      "text/plain": [
       "array([0, 1, 2, 3, 4, 5, 6, 7, 8, 9])"
      ]
     },
     "execution_count": 17,
     "metadata": {},
     "output_type": "execute_result"
    }
   ],
   "source": [
    "zeroToNineArr\n"
   ]
  },
  {
   "cell_type": "code",
   "execution_count": 18,
   "id": "aac81518",
   "metadata": {},
   "outputs": [
    {
     "data": {
      "text/plain": [
       "array([2, 3, 4, 5, 6, 7, 8, 9])"
      ]
     },
     "execution_count": 18,
     "metadata": {},
     "output_type": "execute_result"
    }
   ],
   "source": [
    "zeroToNineArr[2:]"
   ]
  },
  {
   "cell_type": "code",
   "execution_count": 19,
   "id": "2195b507",
   "metadata": {},
   "outputs": [
    {
     "data": {
      "text/plain": [
       "array([0, 1, 2, 3, 4, 5])"
      ]
     },
     "execution_count": 19,
     "metadata": {},
     "output_type": "execute_result"
    }
   ],
   "source": [
    "zeroToNineArr[:6]"
   ]
  },
  {
   "cell_type": "code",
   "execution_count": 20,
   "id": "51751d47",
   "metadata": {},
   "outputs": [
    {
     "data": {
      "text/plain": [
       "array([2, 3, 4, 5])"
      ]
     },
     "execution_count": 20,
     "metadata": {},
     "output_type": "execute_result"
    }
   ],
   "source": [
    "zeroToNineArr[2:6]"
   ]
  },
  {
   "cell_type": "code",
   "execution_count": 21,
   "id": "95ccdbb2",
   "metadata": {},
   "outputs": [
    {
     "data": {
      "text/plain": [
       "array([6, 7, 8, 9])"
      ]
     },
     "execution_count": 21,
     "metadata": {},
     "output_type": "execute_result"
    }
   ],
   "source": [
    "zeroToNineArr[-4:]#last four"
   ]
  },
  {
   "cell_type": "code",
   "execution_count": 22,
   "id": "b45cea46",
   "metadata": {},
   "outputs": [
    {
     "data": {
      "text/plain": [
       "array([1, 2, 3, 4, 5, 6, 7, 8])"
      ]
     },
     "execution_count": 22,
     "metadata": {},
     "output_type": "execute_result"
    }
   ],
   "source": [
    "zeroToNineArr[1:-1]#skip first and last"
   ]
  },
  {
   "cell_type": "code",
   "execution_count": 23,
   "id": "0c29c573",
   "metadata": {},
   "outputs": [
    {
     "data": {
      "text/plain": [
       "array([2, 3, 4, 5, 6, 7])"
      ]
     },
     "execution_count": 23,
     "metadata": {},
     "output_type": "execute_result"
    }
   ],
   "source": [
    "zeroToNineArr[2:-2]#skip 2 elements from both end"
   ]
  },
  {
   "cell_type": "code",
   "execution_count": 24,
   "id": "0d8b10cb",
   "metadata": {},
   "outputs": [
    {
     "data": {
      "text/plain": [
       "array([9, 8, 7, 6, 5, 4, 3, 2, 1, 0])"
      ]
     },
     "execution_count": 24,
     "metadata": {},
     "output_type": "execute_result"
    }
   ],
   "source": [
    "zeroToNineArr[-1::-1]#start from last to first in -1 step"
   ]
  },
  {
   "cell_type": "code",
   "execution_count": 25,
   "id": "e4c87ffb",
   "metadata": {},
   "outputs": [
    {
     "data": {
      "text/plain": [
       "array([9, 8, 7, 6, 5, 4, 3, 2, 1, 0])"
      ]
     },
     "execution_count": 25,
     "metadata": {},
     "output_type": "execute_result"
    }
   ],
   "source": [
    "zeroToNineArr[9::-1]#same as above"
   ]
  },
  {
   "cell_type": "code",
   "execution_count": 26,
   "id": "9f070c92",
   "metadata": {},
   "outputs": [
    {
     "data": {
      "text/plain": [
       "array([0, 2, 4, 6, 8])"
      ]
     },
     "execution_count": 26,
     "metadata": {},
     "output_type": "execute_result"
    }
   ],
   "source": [
    "zeroToNineArr[0::2]"
   ]
  },
  {
   "cell_type": "code",
   "execution_count": 27,
   "id": "3b94b522",
   "metadata": {},
   "outputs": [
    {
     "data": {
      "text/plain": [
       "array([9, 7, 5, 3, 1])"
      ]
     },
     "execution_count": 27,
     "metadata": {},
     "output_type": "execute_result"
    }
   ],
   "source": [
    "zeroToNineArr[-1::-2]"
   ]
  },
  {
   "cell_type": "code",
   "execution_count": 28,
   "id": "d2bf680d",
   "metadata": {},
   "outputs": [],
   "source": [
    "fourByFive = np.random.randint(0,100,20).reshape(4,5)"
   ]
  },
  {
   "cell_type": "code",
   "execution_count": 29,
   "id": "0c977000",
   "metadata": {},
   "outputs": [
    {
     "data": {
      "text/plain": [
       "array([[78, 78, 89,  5, 96],\n",
       "       [52, 65, 74, 37,  6],\n",
       "       [71, 11, 80, 59, 18],\n",
       "       [66, 29, 80, 41, 26]])"
      ]
     },
     "execution_count": 29,
     "metadata": {},
     "output_type": "execute_result"
    }
   ],
   "source": [
    "fourByFive"
   ]
  },
  {
   "cell_type": "code",
   "execution_count": 30,
   "id": "a677e67e",
   "metadata": {},
   "outputs": [
    {
     "data": {
      "text/plain": [
       "array([[71, 11, 80, 59, 18]])"
      ]
     },
     "execution_count": 30,
     "metadata": {},
     "output_type": "execute_result"
    }
   ],
   "source": [
    "fourByFive[2:3]"
   ]
  },
  {
   "cell_type": "code",
   "execution_count": 31,
   "id": "28c71378",
   "metadata": {},
   "outputs": [
    {
     "data": {
      "text/plain": [
       "array([[80, 59, 18],\n",
       "       [80, 41, 26]])"
      ]
     },
     "execution_count": 31,
     "metadata": {},
     "output_type": "execute_result"
    }
   ],
   "source": [
    "fourByFive[2::,2::]"
   ]
  },
  {
   "cell_type": "code",
   "execution_count": 32,
   "id": "751373b7",
   "metadata": {},
   "outputs": [],
   "source": [
    "arr1=np.random.randint(1,10,(10,10))\n",
    "arr2=np.random.randint(1,10,(3,3))"
   ]
  },
  {
   "cell_type": "code",
   "execution_count": null,
   "id": "e3706442",
   "metadata": {},
   "outputs": [],
   "source": []
  },
  {
   "cell_type": "code",
   "execution_count": 33,
   "id": "d829a3de",
   "metadata": {},
   "outputs": [
    {
     "data": {
      "text/plain": [
       "array([[3, 4, 1, 6, 1, 7, 2, 8, 6, 6],\n",
       "       [2, 5, 4, 6, 8, 8, 5, 4, 8, 2],\n",
       "       [6, 6, 5, 7, 3, 4, 6, 3, 5, 8],\n",
       "       [4, 4, 2, 9, 7, 7, 8, 5, 7, 5],\n",
       "       [3, 5, 6, 2, 7, 8, 9, 9, 2, 3],\n",
       "       [5, 1, 2, 3, 7, 8, 3, 7, 8, 5],\n",
       "       [6, 3, 9, 6, 4, 1, 2, 2, 9, 7],\n",
       "       [3, 6, 8, 5, 4, 9, 8, 7, 4, 3],\n",
       "       [9, 9, 4, 2, 6, 3, 8, 3, 3, 2],\n",
       "       [9, 6, 2, 2, 1, 1, 6, 1, 9, 2]])"
      ]
     },
     "execution_count": 33,
     "metadata": {},
     "output_type": "execute_result"
    }
   ],
   "source": [
    "arr1\n"
   ]
  },
  {
   "cell_type": "code",
   "execution_count": 34,
   "id": "698057d1",
   "metadata": {},
   "outputs": [
    {
     "data": {
      "text/plain": [
       "array([[4, 3, 1],\n",
       "       [2, 2, 9],\n",
       "       [7, 5, 3]])"
      ]
     },
     "execution_count": 34,
     "metadata": {},
     "output_type": "execute_result"
    }
   ],
   "source": [
    "arr2"
   ]
  },
  {
   "cell_type": "code",
   "execution_count": null,
   "id": "9e7f371e",
   "metadata": {},
   "outputs": [],
   "source": [
    "\n"
   ]
  },
  {
   "cell_type": "code",
   "execution_count": 35,
   "id": "afb7d6bd",
   "metadata": {},
   "outputs": [],
   "source": [
    "import pandas as pd"
   ]
  },
  {
   "cell_type": "code",
   "execution_count": 36,
   "id": "065bb7f4",
   "metadata": {},
   "outputs": [],
   "source": [
    "arr1=np.random.randint(1,10,(20,10))\n",
    "df = pd.DataFrame(data=arr1)"
   ]
  },
  {
   "cell_type": "code",
   "execution_count": 37,
   "id": "2d8b6037",
   "metadata": {},
   "outputs": [
    {
     "data": {
      "text/html": [
       "<div>\n",
       "<style scoped>\n",
       "    .dataframe tbody tr th:only-of-type {\n",
       "        vertical-align: middle;\n",
       "    }\n",
       "\n",
       "    .dataframe tbody tr th {\n",
       "        vertical-align: top;\n",
       "    }\n",
       "\n",
       "    .dataframe thead th {\n",
       "        text-align: right;\n",
       "    }\n",
       "</style>\n",
       "<table border=\"1\" class=\"dataframe\">\n",
       "  <thead>\n",
       "    <tr style=\"text-align: right;\">\n",
       "      <th></th>\n",
       "      <th>0</th>\n",
       "      <th>1</th>\n",
       "      <th>2</th>\n",
       "      <th>3</th>\n",
       "      <th>4</th>\n",
       "      <th>5</th>\n",
       "      <th>6</th>\n",
       "      <th>7</th>\n",
       "      <th>8</th>\n",
       "      <th>9</th>\n",
       "    </tr>\n",
       "  </thead>\n",
       "  <tbody>\n",
       "    <tr>\n",
       "      <th>0</th>\n",
       "      <td>3</td>\n",
       "      <td>2</td>\n",
       "      <td>4</td>\n",
       "      <td>2</td>\n",
       "      <td>1</td>\n",
       "      <td>8</td>\n",
       "      <td>6</td>\n",
       "      <td>9</td>\n",
       "      <td>1</td>\n",
       "      <td>6</td>\n",
       "    </tr>\n",
       "    <tr>\n",
       "      <th>1</th>\n",
       "      <td>7</td>\n",
       "      <td>5</td>\n",
       "      <td>7</td>\n",
       "      <td>7</td>\n",
       "      <td>4</td>\n",
       "      <td>7</td>\n",
       "      <td>9</td>\n",
       "      <td>1</td>\n",
       "      <td>8</td>\n",
       "      <td>3</td>\n",
       "    </tr>\n",
       "    <tr>\n",
       "      <th>2</th>\n",
       "      <td>9</td>\n",
       "      <td>2</td>\n",
       "      <td>5</td>\n",
       "      <td>9</td>\n",
       "      <td>1</td>\n",
       "      <td>6</td>\n",
       "      <td>1</td>\n",
       "      <td>9</td>\n",
       "      <td>2</td>\n",
       "      <td>3</td>\n",
       "    </tr>\n",
       "    <tr>\n",
       "      <th>3</th>\n",
       "      <td>8</td>\n",
       "      <td>4</td>\n",
       "      <td>5</td>\n",
       "      <td>4</td>\n",
       "      <td>5</td>\n",
       "      <td>9</td>\n",
       "      <td>3</td>\n",
       "      <td>1</td>\n",
       "      <td>7</td>\n",
       "      <td>4</td>\n",
       "    </tr>\n",
       "    <tr>\n",
       "      <th>4</th>\n",
       "      <td>7</td>\n",
       "      <td>2</td>\n",
       "      <td>3</td>\n",
       "      <td>7</td>\n",
       "      <td>6</td>\n",
       "      <td>7</td>\n",
       "      <td>8</td>\n",
       "      <td>7</td>\n",
       "      <td>9</td>\n",
       "      <td>3</td>\n",
       "    </tr>\n",
       "    <tr>\n",
       "      <th>5</th>\n",
       "      <td>2</td>\n",
       "      <td>1</td>\n",
       "      <td>2</td>\n",
       "      <td>1</td>\n",
       "      <td>1</td>\n",
       "      <td>9</td>\n",
       "      <td>2</td>\n",
       "      <td>1</td>\n",
       "      <td>2</td>\n",
       "      <td>5</td>\n",
       "    </tr>\n",
       "    <tr>\n",
       "      <th>6</th>\n",
       "      <td>5</td>\n",
       "      <td>5</td>\n",
       "      <td>7</td>\n",
       "      <td>2</td>\n",
       "      <td>4</td>\n",
       "      <td>8</td>\n",
       "      <td>3</td>\n",
       "      <td>4</td>\n",
       "      <td>9</td>\n",
       "      <td>6</td>\n",
       "    </tr>\n",
       "    <tr>\n",
       "      <th>7</th>\n",
       "      <td>7</td>\n",
       "      <td>9</td>\n",
       "      <td>7</td>\n",
       "      <td>4</td>\n",
       "      <td>9</td>\n",
       "      <td>8</td>\n",
       "      <td>4</td>\n",
       "      <td>5</td>\n",
       "      <td>7</td>\n",
       "      <td>9</td>\n",
       "    </tr>\n",
       "    <tr>\n",
       "      <th>8</th>\n",
       "      <td>2</td>\n",
       "      <td>6</td>\n",
       "      <td>4</td>\n",
       "      <td>1</td>\n",
       "      <td>6</td>\n",
       "      <td>3</td>\n",
       "      <td>9</td>\n",
       "      <td>6</td>\n",
       "      <td>1</td>\n",
       "      <td>5</td>\n",
       "    </tr>\n",
       "    <tr>\n",
       "      <th>9</th>\n",
       "      <td>7</td>\n",
       "      <td>7</td>\n",
       "      <td>4</td>\n",
       "      <td>8</td>\n",
       "      <td>8</td>\n",
       "      <td>9</td>\n",
       "      <td>5</td>\n",
       "      <td>5</td>\n",
       "      <td>5</td>\n",
       "      <td>8</td>\n",
       "    </tr>\n",
       "    <tr>\n",
       "      <th>10</th>\n",
       "      <td>5</td>\n",
       "      <td>5</td>\n",
       "      <td>4</td>\n",
       "      <td>9</td>\n",
       "      <td>6</td>\n",
       "      <td>5</td>\n",
       "      <td>2</td>\n",
       "      <td>4</td>\n",
       "      <td>1</td>\n",
       "      <td>9</td>\n",
       "    </tr>\n",
       "    <tr>\n",
       "      <th>11</th>\n",
       "      <td>2</td>\n",
       "      <td>8</td>\n",
       "      <td>6</td>\n",
       "      <td>1</td>\n",
       "      <td>8</td>\n",
       "      <td>2</td>\n",
       "      <td>7</td>\n",
       "      <td>5</td>\n",
       "      <td>8</td>\n",
       "      <td>2</td>\n",
       "    </tr>\n",
       "    <tr>\n",
       "      <th>12</th>\n",
       "      <td>9</td>\n",
       "      <td>1</td>\n",
       "      <td>8</td>\n",
       "      <td>3</td>\n",
       "      <td>2</td>\n",
       "      <td>6</td>\n",
       "      <td>1</td>\n",
       "      <td>8</td>\n",
       "      <td>5</td>\n",
       "      <td>1</td>\n",
       "    </tr>\n",
       "    <tr>\n",
       "      <th>13</th>\n",
       "      <td>8</td>\n",
       "      <td>4</td>\n",
       "      <td>8</td>\n",
       "      <td>5</td>\n",
       "      <td>9</td>\n",
       "      <td>4</td>\n",
       "      <td>5</td>\n",
       "      <td>8</td>\n",
       "      <td>7</td>\n",
       "      <td>2</td>\n",
       "    </tr>\n",
       "    <tr>\n",
       "      <th>14</th>\n",
       "      <td>8</td>\n",
       "      <td>4</td>\n",
       "      <td>4</td>\n",
       "      <td>2</td>\n",
       "      <td>1</td>\n",
       "      <td>7</td>\n",
       "      <td>3</td>\n",
       "      <td>2</td>\n",
       "      <td>9</td>\n",
       "      <td>5</td>\n",
       "    </tr>\n",
       "    <tr>\n",
       "      <th>15</th>\n",
       "      <td>6</td>\n",
       "      <td>7</td>\n",
       "      <td>3</td>\n",
       "      <td>8</td>\n",
       "      <td>4</td>\n",
       "      <td>7</td>\n",
       "      <td>7</td>\n",
       "      <td>5</td>\n",
       "      <td>7</td>\n",
       "      <td>4</td>\n",
       "    </tr>\n",
       "    <tr>\n",
       "      <th>16</th>\n",
       "      <td>4</td>\n",
       "      <td>3</td>\n",
       "      <td>7</td>\n",
       "      <td>1</td>\n",
       "      <td>3</td>\n",
       "      <td>6</td>\n",
       "      <td>7</td>\n",
       "      <td>1</td>\n",
       "      <td>7</td>\n",
       "      <td>4</td>\n",
       "    </tr>\n",
       "    <tr>\n",
       "      <th>17</th>\n",
       "      <td>5</td>\n",
       "      <td>3</td>\n",
       "      <td>5</td>\n",
       "      <td>7</td>\n",
       "      <td>3</td>\n",
       "      <td>6</td>\n",
       "      <td>4</td>\n",
       "      <td>6</td>\n",
       "      <td>9</td>\n",
       "      <td>8</td>\n",
       "    </tr>\n",
       "    <tr>\n",
       "      <th>18</th>\n",
       "      <td>2</td>\n",
       "      <td>9</td>\n",
       "      <td>4</td>\n",
       "      <td>1</td>\n",
       "      <td>2</td>\n",
       "      <td>9</td>\n",
       "      <td>3</td>\n",
       "      <td>8</td>\n",
       "      <td>5</td>\n",
       "      <td>6</td>\n",
       "    </tr>\n",
       "    <tr>\n",
       "      <th>19</th>\n",
       "      <td>2</td>\n",
       "      <td>5</td>\n",
       "      <td>7</td>\n",
       "      <td>3</td>\n",
       "      <td>4</td>\n",
       "      <td>9</td>\n",
       "      <td>4</td>\n",
       "      <td>1</td>\n",
       "      <td>4</td>\n",
       "      <td>7</td>\n",
       "    </tr>\n",
       "  </tbody>\n",
       "</table>\n",
       "</div>"
      ],
      "text/plain": [
       "    0  1  2  3  4  5  6  7  8  9\n",
       "0   3  2  4  2  1  8  6  9  1  6\n",
       "1   7  5  7  7  4  7  9  1  8  3\n",
       "2   9  2  5  9  1  6  1  9  2  3\n",
       "3   8  4  5  4  5  9  3  1  7  4\n",
       "4   7  2  3  7  6  7  8  7  9  3\n",
       "5   2  1  2  1  1  9  2  1  2  5\n",
       "6   5  5  7  2  4  8  3  4  9  6\n",
       "7   7  9  7  4  9  8  4  5  7  9\n",
       "8   2  6  4  1  6  3  9  6  1  5\n",
       "9   7  7  4  8  8  9  5  5  5  8\n",
       "10  5  5  4  9  6  5  2  4  1  9\n",
       "11  2  8  6  1  8  2  7  5  8  2\n",
       "12  9  1  8  3  2  6  1  8  5  1\n",
       "13  8  4  8  5  9  4  5  8  7  2\n",
       "14  8  4  4  2  1  7  3  2  9  5\n",
       "15  6  7  3  8  4  7  7  5  7  4\n",
       "16  4  3  7  1  3  6  7  1  7  4\n",
       "17  5  3  5  7  3  6  4  6  9  8\n",
       "18  2  9  4  1  2  9  3  8  5  6\n",
       "19  2  5  7  3  4  9  4  1  4  7"
      ]
     },
     "execution_count": 37,
     "metadata": {},
     "output_type": "execute_result"
    }
   ],
   "source": [
    "df"
   ]
  },
  {
   "cell_type": "code",
   "execution_count": 38,
   "id": "2703ed2d",
   "metadata": {},
   "outputs": [
    {
     "ename": "ValueError",
     "evalue": "operands could not be broadcast together with shapes (20,10) (3,3) ",
     "output_type": "error",
     "traceback": [
      "\u001b[1;31m---------------------------------------------------------------------------\u001b[0m",
      "\u001b[1;31mValueError\u001b[0m                                Traceback (most recent call last)",
      "Cell \u001b[1;32mIn[38], line 1\u001b[0m\n\u001b[1;32m----> 1\u001b[0m df2 \u001b[38;5;241m=\u001b[39m pd\u001b[38;5;241m.\u001b[39mDataFrame(data\u001b[38;5;241m=\u001b[39marr1\u001b[38;5;241m*\u001b[39marr2)\n",
      "\u001b[1;31mValueError\u001b[0m: operands could not be broadcast together with shapes (20,10) (3,3) "
     ]
    }
   ],
   "source": [
    "df2 = pd.DataFrame(data=arr1*arr2)"
   ]
  },
  {
   "cell_type": "code",
   "execution_count": null,
   "id": "bc419607",
   "metadata": {},
   "outputs": [],
   "source": [
    "df2"
   ]
  },
  {
   "cell_type": "code",
   "execution_count": null,
   "id": "1fbef2f0",
   "metadata": {},
   "outputs": [],
   "source": [
    "df = pd.DataFrame(data=arr1)\n",
    "df"
   ]
  },
  {
   "cell_type": "code",
   "execution_count": null,
   "id": "51d4653e",
   "metadata": {},
   "outputs": [],
   "source": [
    "df.head()"
   ]
  },
  {
   "cell_type": "code",
   "execution_count": null,
   "id": "da5eb08b",
   "metadata": {},
   "outputs": [],
   "source": [
    "df.head(2)"
   ]
  },
  {
   "cell_type": "code",
   "execution_count": null,
   "id": "68faf527",
   "metadata": {},
   "outputs": [],
   "source": [
    "df.tail(3)"
   ]
  },
  {
   "cell_type": "code",
   "execution_count": null,
   "id": "0998d558",
   "metadata": {},
   "outputs": [],
   "source": [
    "df.describe()"
   ]
  },
  {
   "cell_type": "code",
   "execution_count": null,
   "id": "51fa1b74",
   "metadata": {},
   "outputs": [],
   "source": [
    "df.describe()"
   ]
  },
  {
   "cell_type": "code",
   "execution_count": null,
   "id": "ac7a8b29",
   "metadata": {},
   "outputs": [],
   "source": [
    "#df[['column4','column5']]\n",
    "type(df[[4,5]])"
   ]
  },
  {
   "cell_type": "code",
   "execution_count": null,
   "id": "fd89f94c",
   "metadata": {},
   "outputs": [],
   "source": [
    "type(df[4])\n"
   ]
  },
  {
   "cell_type": "code",
   "execution_count": null,
   "id": "1bce8269",
   "metadata": {},
   "outputs": [],
   "source": [
    "#df.loc[['row1','row2']]\n",
    "df.loc[[0,1]]"
   ]
  },
  {
   "cell_type": "code",
   "execution_count": null,
   "id": "5810dcc3",
   "metadata": {},
   "outputs": [],
   "source": [
    "df.iloc[3:]"
   ]
  },
  {
   "cell_type": "code",
   "execution_count": null,
   "id": "e39903c1",
   "metadata": {},
   "outputs": [],
   "source": [
    "df.iloc[5:10,3:10]"
   ]
  },
  {
   "cell_type": "code",
   "execution_count": null,
   "id": "2269ef4e",
   "metadata": {},
   "outputs": [],
   "source": [
    "np.nan"
   ]
  },
  {
   "cell_type": "code",
   "execution_count": null,
   "id": "bc6ff9f7",
   "metadata": {},
   "outputs": [],
   "source": [
    "df.isnull().count()"
   ]
  },
  {
   "cell_type": "code",
   "execution_count": null,
   "id": "f900b8b2",
   "metadata": {},
   "outputs": [],
   "source": [
    "df.isnull().sum()"
   ]
  },
  {
   "cell_type": "code",
   "execution_count": null,
   "id": "14b25167",
   "metadata": {},
   "outputs": [],
   "source": [
    "df.isna()"
   ]
  },
  {
   "cell_type": "code",
   "execution_count": null,
   "id": "8cc3ddaf",
   "metadata": {},
   "outputs": [],
   "source": [
    "df.isna().sum()"
   ]
  },
  {
   "cell_type": "code",
   "execution_count": null,
   "id": "babef86f",
   "metadata": {},
   "outputs": [],
   "source": [
    "df.isna().count()"
   ]
  },
  {
   "cell_type": "code",
   "execution_count": null,
   "id": "2d60ffbb",
   "metadata": {},
   "outputs": [],
   "source": [
    "df.info()"
   ]
  },
  {
   "cell_type": "code",
   "execution_count": null,
   "id": "95abdd22",
   "metadata": {},
   "outputs": [],
   "source": [
    "df.describe()"
   ]
  },
  {
   "cell_type": "code",
   "execution_count": null,
   "id": "b53bd394",
   "metadata": {},
   "outputs": [],
   "source": [
    "arr=np.random.randint(0,10,(10,20))\n",
    "arr"
   ]
  },
  {
   "cell_type": "code",
   "execution_count": null,
   "id": "4cb04d82",
   "metadata": {},
   "outputs": [],
   "source": [
    "df = pd.DataFrame(data=arr)\n",
    "df\n"
   ]
  },
  {
   "cell_type": "code",
   "execution_count": null,
   "id": "a788ffce",
   "metadata": {},
   "outputs": [],
   "source": [
    "for s in range(0,20):\n",
    "    print(df[s].value_counts())\n",
    "    "
   ]
  },
  {
   "cell_type": "code",
   "execution_count": null,
   "id": "0864e77f",
   "metadata": {},
   "outputs": [],
   "source": [
    "for s in range(0,20):\n",
    "    print(df[s].unique())"
   ]
  },
  {
   "cell_type": "code",
   "execution_count": null,
   "id": "e8d4a72f",
   "metadata": {},
   "outputs": [],
   "source": [
    "df[1].unique()"
   ]
  },
  {
   "cell_type": "code",
   "execution_count": null,
   "id": "dbaac527",
   "metadata": {},
   "outputs": [],
   "source": [
    "df[1].value_counts()"
   ]
  },
  {
   "cell_type": "code",
   "execution_count": null,
   "id": "a16d85f6",
   "metadata": {},
   "outputs": [],
   "source": [
    "type(df[[1]])\n"
   ]
  },
  {
   "cell_type": "code",
   "execution_count": null,
   "id": "62142c07",
   "metadata": {},
   "outputs": [],
   "source": [
    "type(df[1])"
   ]
  },
  {
   "cell_type": "code",
   "execution_count": null,
   "id": "4a0a3cd6",
   "metadata": {},
   "outputs": [],
   "source": [
    "df.iloc[3,5]=np.nan"
   ]
  },
  {
   "cell_type": "code",
   "execution_count": null,
   "id": "d310a64b",
   "metadata": {},
   "outputs": [],
   "source": [
    "df.loc[[3]]"
   ]
  },
  {
   "cell_type": "code",
   "execution_count": null,
   "id": "18edec2f",
   "metadata": {},
   "outputs": [],
   "source": [
    "rows=[]\n",
    "headings=[]\n",
    "for n in range(20):\n",
    "    r='row'+str(n)\n",
    "    rows.append(r)\n",
    "    c='col'+str(n)\n",
    "    headings.append(c)\n",
    "arr1=np.random.randint(1,10,(20,20))\n",
    "df = pd.DataFrame(data=arr1,index=rows,columns=headings)   \n",
    "    \n",
    "    "
   ]
  },
  {
   "cell_type": "code",
   "execution_count": null,
   "id": "f816033a",
   "metadata": {
    "scrolled": true
   },
   "outputs": [],
   "source": [
    "df.iloc[6,6]=np.nan\n"
   ]
  },
  {
   "cell_type": "code",
   "execution_count": null,
   "id": "d298e63d",
   "metadata": {},
   "outputs": [],
   "source": [
    "df.to_csv(\"test.csv\",index=False)"
   ]
  },
  {
   "cell_type": "code",
   "execution_count": null,
   "id": "d32d98d4",
   "metadata": {},
   "outputs": [],
   "source": [
    "import os\n",
    "print(os.getcwd())"
   ]
  },
  {
   "cell_type": "code",
   "execution_count": null,
   "id": "1912031f",
   "metadata": {},
   "outputs": [],
   "source": [
    "df1=pd.read_csv(\"test.csv\")"
   ]
  },
  {
   "cell_type": "code",
   "execution_count": null,
   "id": "21374a17",
   "metadata": {},
   "outputs": [],
   "source": [
    "df1[19]=np.random.choice(['YES','NO'],20)\n"
   ]
  },
  {
   "cell_type": "code",
   "execution_count": null,
   "id": "a93981c4",
   "metadata": {},
   "outputs": [],
   "source": [
    "df1"
   ]
  },
  {
   "cell_type": "code",
   "execution_count": null,
   "id": "2046624c",
   "metadata": {},
   "outputs": [],
   "source": [
    "# Correct dictionary syntax\n",
    "data = '{\"A\": [1, 2, 3], \"B\": [4, 5, 6], \"C\": [7, 8, 9]}'\n",
    "\n",
    "# Loading the JSON-like string into a Python dictionary\n",
    "# parsed_data = json.loads(data)\n",
    "# Converting the dictionary to a DataFrame\n",
    "# df = pd.DataFrame(parsed_data)\n",
    "\n",
    "df3 = pd.read_json(data,orient = 'records')\n",
    "df3\n",
    "\n"
   ]
  },
  {
   "cell_type": "code",
   "execution_count": null,
   "id": "3a841850",
   "metadata": {},
   "outputs": [],
   "source": [
    "data3 = df3.to_json()\n",
    "type(data3)"
   ]
  },
  {
   "cell_type": "code",
   "execution_count": null,
   "id": "021335e7",
   "metadata": {},
   "outputs": [],
   "source": [
    "data3"
   ]
  },
  {
   "cell_type": "code",
   "execution_count": null,
   "id": "542f4199",
   "metadata": {},
   "outputs": [],
   "source": [
    "df33 = pd.read_json(data3)\n",
    "df33"
   ]
  },
  {
   "cell_type": "markdown",
   "id": "a1e7ad65",
   "metadata": {},
   "source": []
  },
  {
   "cell_type": "code",
   "execution_count": null,
   "id": "c1e0c851",
   "metadata": {},
   "outputs": [],
   "source": [
    "df4 = pd.read_json(data,orient = 'index')\n",
    "df4"
   ]
  },
  {
   "cell_type": "code",
   "execution_count": null,
   "id": "a02953e8",
   "metadata": {},
   "outputs": [],
   "source": [
    "data4 = df4.to_json(orient = 'columns')\n",
    "data4"
   ]
  },
  {
   "cell_type": "code",
   "execution_count": null,
   "id": "a085873e",
   "metadata": {},
   "outputs": [],
   "source": [
    "! pip install matplotlib\n"
   ]
  },
  {
   "cell_type": "code",
   "execution_count": null,
   "id": "ec8f800c",
   "metadata": {},
   "outputs": [],
   "source": [
    "import matplotlib.pyplot as plt\n",
    "%matplotlib inline"
   ]
  },
  {
   "cell_type": "code",
   "execution_count": null,
   "id": "2528501e",
   "metadata": {},
   "outputs": [],
   "source": [
    "df1\n"
   ]
  },
  {
   "cell_type": "code",
   "execution_count": null,
   "id": "9b5df1ee",
   "metadata": {
    "scrolled": true
   },
   "outputs": [],
   "source": [
    "marineGreen = (0.0,0.6,0.5)\n",
    "x = df1.index\n",
    "y = df1['col4']\n",
    "plt.scatter(x,y,color=marineGreen)\n",
    "plt.xlabel('Index X')\n",
    "plt.ylabel('Column n')\n",
    "plt.title('Scatter plot of Index Vs Column n')\n",
    "#plt.savefig('test.pn')"
   ]
  },
  {
   "cell_type": "code",
   "execution_count": null,
   "id": "6f959566",
   "metadata": {},
   "outputs": [],
   "source": [
    "y = x**0.5\n",
    "##line plot\n",
    "#plt.plot(x,y)\n",
    "#plt.plot(x,y,'o')\n",
    "plt.plot(x,y,'r*',linestyle='dashed',linewidth = 0.5,markersize=10)\n"
   ]
  },
  {
   "cell_type": "code",
   "execution_count": null,
   "id": "64efd4ee",
   "metadata": {
    "scrolled": true
   },
   "outputs": [],
   "source": [
    "#sub plot m*n plots [i,j,cell#]\n",
    "y = x ** 0.5\n",
    "plt.subplot(2,2,1)\n",
    "#plt.plot(x,y,'r--')\n",
    "plt.scatter(x,y)\n",
    "plt.title('Squre root')\n",
    "y = x ** 2\n",
    "plt.subplot(2,2,2)\n",
    "plt.plot(x,y,'g--')\n",
    "plt.title('Squre')\n",
    "y = x ** 3\n",
    "plt.subplot(2,2,3)\n",
    "plt.plot(x,y,'b--')\n",
    "plt.title('Cube')\n",
    "y = np.log(x)\n",
    "plt.subplot(2,2,4)\n",
    "plt.plot(x,y,'y--')\n",
    "plt.title('Log')"
   ]
  },
  {
   "cell_type": "code",
   "execution_count": null,
   "id": "b370c026",
   "metadata": {},
   "outputs": [],
   "source": [
    "x = np.linspace(0, 20, 1000)\n",
    "\n",
    "# Calculate y1 = sin(x)\n",
    "y1 = np.sin(x)\n",
    "\n",
    "# Find the indices where sin(x) crosses zero within this range\n",
    "roots_y1_indices = np.where(np.diff(np.sign(y1)))[0]\n",
    "\n",
    "# Filter indices within the range of x\n",
    "filtered_indices = [index for index in roots_y1_indices if 0 <= index < len(x)]\n",
    "\n",
    "# Get the approximate x-values where sin(x) is close to zero\n",
    "approx_roots_x_y1 = x[np.array(filtered_indices)]\n",
    "\n",
    "print(approx_roots_x_y1)"
   ]
  },
  {
   "cell_type": "code",
   "execution_count": null,
   "id": "51cb4205",
   "metadata": {},
   "outputs": [],
   "source": [
    "#x= np.linspace(0,20,1000)\n",
    "x = np.linspace(0, 10, 20)\n",
    "y1 = np.sin(x)\n",
    "y2 = np.cos(x)\n",
    "y3 = np.tan(x)\n",
    "signOfy1=np.sign(y1)\n"
   ]
  },
  {
   "cell_type": "code",
   "execution_count": null,
   "id": "58837e59",
   "metadata": {},
   "outputs": [],
   "source": [
    "isCrossing = np.diff(signOfy1)\n"
   ]
  },
  {
   "cell_type": "code",
   "execution_count": null,
   "id": "1ff8afac",
   "metadata": {},
   "outputs": [],
   "source": [
    "\n"
   ]
  },
  {
   "cell_type": "code",
   "execution_count": null,
   "id": "4d1971d0",
   "metadata": {
    "scrolled": true
   },
   "outputs": [],
   "source": [
    "rootsy1_indices=np.where(np.abs(y1) < 0.1)[0]\n",
    "rootsy2_indices=np.where(np.abs(y2) < 0.1)[0]\n",
    "rootsy3_indices=np.where(np.abs(y3) < 0.1)[0]\n",
    "plt.plot(x,y1,color ='blue',label='sinx')\n",
    "plt.scatter(x[rootsy1_indices],y1[rootsy1_indices],color ='red',label='roots')\n",
    "roots_x_values = x[rootsy1_indices]\n",
    "for i, txt in enumerate(roots_x_values):\n",
    "    plt.annotate(f'x={txt:.2f}', (roots_x_values[i], 0), xytext=(roots_x_values[i], 0.5), ha='center')\n",
    "plt.plot(x,y2,color ='pink',label='cosx')\n",
    "plt.scatter(x[rootsy2_indices],y2[rootsy2_indices],color = 'red')\n",
    "roots_x2_values = x[rootsy2_indices]\n",
    "\n",
    "plt.plot(x,y3,color ='green',label='tanx')\n",
    "plt.scatter(x[rootsy3_indices],y3[rootsy3_indices],color = 'red')\n",
    "#\n",
    "\n",
    "\n",
    "#\n",
    "plt.legend()\n",
    "plt.ylim(-3,3)\n",
    "plt.axhline(0,color = 'black')\n",
    "plt.title('Trignometric Functions')"
   ]
  },
  {
   "cell_type": "code",
   "execution_count": null,
   "id": "02596171",
   "metadata": {
    "scrolled": false
   },
   "outputs": [],
   "source": [
    "x = np.linspace(0, 20, 1000)\n",
    "y1 = np.sin(x)\n",
    "plt.figure(figsize = (8,4))\n",
    "plt.ylim(-1,1) \n",
    "plt.plot(x,y1)\n",
    "plt.axhline(y=0,color = 'black')\n"
   ]
  },
  {
   "cell_type": "code",
   "execution_count": null,
   "id": "9ce69881",
   "metadata": {},
   "outputs": [],
   "source": [
    "a = np.random.randint(0,50,10)\n",
    "\n",
    "plt.hist(a,bins = 5)"
   ]
  },
  {
   "cell_type": "code",
   "execution_count": null,
   "id": "3c721585",
   "metadata": {},
   "outputs": [],
   "source": [
    "data = [np.random.normal(0,std,100)for std in range(1,4)]\n",
    "plt.boxplot(data)"
   ]
  },
  {
   "cell_type": "code",
   "execution_count": null,
   "id": "a085ad6a",
   "metadata": {},
   "outputs": [],
   "source": [
    "my_labels ='python','Java','JavaScript','c'\n",
    "percentage = [40,40,15,5]\n",
    "colors =['green','brown','yellow','blue']\n",
    "explode = [0,0,0,0.3]\n",
    "plt.pie( percentage,labels = my_labels,colors =colors,explode = explode)"
   ]
  },
  {
   "cell_type": "code",
   "execution_count": null,
   "id": "bdc6d2ec",
   "metadata": {},
   "outputs": [],
   "source": [
    "np.mean(a)"
   ]
  },
  {
   "cell_type": "code",
   "execution_count": null,
   "id": "c79ead4e",
   "metadata": {},
   "outputs": [],
   "source": [
    "np.median(a)"
   ]
  },
  {
   "cell_type": "code",
   "execution_count": null,
   "id": "c916fc61",
   "metadata": {},
   "outputs": [],
   "source": [
    "from scipy import stats as st"
   ]
  },
  {
   "cell_type": "code",
   "execution_count": null,
   "id": "e64bf5d3",
   "metadata": {},
   "outputs": [],
   "source": [
    "st.mode(a)"
   ]
  },
  {
   "cell_type": "code",
   "execution_count": null,
   "id": "2805fcae",
   "metadata": {},
   "outputs": [],
   "source": [
    "import seaborn as sns\n"
   ]
  },
  {
   "cell_type": "code",
   "execution_count": null,
   "id": "2e0aed1c",
   "metadata": {},
   "outputs": [],
   "source": [
    "sns.histplot(a,kde = True)"
   ]
  },
  {
   "cell_type": "code",
   "execution_count": null,
   "id": "b49a776a",
   "metadata": {},
   "outputs": [],
   "source": [
    "np.percentile(a,[25])"
   ]
  },
  {
   "cell_type": "code",
   "execution_count": null,
   "id": "0eb32d3f",
   "metadata": {},
   "outputs": [],
   "source": [
    "#q1,q2,q3,q4 = np.percentile(a,[25,50,75,100])\n",
    "q = np.percentile(a,[25,50,75,100])\n",
    "#q2 second quartile\n",
    "q[1]==np.median(a)"
   ]
  },
  {
   "cell_type": "code",
   "execution_count": null,
   "id": "3f8a396c",
   "metadata": {},
   "outputs": [],
   "source": [
    "#Inter Quartile Range\n",
    "iqr = q[2]-q[0]\n",
    "iqr"
   ]
  },
  {
   "cell_type": "code",
   "execution_count": null,
   "id": "6f611fd4",
   "metadata": {},
   "outputs": [],
   "source": [
    "q[0]"
   ]
  },
  {
   "cell_type": "code",
   "execution_count": null,
   "id": "5519b529",
   "metadata": {},
   "outputs": [],
   "source": [
    "#outliers below upeerfence and above lowerfence\n",
    "upper_fence = q[3]+1.5*iqr\n",
    "lower_fence = q[0]-1.5*iqr\n",
    "upper_fence\n"
   ]
  },
  {
   "cell_type": "code",
   "execution_count": null,
   "id": "d020306f",
   "metadata": {},
   "outputs": [],
   "source": [
    "lower_fence\n"
   ]
  },
  {
   "cell_type": "code",
   "execution_count": null,
   "id": "978444a9",
   "metadata": {},
   "outputs": [],
   "source": [
    "sns.boxplot(a)"
   ]
  },
  {
   "cell_type": "code",
   "execution_count": null,
   "id": "52c8b2d0",
   "metadata": {},
   "outputs": [],
   "source": [
    "q[1]"
   ]
  },
  {
   "cell_type": "code",
   "execution_count": null,
   "id": "ec87c237",
   "metadata": {},
   "outputs": [],
   "source": [
    "data = {\n",
    "    'Values': [12, 15, 17, 20, 21, 22, 23, 25, 27, 30, 32],\n",
    "    'Category': ['A', 'A', 'B', 'B', 'A', 'C', 'C', 'B', 'A', 'C', 'B']\n",
    "}\n",
    "sns.boxplot(x='Category', y='Values', data=data, hue='Category')\n"
   ]
  },
  {
   "cell_type": "code",
   "execution_count": null,
   "id": "1a505a89",
   "metadata": {},
   "outputs": [],
   "source": [
    "list(range(0,-5))"
   ]
  },
  {
   "cell_type": "code",
   "execution_count": 39,
   "id": "1e8a83eb",
   "metadata": {
    "scrolled": true
   },
   "outputs": [
    {
     "data": {
      "image/png": "[encoded data removed]",
      "text/plain": [
       "<Figure size 640x480 with 1 Axes>"
      ]
     },
     "metadata": {},
     "output_type": "display_data"
    }
   ],
   "source": [
    "import numpy as np\n",
    "import matplotlib.pyplot as plt\n",
    "%matplotlib inline\n",
    "#vector i+j\n",
    "v = np.array([1,1])\n",
    "\n",
    "#x axis\n",
    "ax = plt.axes()\n",
    "plt.plot(0,0,'or')\n",
    "ax.arrow(0,0,*v,color ='blue',head_width =0.2,head_length =0.25,linewidth =2.0)\n",
    "plt.xlim(-2,2)\n",
    "plt.ylim(-1,2)\n",
    "\n",
    "major_ticks = np.arange(-2,3)\n",
    "ax.set_xticks(major_ticks)\n",
    "ax.set_yticks(major_ticks)\n",
    "\n",
    "plt.grid(which='major',visible = True)\n"
   ]
  },
  {
   "cell_type": "code",
   "execution_count": 40,
   "id": "5d1e5bd8",
   "metadata": {
    "scrolled": true
   },
   "outputs": [
    {
     "data": {
      "image/png": "[encoded data removed]",
      "text/plain": [
       "<Figure size 640x480 with 1 Axes>"
      ]
     },
     "metadata": {},
     "output_type": "display_data"
    }
   ],
   "source": [
    "#scalar multiplication\n",
    "a=3\n",
    "av = a*v\n",
    "\n",
    "ax = plt.axes()\n",
    "ax.plot(0,0,'or')\n",
    "ax.arrow(0,0,*v,color ='blue',head_width =0.2,head_length =0.25,linewidth =2.0)\n",
    "ax.arrow(0,0,*av,linewidth=3.0,linestyle='dotted',color='c',head_width=0.3,head_length=0.2)\n",
    "plt.xlim(-2,5)\n",
    "plt.ylim(-2,5)\n",
    "plt.grid(visible=True,which='major')"
   ]
  },
  {
   "cell_type": "code",
   "execution_count": 41,
   "id": "850cc133",
   "metadata": {},
   "outputs": [
    {
     "data": {
      "image/png": "[encoded data removed]",
      "text/plain": [
       "<Figure size 640x480 with 1 Axes>"
      ]
     },
     "metadata": {},
     "output_type": "display_data"
    }
   ],
   "source": [
    "w = np.array([-2,2])\n",
    "v = np.array([1,1])\n",
    "a=-2\n",
    "av = a*v\n",
    "ax =plt.axes()\n",
    "ax.plot(0,0,'or')\n",
    "ax.arrow(0,0,*w,linewidth=2,head_length=.2,head_width=.3,color='green')\n",
    "ax.arrow(0,0,*v,color ='blue',head_width =0.2,head_length =0.25,linewidth =2.0)\n",
    "ax.arrow(0,0,*av,linewidth=3.0,linestyle='dotted',color='c',head_width=0.3,head_length=0.2)\n",
    "plt.xlim(-3,5)\n",
    "plt.ylim(-3,5)\n",
    "major_ticks = np.arange(-3,5)\n",
    "ax.set_xticks(major_ticks)\n",
    "ax.set_yticks(major_ticks)\n",
    "plt.grid(visible=True, which='major')"
   ]
  },
  {
   "cell_type": "markdown",
   "id": "497b15d5",
   "metadata": {},
   "source": [
    "### Vector Addition"
   ]
  },
  {
   "cell_type": "code",
   "execution_count": 42,
   "id": "7e1e999e",
   "metadata": {},
   "outputs": [
    {
     "data": {
      "image/png": "[encoded data removed]",
      "text/plain": [
       "<Figure size 640x480 with 1 Axes>"
      ]
     },
     "metadata": {},
     "output_type": "display_data"
    }
   ],
   "source": [
    "w = np.array([-2,2])\n",
    "v = np.array([1,1])\n",
    "vw = v+w\n",
    "\n",
    "ax =plt.axes()\n",
    "ax.plot(0,0,'or')\n",
    "ax.arrow(0,0,*v,linewidth=2,head_length=.2,head_width=.3,color='green')\n",
    "ax.arrow(v[0],v[1],*w,color ='blue',head_width =0.2,head_length =0.25,linewidth =2.0)\n",
    "ax.arrow(0,0,*vw,linewidth=2,head_length=.2,head_width=.3,color='black')\n",
    "\n",
    "plt.xlim(-3,5)\n",
    "plt.ylim(-3,5)\n",
    "\n",
    "major_ticks = np.arange(-3,5)\n",
    "ax.set_xticks(major_ticks)\n",
    "ax.set_yticks(major_ticks)\n",
    "\n",
    "plt.grid(visible=True, which='major')"
   ]
  },
  {
   "cell_type": "code",
   "execution_count": 67,
   "id": "40702973",
   "metadata": {
    "scrolled": true
   },
   "outputs": [
    {
     "name": "stdout",
     "output_type": "stream",
     "text": [
      "[-1  3]\n"
     ]
    },
    {
     "data": {
      "text/plain": [
       "(-3.0, 5.0)"
      ]
     },
     "execution_count": 67,
     "metadata": {},
     "output_type": "execute_result"
    },
    {
     "data": {
      "image/png": "[encoded data removed]",
      "text/plain": [
       "<Figure size 640x480 with 1 Axes>"
      ]
     },
     "metadata": {},
     "output_type": "display_data"
    }
   ],
   "source": [
    "import numpy as np\n",
    "import matplotlib.pyplot as plt\n",
    "v = np.array([-1,2])\n",
    "i_hat = np.array([1,0])\n",
    "j_hat = np.array([0,1])\n",
    "v_ihat = v[0]*i_hat\n",
    "v_jhat = v[1]*j_hat\n",
    "\n",
    "#Transformed ihat_t=[3,1],jhat_t=[1,2]\n",
    "ihat_t = np.array([3,1])\n",
    "jhat_t = np.array([1,2])\n",
    "v_ihat_t = v[0]*ihat_t\n",
    "v_jhat_t = v[1]*jhat_t\n",
    "v_t =v_ihat_t + v_jhat_t\n",
    "\n",
    "#transformation matrix[[3,1],[1,2]]multiplied to v[-1,2]\n",
    "t_mat = np.array([[3,1],[1,2]])\n",
    "v_t_mm = np.matmul(t_mat,v)\n",
    "print(v_t_mm)\n",
    "\n",
    "ax = plt.axes()\n",
    "ax.plot(0,0,'or')\n",
    "ax.arrow(0,0,*v_ihat, color='blue', linewidth=2.5, head_width=0.2, head_length=.3)\n",
    "ax.arrow(*v_ihat,*v_jhat,color='red', linewidth=2.5, head_width=0.2, head_length=.3)\n",
    "ax.arrow(0,0,*v, color='yellow', linewidth=2.5, head_width=0.2, head_length=.3)\n",
    "\n",
    "ax.arrow(0,0,*v_ihat_t, color='skyblue', linewidth=2.5, head_width=0.2, head_length=.3)\n",
    "ax.arrow(*v_ihat_t,*v_jhat_t,color='pink', linewidth=2.5, head_width=0.2, head_length=.3)\n",
    "ax.arrow(0,0,*v_t, color='orange', linewidth=2.5, head_width=0.2, head_length=.3)\n",
    "\n",
    "ax.plot(v_t_mm[0],v_t_mm[1],'go')\n",
    "#ax.arrow(0,0,*v_t_mm, color='pink',line_style ='doted', linewidth=2.5, head_width=0.2, head_length=.3)\n",
    "\n",
    "major_ticks = np.arange(-3,5)\n",
    "ax.set_xticks(major_ticks)\n",
    "ax.set_yticks(major_ticks)\n",
    "\n",
    "plt.grid(visible=True,which='major')\n",
    "plt.xlim(-5,2)\n",
    "plt.ylim(-3,5)"
   ]
  },
  {
   "cell_type": "code",
   "execution_count": null,
   "id": "96227592",
   "metadata": {},
   "outputs": [],
   "source": []
  },
  {
   "cell_type": "code",
   "execution_count": null,
   "id": "dff7acd0",
   "metadata": {},
   "outputs": [],
   "source": []
  }
 ],
 "metadata": {
  "kernelspec": {
   "display_name": "Python 3 (ipykernel)",
   "language": "python",
   "name": "python3"
  },
  "language_info": {
   "codemirror_mode": {
    "name": "ipython",
    "version": 3
   },
   "file_extension": ".py",
   "mimetype": "text/x-python",
   "name": "python",
   "nbconvert_exporter": "python",
   "pygments_lexer": "ipython3",
   "version": "3.11.3"
  }
 },
 "nbformat": 4,
 "nbformat_minor": 5
}
