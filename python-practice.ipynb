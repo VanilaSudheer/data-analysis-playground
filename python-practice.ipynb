{
 "cells": [
  {
   "cell_type": "markdown",
   "id": "29695580",
   "metadata": {},
   "source": [
    "### dict.get(key,defaultreturn)\n"
   ]
  },
  {
   "cell_type": "code",
   "execution_count": 13,
   "id": "b7a8506a",
   "metadata": {},
   "outputs": [
    {
     "data": {
      "text/plain": [
       "{'great': 2,\n",
       " 'expectations': 1,\n",
       " 'the': 2,\n",
       " 'adventures': 1,\n",
       " 'of': 1,\n",
       " 'sherlock': 1,\n",
       " 'holmes': 1}"
      ]
     },
     "execution_count": 13,
     "metadata": {},
     "output_type": "execute_result"
    }
   ],
   "source": [
    "book_title =  ['great', 'expectations','the', 'adventures', 'of', 'sherlock',\n",
    "               'holmes','the','great']\n",
    "word_counter ={}\n",
    "for word in book_title:\n",
    "    word_counter[word] = word_counter.get(word, 0) + 1\n",
    "word_counter"
   ]
  },
  {
   "cell_type": "code",
   "execution_count": 54,
   "id": "f4a8e13a",
   "metadata": {},
   "outputs": [
    {
     "name": "stdout",
     "output_type": "stream",
     "text": [
      "Jerry Seinfeld\n",
      "Julia Louis-Dreyfus\n"
     ]
    }
   ],
   "source": [
    "cast = {\n",
    "           \"Jerry Seinfeld\": \"Jerry Seinfeld\",\n",
    "           \"Julia Louis-Dreyfus\": \"Elaine Benes\",\n",
    "        \n",
    "       }\n",
    "for key in cast:\n",
    "    print(key)"
   ]
  },
  {
   "cell_type": "markdown",
   "id": "2e1924fc",
   "metadata": {},
   "source": [
    "### dict.items()"
   ]
  },
  {
   "cell_type": "code",
   "execution_count": 12,
   "id": "5f67e17e",
   "metadata": {},
   "outputs": [
    {
     "name": "stdout",
     "output_type": "stream",
     "text": [
      "Actor:Jerry Seinfeld Role:Jerry Seinfeld\n",
      "Actor:Julia Louis-Dreyfus Role:Elaine Benes\n",
      "Actor:Jason Alexander Role:George Costanza\n",
      "Actor:Michael Richards Role:Cosmo Kramer\n"
     ]
    }
   ],
   "source": [
    "for key,value in cast.items():\n",
    "    print(f'Actor:{key} Role:{value}')"
   ]
  },
  {
   "cell_type": "markdown",
   "id": "bc981b45",
   "metadata": {},
   "source": [
    "### dict.values()"
   ]
  },
  {
   "cell_type": "code",
   "execution_count": 15,
   "id": "f2e431f2",
   "metadata": {},
   "outputs": [
    {
     "name": "stdout",
     "output_type": "stream",
     "text": [
      "Jerry Seinfeld\n",
      "Elaine Benes\n",
      "George Costanza\n",
      "Cosmo Kramer\n"
     ]
    }
   ],
   "source": [
    "for value in cast.values():\n",
    "    print(value)"
   ]
  },
  {
   "cell_type": "code",
   "execution_count": 53,
   "id": "fd640020",
   "metadata": {},
   "outputs": [
    {
     "data": {
      "text/plain": [
       "720"
      ]
     },
     "execution_count": 53,
     "metadata": {},
     "output_type": "execute_result"
    }
   ],
   "source": [
    "number = 6   \n",
    "product = 1\n",
    "for i in range(1,number+1):\n",
    "    product *= i\n",
    "product"
   ]
  },
  {
   "cell_type": "markdown",
   "id": "6286852c",
   "metadata": {},
   "source": [
    "### zip and enumerate"
   ]
  },
  {
   "cell_type": "code",
   "execution_count": 19,
   "id": "985d6be3",
   "metadata": {},
   "outputs": [],
   "source": [
    "point = (1, 2, 3, 4)\n",
    "a, b, c, d = point  # Unpacking the values of point into individual variables a, b, c, d"
   ]
  },
  {
   "cell_type": "code",
   "execution_count": 20,
   "id": "f2b1aeed",
   "metadata": {},
   "outputs": [],
   "source": [
    "point = (1, 2, 3, 4)\n",
    "a, b, *rest = point  # Unpacking the first two values into a and b, and the rest into rest"
   ]
  },
  {
   "cell_type": "code",
   "execution_count": 23,
   "id": "07208b8f",
   "metadata": {},
   "outputs": [
    {
     "data": {
      "text/plain": [
       "['F: 23, 677, 4', 'J: 53, 233, 16']"
      ]
     },
     "execution_count": 23,
     "metadata": {},
     "output_type": "execute_result"
    }
   ],
   "source": [
    "x_coord = [23, 53]\n",
    "y_coord = [677, 233]\n",
    "z_coord = [4, 16]\n",
    "labels = [\"F\", \"J\"]\n",
    "\n",
    "points = []\n",
    "for point in zip(labels, x_coord, y_coord, z_coord):\n",
    "    points.append(\"{}: {}, {}, {}\".format(*point))\n",
    "points"
   ]
  },
  {
   "cell_type": "code",
   "execution_count": 49,
   "id": "6cfbed51",
   "metadata": {},
   "outputs": [
    {
     "data": {
      "text/plain": [
       "{'Barney': 72, 'Robin': 68}"
      ]
     },
     "execution_count": 49,
     "metadata": {},
     "output_type": "execute_result"
    }
   ],
   "source": [
    "person_names = [\"Barney\", \"Robin\"]\n",
    "person_heights = [72, 68]\n",
    "\n",
    "person = dict(zip(person_names, person_heights))\n",
    "person"
   ]
  },
  {
   "cell_type": "code",
   "execution_count": 50,
   "id": "adcab974",
   "metadata": {},
   "outputs": [
    {
     "data": {
      "text/plain": [
       "[('Barney', 72), ('Robin', 68)]"
      ]
     },
     "execution_count": 50,
     "metadata": {},
     "output_type": "execute_result"
    }
   ],
   "source": [
    "person = list(person.items())\n",
    "person"
   ]
  },
  {
   "cell_type": "code",
   "execution_count": 52,
   "id": "5ef69c3d",
   "metadata": {},
   "outputs": [
    {
     "name": "stdout",
     "output_type": "stream",
     "text": [
      "('Barney', 'Robin')\n",
      "(72, 68)\n"
     ]
    }
   ],
   "source": [
    "names,heights = zip(*person)\n",
    "print(names)\n",
    "print(heights)"
   ]
  },
  {
   "cell_type": "code",
   "execution_count": 39,
   "id": "7fbe9e51",
   "metadata": {},
   "outputs": [
    {
     "name": "stdout",
     "output_type": "stream",
     "text": [
      "[[1, 4, 7], [2, 5, 8], [3, 6, 9]]\n"
     ]
    }
   ],
   "source": [
    "matrix = [\n",
    "    [1, 2, 3],\n",
    "    [4, 5, 6],\n",
    "    [7, 8, 9]\n",
    "]\n",
    "\n",
    "transposed = [list(row) for row in zip(*matrix)]\n",
    "print(transposed)"
   ]
  },
  {
   "cell_type": "code",
   "execution_count": 42,
   "id": "3cfb73b3",
   "metadata": {},
   "outputs": [
    {
     "data": {
      "text/plain": [
       "((1, 4, 7), (2, 5, 8), (3, 6, 9))"
      ]
     },
     "execution_count": 42,
     "metadata": {},
     "output_type": "execute_result"
    }
   ],
   "source": [
    "matrix = [\n",
    "    [1, 2, 3],\n",
    "    [4, 5, 6],\n",
    "    [7, 8, 9]\n",
    "]\n",
    "transposed = tuple(zip(*matrix))\n",
    "transposed"
   ]
  },
  {
   "cell_type": "code",
   "execution_count": 47,
   "id": "5d10bd9f",
   "metadata": {},
   "outputs": [
    {
     "data": {
      "text/plain": [
       "['Barney Stinson 72', 'Robin Scherbatsky 68']"
      ]
     },
     "execution_count": 47,
     "metadata": {},
     "output_type": "execute_result"
    }
   ],
   "source": [
    "persons = [\"Barney Stinson\", \"Robin Scherbatsky\"]\n",
    "heights = [72, 68]\n",
    "for i,name in enumerate(persons):\n",
    "    persons[i] = name + ' ' + str(heights[i])\n",
    "persons"
   ]
  }
 ],
 "metadata": {
  "kernelspec": {
   "display_name": "Python 3 (ipykernel)",
   "language": "python",
   "name": "python3"
  },
  "language_info": {
   "codemirror_mode": {
    "name": "ipython",
    "version": 3
   },
   "file_extension": ".py",
   "mimetype": "text/x-python",
   "name": "python",
   "nbconvert_exporter": "python",
   "pygments_lexer": "ipython3",
   "version": "3.11.3"
  }
 },
 "nbformat": 4,
 "nbformat_minor": 5
}
