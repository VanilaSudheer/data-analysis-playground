{
 "cells": [
  {
   "cell_type": "markdown",
   "id": "c224c001",
   "metadata": {},
   "source": [
    "### dict.get(key,defaultreturn)\n"
   ]
  },
  {
   "cell_type": "code",
   "execution_count": 13,
   "id": "74a8e6f3",
   "metadata": {},
   "outputs": [
    {
     "data": {
      "text/plain": [
       "{'great': 2,\n",
       " 'expectations': 1,\n",
       " 'the': 2,\n",
       " 'adventures': 1,\n",
       " 'of': 1,\n",
       " 'sherlock': 1,\n",
       " 'holmes': 1}"
      ]
     },
     "execution_count": 13,
     "metadata": {},
     "output_type": "execute_result"
    }
   ],
   "source": [
    "book_title =  ['great', 'expectations','the', 'adventures', 'of', 'sherlock',\n",
    "               'holmes','the','great']\n",
    "word_counter ={}\n",
    "for word in book_title:\n",
    "    word_counter[word] = word_counter.get(word, 0) + 1\n",
    "word_counter"
   ]
  },
  {
   "cell_type": "code",
   "execution_count": 54,
   "id": "b01b209e",
   "metadata": {},
   "outputs": [
    {
     "name": "stdout",
     "output_type": "stream",
     "text": [
      "Jerry Seinfeld\n",
      "Julia Louis-Dreyfus\n"
     ]
    }
   ],
   "source": [
    "cast = {\n",
    "           \"Jerry Seinfeld\": \"Jerry Seinfeld\",\n",
    "           \"Julia Louis-Dreyfus\": \"Elaine Benes\",\n",
    "        \n",
    "       }\n",
    "for key in cast:\n",
    "    print(key)"
   ]
  },
  {
   "cell_type": "markdown",
   "id": "c2d9b9c2",
   "metadata": {},
   "source": [
    "### dict.items()"
   ]
  },
  {
   "cell_type": "code",
   "execution_count": 12,
   "id": "383b5071",
   "metadata": {},
   "outputs": [
    {
     "name": "stdout",
     "output_type": "stream",
     "text": [
      "Actor:Jerry Seinfeld Role:Jerry Seinfeld\n",
      "Actor:Julia Louis-Dreyfus Role:Elaine Benes\n",
      "Actor:Jason Alexander Role:George Costanza\n",
      "Actor:Michael Richards Role:Cosmo Kramer\n"
     ]
    }
   ],
   "source": [
    "for key,value in cast.items():\n",
    "    print(f'Actor:{key} Role:{value}')"
   ]
  },
  {
   "cell_type": "markdown",
   "id": "933361e5",
   "metadata": {},
   "source": [
    "### dict.values()"
   ]
  },
  {
   "cell_type": "code",
   "execution_count": 15,
   "id": "33e2cde5",
   "metadata": {},
   "outputs": [
    {
     "name": "stdout",
     "output_type": "stream",
     "text": [
      "Jerry Seinfeld\n",
      "Elaine Benes\n",
      "George Costanza\n",
      "Cosmo Kramer\n"
     ]
    }
   ],
   "source": [
    "for value in cast.values():\n",
    "    print(value)"
   ]
  },
  {
   "cell_type": "code",
   "execution_count": 53,
   "id": "c70ee57e",
   "metadata": {},
   "outputs": [
    {
     "data": {
      "text/plain": [
       "720"
      ]
     },
     "execution_count": 53,
     "metadata": {},
     "output_type": "execute_result"
    }
   ],
   "source": [
    "number = 6   \n",
    "product = 1\n",
    "for i in range(1,number+1):\n",
    "    product *= i\n",
    "product"
   ]
  },
  {
   "cell_type": "markdown",
   "id": "3c4eb0ff",
   "metadata": {},
   "source": [
    "### zip and enumerate"
   ]
  },
  {
   "cell_type": "code",
   "execution_count": 19,
   "id": "1a5b23d1",
   "metadata": {},
   "outputs": [],
   "source": [
    "point = (1, 2, 3, 4)\n",
    "a, b, c, d = point  # Unpacking the values of point into individual variables a, b, c, d"
   ]
  },
  {
   "cell_type": "code",
   "execution_count": 20,
   "id": "69c27f26",
   "metadata": {},
   "outputs": [],
   "source": [
    "point = (1, 2, 3, 4)\n",
    "a, b, *rest = point  # Unpacking the first two values into a and b, and the rest into rest"
   ]
  },
  {
   "cell_type": "code",
   "execution_count": 23,
   "id": "c454a9e9",
   "metadata": {},
   "outputs": [
    {
     "data": {
      "text/plain": [
       "['F: 23, 677, 4', 'J: 53, 233, 16']"
      ]
     },
     "execution_count": 23,
     "metadata": {},
     "output_type": "execute_result"
    }
   ],
   "source": [
    "x_coord = [23, 53]\n",
    "y_coord = [677, 233]\n",
    "z_coord = [4, 16]\n",
    "labels = [\"F\", \"J\"]\n",
    "\n",
    "points = []\n",
    "for point in zip(labels, x_coord, y_coord, z_coord):\n",
    "    points.append(\"{}: {}, {}, {}\".format(*point))\n",
    "points"
   ]
  },
  {
   "cell_type": "code",
   "execution_count": 49,
   "id": "1ea18574",
   "metadata": {},
   "outputs": [
    {
     "data": {
      "text/plain": [
       "{'Barney': 72, 'Robin': 68}"
      ]
     },
     "execution_count": 49,
     "metadata": {},
     "output_type": "execute_result"
    }
   ],
   "source": [
    "person_names = [\"Barney\", \"Robin\"]\n",
    "person_heights = [72, 68]\n",
    "\n",
    "person = dict(zip(person_names, person_heights))\n",
    "person"
   ]
  },
  {
   "cell_type": "code",
   "execution_count": 50,
   "id": "2b1d46e0",
   "metadata": {},
   "outputs": [
    {
     "data": {
      "text/plain": [
       "[('Barney', 72), ('Robin', 68)]"
      ]
     },
     "execution_count": 50,
     "metadata": {},
     "output_type": "execute_result"
    }
   ],
   "source": [
    "person = list(person.items())\n",
    "person"
   ]
  },
  {
   "cell_type": "code",
   "execution_count": 52,
   "id": "421f12f3",
   "metadata": {},
   "outputs": [
    {
     "name": "stdout",
     "output_type": "stream",
     "text": [
      "('Barney', 'Robin')\n",
      "(72, 68)\n"
     ]
    }
   ],
   "source": [
    "names,heights = zip(*person)\n",
    "print(names)\n",
    "print(heights)"
   ]
  },
  {
   "cell_type": "code",
   "execution_count": 39,
   "id": "1a273a26",
   "metadata": {},
   "outputs": [
    {
     "name": "stdout",
     "output_type": "stream",
     "text": [
      "[[1, 4, 7], [2, 5, 8], [3, 6, 9]]\n"
     ]
    }
   ],
   "source": [
    "matrix = [\n",
    "    [1, 2, 3],\n",
    "    [4, 5, 6],\n",
    "    [7, 8, 9]\n",
    "]\n",
    "\n",
    "transposed = [list(row) for row in zip(*matrix)]\n",
    "print(transposed)"
   ]
  },
  {
   "cell_type": "code",
   "execution_count": 42,
   "id": "1fdf77d9",
   "metadata": {},
   "outputs": [
    {
     "data": {
      "text/plain": [
       "((1, 4, 7), (2, 5, 8), (3, 6, 9))"
      ]
     },
     "execution_count": 42,
     "metadata": {},
     "output_type": "execute_result"
    }
   ],
   "source": [
    "matrix = [\n",
    "    [1, 2, 3],\n",
    "    [4, 5, 6],\n",
    "    [7, 8, 9]\n",
    "]\n",
    "transposed = tuple(zip(*matrix))\n",
    "transposed"
   ]
  },
  {
   "cell_type": "code",
   "execution_count": 55,
   "id": "90a73818",
   "metadata": {},
   "outputs": [
    {
     "data": {
      "text/plain": [
       "['Barney Stinson 72', 'Robin Scherbatsky 68']"
      ]
     },
     "execution_count": 55,
     "metadata": {},
     "output_type": "execute_result"
    }
   ],
   "source": [
    "persons = [\"Barney Stinson\", \"Robin Scherbatsky\"]\n",
    "heights = [72, 68]\n",
    "for i,name in enumerate(persons):\n",
    "    persons[i] = name + ' ' + str(heights[i])\n",
    "persons"
   ]
  },
  {
   "cell_type": "code",
   "execution_count": 57,
   "id": "a130bb43",
   "metadata": {},
   "outputs": [
    {
     "data": {
      "text/plain": [
       "[0, 1, 4, 9, 16, 25, 36, 49, 64]"
      ]
     },
     "execution_count": 57,
     "metadata": {},
     "output_type": "execute_result"
    }
   ],
   "source": [
    "lst_compr = [x ** 2 for x in range(9)]\n",
    "lst_compr"
   ]
  },
  {
   "cell_type": "code",
   "execution_count": 59,
   "id": "b4d52053",
   "metadata": {},
   "outputs": [
    {
     "data": {
      "text/plain": [
       "[0, 4, 16, 36, 64]"
      ]
     },
     "execution_count": 59,
     "metadata": {},
     "output_type": "execute_result"
    }
   ],
   "source": [
    "lst_compr = [x**2 for x in range(9) if x%2 == 0]\n",
    "lst_compr"
   ]
  },
  {
   "cell_type": "code",
   "execution_count": 60,
   "id": "b39d9337",
   "metadata": {},
   "outputs": [
    {
     "data": {
      "text/plain": [
       "[0, 1, 4, 27, 16, 125, 36, 343, 64]"
      ]
     },
     "execution_count": 60,
     "metadata": {},
     "output_type": "execute_result"
    }
   ],
   "source": [
    "lst_compr = [x**2 if x%2 == 0 else x**3 for x in range(9)]\n",
    "lst_compr"
   ]
  },
  {
   "cell_type": "code",
   "execution_count": 61,
   "id": "991583dd",
   "metadata": {},
   "outputs": [
    {
     "data": {
      "text/plain": [
       "['Rick Sanchez', 'Summer Smith', 'Beth Smith']"
      ]
     },
     "execution_count": 61,
     "metadata": {},
     "output_type": "execute_result"
    }
   ],
   "source": [
    "scores = {\n",
    "             \"Rick Sanchez\": 70,\n",
    "             \"Morty Smith\": 35,\n",
    "             \"Summer Smith\": 82,\n",
    "             \"Jerry Smith\": 23,\n",
    "             \"Beth Smith\": 98\n",
    "          }\n",
    "\n",
    "passed = [name for name,score in scores.items() if score>=65] # write your list comprehension here\n",
    "passed"
   ]
  },
  {
   "cell_type": "code",
   "execution_count": null,
   "id": "4b28de45",
   "metadata": {},
   "outputs": [],
   "source": [
    "from collections import Counter"
   ]
  },
  {
   "cell_type": "code",
   "execution_count": 103,
   "id": "245e8159",
   "metadata": {
    "scrolled": false
   },
   "outputs": [
    {
     "data": {
      "text/plain": [
       "{'a': 2, 'd': 2, 's': 2, 'e': 2, 'g': 1, 'r': 2, 'w': 1}"
      ]
     },
     "execution_count": 103,
     "metadata": {},
     "output_type": "execute_result"
    }
   ],
   "source": [
    "\n",
    "winners = [{1990:['a','d','r','s'],\n",
    "            2000:['w','d','e','s'],\n",
    "            2010:['a','e','r','g']}]\n",
    "all_winners =[element for winner in winners for sublist in winner.values() for element in sublist]\n",
    "output ={name : all_winners.count(name)for name in set(all_winners)}\n",
    "output\n"
   ]
  },
  {
   "cell_type": "code",
   "execution_count": 104,
   "id": "d7c79a0c",
   "metadata": {},
   "outputs": [
    {
     "data": {
      "text/plain": [
       "[1, 2, 3, 4, 5, 6, 7, 8]"
      ]
     },
     "execution_count": 104,
     "metadata": {},
     "output_type": "execute_result"
    }
   ],
   "source": [
    "nested_list = [[1, 2, 3], [4, 5], [6, 7, 8]]\n",
    "\n",
    "single_list = [element for sublist in nested_list for element in sublist]\n",
    "single_list"
   ]
  },
  {
   "cell_type": "code",
   "execution_count": 127,
   "id": "d5f04243",
   "metadata": {},
   "outputs": [
    {
     "name": "stdout",
     "output_type": "stream",
     "text": [
      "{'a': 2, 'd': 2, 'r': 2, 's': 2, 'w': 1, 'e': 2, 'g': 1}\n"
     ]
    }
   ],
   "source": [
    "nominated = {\n",
    "    1990: ['a', 'd', 'r', 's'],\n",
    "    2000: ['w', 'd', 'e', 's'],\n",
    "    2010: ['a', 'e', 'r', 'g']\n",
    "}\n",
    "# add 1 to value every time director appears in current list of directors\n",
    "nom_count_dict = {\n",
    "                  director: sum(1 for curr_lst_dir in nominated.values() if director in curr_lst_dir)\n",
    "                  for lst in nominated.values()\n",
    "                  for director in lst\n",
    "                                }\n",
    "\n",
    "print(nom_count_dict)"
   ]
  },
  {
   "cell_type": "code",
   "execution_count": null,
   "id": "cb352e47",
   "metadata": {},
   "outputs": [],
   "source": []
  },
  {
   "cell_type": "code",
   "execution_count": null,
   "id": "16085c6a",
   "metadata": {},
   "outputs": [],
   "source": []
  }
 ],
 "metadata": {
  "kernelspec": {
   "display_name": "Python 3 (ipykernel)",
   "language": "python",
   "name": "python3"
  },
  "language_info": {
   "codemirror_mode": {
    "name": "ipython",
    "version": 3
   },
   "file_extension": ".py",
   "mimetype": "text/x-python",
   "name": "python",
   "nbconvert_exporter": "python",
   "pygments_lexer": "ipython3",
   "version": "3.11.3"
  }
 },
 "nbformat": 4,
 "nbformat_minor": 5
}
